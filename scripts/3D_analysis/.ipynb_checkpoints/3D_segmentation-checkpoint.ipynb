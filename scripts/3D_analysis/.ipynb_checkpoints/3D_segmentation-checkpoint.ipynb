{
 "cells": [
  {
   "cell_type": "markdown",
   "metadata": {},
   "source": []
  },
  {
   "cell_type": "code",
   "execution_count": 1,
   "metadata": {},
   "outputs": [],
   "source": [
    "%reload_ext autoreload\n",
    "%autoreload 2\n",
    "%matplotlib inline"
   ]
  },
  {
   "cell_type": "code",
   "execution_count": 2,
   "metadata": {},
   "outputs": [],
   "source": [
    "from fastai.vision import *\n",
    "from torch import nn\n",
    "from collections import defaultdict\n",
    "from torch.utils.data import SequentialSampler\n",
    "from fastai3D import mysampler\n",
    "import configparser\n",
    "#from fastai3D import functions\n",
    "#from fastai3D import loader #does not comply "
   ]
  },
  {
   "cell_type": "markdown",
   "metadata": {},
   "source": [
    "# Configure and Filter data"
   ]
  },
  {
   "cell_type": "code",
   "execution_count": 3,
   "metadata": {},
   "outputs": [
    {
     "data": {
      "text/plain": [
       "['train_3D_oat.ini']"
      ]
     },
     "execution_count": 3,
     "metadata": {},
     "output_type": "execute_result"
    }
   ],
   "source": [
    "config = configparser.ConfigParser()\n",
    "config.read('train_3D_oat.ini')"
   ]
  },
  {
   "cell_type": "code",
   "execution_count": 4,
   "metadata": {},
   "outputs": [
    {
     "data": {
      "text/plain": [
       "[PosixPath('/home/suze/seed_images/Data_for_ML_Test/train/Oat_test/NewLabels'),\n",
       " PosixPath('/home/suze/seed_images/Data_for_ML_Test/train/Oat_test/Oat_3D_big_rot.pkl'),\n",
       " PosixPath('/home/suze/seed_images/Data_for_ML_Test/train/Oat_test/3D_pretrain_rot.pkl'),\n",
       " PosixPath('/home/suze/seed_images/Data_for_ML_Test/train/Oat_test/3D_pretrain.pkl'),\n",
       " PosixPath('/home/suze/seed_images/Data_for_ML_Test/train/Oat_test/3D_pretrain_rot2.pkl'),\n",
       " PosixPath('/home/suze/seed_images/Data_for_ML_Test/train/Oat_test/Images'),\n",
       " PosixPath('/home/suze/seed_images/Data_for_ML_Test/train/Oat_test/Test'),\n",
       " PosixPath('/home/suze/seed_images/Data_for_ML_Test/train/Oat_test/models'),\n",
       " PosixPath('/home/suze/seed_images/Data_for_ML_Test/train/Oat_test/Oat_big.pkl'),\n",
       " PosixPath('/home/suze/seed_images/Data_for_ML_Test/train/Oat_test/LabelsPredicted'),\n",
       " PosixPath('/home/suze/seed_images/Data_for_ML_Test/train/Oat_test/Oat_3D_big.pkl'),\n",
       " PosixPath('/home/suze/seed_images/Data_for_ML_Test/train/Oat_test/Oat_norot_big.pkl'),\n",
       " PosixPath('/home/suze/seed_images/Data_for_ML_Test/train/Oat_test/Oat_no_tfms.pkl'),\n",
       " PosixPath('/home/suze/seed_images/Data_for_ML_Test/train/Oat_test/valid.txt'),\n",
       " PosixPath('/home/suze/seed_images/Data_for_ML_Test/train/Oat_test/3D_test.pkl')]"
      ]
     },
     "execution_count": 4,
     "metadata": {},
     "output_type": "execute_result"
    }
   ],
   "source": [
    "path = Path(config['data']['dir'])\n",
    "path.ls()"
   ]
  },
  {
   "cell_type": "code",
   "execution_count": 5,
   "metadata": {
    "scrolled": true
   },
   "outputs": [],
   "source": [
    "#path = Path('/home/suze/Documents/Thesis/seed_images/Data_for_ML_Test/train') #suze_device\n",
    "#path = Path('/home/suze/seed_images/Data_for_ML_Test//test_model/Barley_test')\n",
    "#path.ls()"
   ]
  },
  {
   "cell_type": "code",
   "execution_count": 6,
   "metadata": {},
   "outputs": [],
   "source": [
    "#path_img = path/'Images' #should later be provided through ini file\n",
    "#path_lbl = path/'Labels' #should later be provided through ini file #suze_device\n",
    "#path_lbl = path/'NewLabels' #should later be provided through ini file"
   ]
  },
  {
   "cell_type": "code",
   "execution_count": 7,
   "metadata": {},
   "outputs": [],
   "source": [
    "path_img = path/config['data']['images']\n",
    "path_lbl = path/config['data']['labels']\n",
    "valid = config['data']['valid']\n",
    "classes = int(config['data']['classes'])\n",
    "model_in = config['data']['pretrain']\n",
    "model_name = config['data']['model']"
   ]
  },
  {
   "cell_type": "markdown",
   "metadata": {},
   "source": [
    "Uncomment in case of file issues"
   ]
  },
  {
   "cell_type": "code",
   "execution_count": 8,
   "metadata": {},
   "outputs": [],
   "source": [
    "#img_names=get_image_files(path_img)\n",
    "#img_names[:3]\n",
    "#lbl_names=get_image_files(path_lbl)\n",
    "#lbl_names[:3]"
   ]
  },
  {
   "cell_type": "markdown",
   "metadata": {},
   "source": [
    "function to find mask matching the image"
   ]
  },
  {
   "cell_type": "code",
   "execution_count": 9,
   "metadata": {},
   "outputs": [],
   "source": [
    "#def get_mask(x):\n",
    "#    return PosixPath(str(x)\n",
    "#            .replace('train','NewLabels')\n",
    "#            .replace('valid','NewLabels'))\n",
    "            #.replace('resampled', 'labels'))"
   ]
  },
  {
   "cell_type": "markdown",
   "metadata": {},
   "source": [
    "uncomment for error testing"
   ]
  },
  {
   "cell_type": "code",
   "execution_count": 10,
   "metadata": {},
   "outputs": [],
   "source": [
    "#mask = open_mask(get_mask(img_names[0]))\n",
    "#mask.show()\n",
    "#img = open_image(img_names[0])\n",
    "#img.show()"
   ]
  },
  {
   "cell_type": "code",
   "execution_count": 11,
   "metadata": {},
   "outputs": [],
   "source": [
    "#src_size = np.array(mask.shape[1:])\n",
    "#src_size,mask.data"
   ]
  },
  {
   "cell_type": "code",
   "execution_count": 12,
   "metadata": {},
   "outputs": [],
   "source": [
    "def get_mask(img):\n",
    "    return (path_lbl)/img.name\n",
    "\n",
    "def filter_background(img_list):\n",
    "    include=[]\n",
    "    for img in img_list:\n",
    "        mask = open_mask(get_mask(img))\n",
    "        count_total=(torch.unique(mask.data, return_counts=True))\n",
    "        if not count_total[0].tolist() == [0]:\n",
    "            include.append(img)\n",
    "    return include\n",
    "\n",
    "\"\"\"function to filter out images that only contain background; used to filter in the API; \n",
    "function has to return a boolean\n",
    "slow, every mask has to be opened to check the values\"\"\"\n",
    "def check_back(img):\n",
    "    mask = open_mask(get_mask(img))\n",
    "    count_total=(torch.unique(mask.data, return_counts=True))\n",
    "    if not count_total[0].tolist() == [0]:\n",
    "        return True\n",
    "    else:\n",
    "        return False\n",
    "\n",
    "def count_mask(img_list):\n",
    "    img_list = filter_background(img_list)\n",
    "    count_classes = defaultdict(int)\n",
    "    for img in img_list:\n",
    "        #return the occurence of every class in the mask for an image\n",
    "        mask = open_mask(get_mask(img))\n",
    "        count_total = torch.unique(mask.data, return_counts=True)\n",
    "        classes=count_total[0].tolist()\n",
    "        count_real=count_total[1].tolist()\n",
    "        for x, y in zip(classes, count_real):\n",
    "            count_classes[x] += y\n",
    "    return count_classes\n",
    "\n",
    "def img_train(path_img, valid):\n",
    "    #create a list of images not in validation set\n",
    "    path = path_img.parent\n",
    "    valid_names = loadtxt_str(path/valid)\n",
    "    img_names = get_image_files(path_img)\n",
    "    train_img = list(filter(lambda x: (x.name not in valid_names), img_names))\n",
    "    return train_img\n",
    "\n",
    "def acc_seeds(input, target):\n",
    "    target = target.squeeze(1)\n",
    "    mask = target != 0 #not interested in background\n",
    "    return (input.argmax(dim=1)[mask] == target[mask]).float().mean()"
   ]
  },
  {
   "cell_type": "markdown",
   "metadata": {},
   "source": [
    "### Calculate appropriate weights\n"
   ]
  },
  {
   "cell_type": "code",
   "execution_count": 13,
   "metadata": {},
   "outputs": [],
   "source": [
    "train_img = img_train(path_img, valid)"
   ]
  },
  {
   "cell_type": "code",
   "execution_count": 14,
   "metadata": {},
   "outputs": [],
   "source": [
    "#%time classes_count = count_mask(train_img)\n",
    "#classes_count\n",
    "#slow for big sets, make faster?\n",
    "#classes_count = defaultdict(int, {0: 2257029582, 1: 1081204683, 2: 118606496, 3: 68549863})\n",
    "classes_count = defaultdict(int, {0: 6594921884, 1: 3243614049, 2: 355819488, 3: 205649589})"
   ]
  },
  {
   "cell_type": "markdown",
   "metadata": {},
   "source": [
    "Check to make sure all classes are represented in the training set."
   ]
  },
  {
   "cell_type": "code",
   "execution_count": 15,
   "metadata": {},
   "outputs": [],
   "source": [
    "if len(classes_count.items()) != classes: print('Not all classes present in training data.')"
   ]
  },
  {
   "cell_type": "code",
   "execution_count": 16,
   "metadata": {},
   "outputs": [
    {
     "data": {
      "text/plain": [
       "[6594921884, 3243614049, 355819488, 205649589]"
      ]
     },
     "execution_count": 16,
     "metadata": {},
     "output_type": "execute_result"
    }
   ],
   "source": [
    "#append occurences in a list \n",
    "#seems redundant\n",
    "counts = []\n",
    "for c in classes_count:\n",
    "    counts.append(classes_count[c])\n",
    "counts\n",
    "#counts = [2257029582, 1081204683, 118606496, 68549863]"
   ]
  },
  {
   "cell_type": "code",
   "execution_count": 17,
   "metadata": {},
   "outputs": [
    {
     "data": {
      "text/plain": [
       "[0.031183021211961332, 0.06340137448331788, 0.5779604432458741, 1.0]"
      ]
     },
     "execution_count": 17,
     "metadata": {},
     "output_type": "execute_result"
    }
   ],
   "source": [
    "weight_ratios =[min(counts)/x for x in counts]\n",
    "weight_ratios\n",
    "#weight_ratios = [0.030371716678722734, 0.06340137448331788, 0.5779604432458741, 1.0]"
   ]
  },
  {
   "cell_type": "markdown",
   "metadata": {},
   "source": [
    "# Data Loading\n",
    "Load in data and apply transformations etc"
   ]
  },
  {
   "cell_type": "code",
   "execution_count": 18,
   "metadata": {},
   "outputs": [],
   "source": [
    "#Configure settings for training\n",
    "bs = int(config['training_settings']['batch_size'])\n",
    "wd = float(config['training_settings']['wd'])\n",
    "lr = float(config['training_settings']['lr'])\n",
    "size_s = int(config['training_settings']['size_s'])\n",
    "size_m = int(config['training_settings']['size_m'])\n",
    "size_l = int(config['training_settings']['size_l'])\n",
    "epochs_s1 = int(config['training_settings']['epochs_s1'])\n",
    "epochs_s2 = int(config['training_settings']['epochs_s2'])\n",
    "epochs_m = int(config['training_settings']['epochs_m'])\n",
    "epochs_l = int(config['training_settings']['epochs_l'])"
   ]
  },
  {
   "cell_type": "code",
   "execution_count": 19,
   "metadata": {
    "scrolled": true
   },
   "outputs": [],
   "source": [
    "src = (SegmentationItemList.from_folder(path, presort=True)\n",
    "       .filter_by_folder(include=config['data']['images'])\n",
    "       .filter_by_func(check_back)\n",
    "       .split_by_fname_file(valid)\n",
    "       .label_from_func(get_mask, classes=list(range(classes))))"
   ]
  },
  {
   "cell_type": "code",
   "execution_count": 20,
   "metadata": {},
   "outputs": [],
   "source": [
    "#data = (src.transform(get_transforms(), tfm_y=True, size=128)\n",
    "#       .databunch(bs=1)\n",
    "#       .normalize())\n",
    "#TO DO: transforms need to be applied after batching \n",
    "#data = (src.transform(tfm_y=True,\n",
    "#        size=size_s)\n",
    "#       .databunch(bs=1)\n",
    "#       .normalize())\n",
    "#data.show_batch(4, figsize=(10,7))\n",
    "#data.batch_size\n",
    "#bs = 3"
   ]
  },
  {
   "cell_type": "code",
   "execution_count": 21,
   "metadata": {},
   "outputs": [],
   "source": [
    "data = (src.transform(tfm_y=True,\n",
    "        size=size_l)\n",
    "       .databunch(bs=bs)\n",
    "       .normalize(imagenet_stats))"
   ]
  },
  {
   "cell_type": "markdown",
   "metadata": {},
   "source": [
    "### Change to custom sampler for order within batches"
   ]
  },
  {
   "cell_type": "code",
   "execution_count": 22,
   "metadata": {},
   "outputs": [],
   "source": [
    "from fastai3D import loader\n",
    "data.train_dl = data.train_dl.new(shuffle=False, drop_last=False, sampler=None, batch_sampler=mysampler.OrderedBatchSampler(SequentialSampler(data.train_dl), bs, True))"
   ]
  },
  {
   "cell_type": "code",
   "execution_count": 23,
   "metadata": {},
   "outputs": [
    {
     "data": {
      "text/plain": [
       "ImageDataBunch;\n",
       "\n",
       "Train: LabelList (9742 items)\n",
       "x: SegmentationItemList\n",
       "Image (3, 300, 300),Image (3, 300, 300),Image (3, 300, 300),Image (3, 300, 300),Image (3, 300, 300)\n",
       "y: SegmentationLabelList\n",
       "ImageSegment (1, 300, 300),ImageSegment (1, 300, 300),ImageSegment (1, 300, 300),ImageSegment (1, 300, 300),ImageSegment (1, 300, 300)\n",
       "Path: /home/suze/seed_images/Data_for_ML_Test/train/Oat_test;\n",
       "\n",
       "Valid: LabelList (4153 items)\n",
       "x: SegmentationItemList\n",
       "Image (3, 300, 300),Image (3, 300, 300),Image (3, 300, 300),Image (3, 300, 300),Image (3, 300, 300)\n",
       "y: SegmentationLabelList\n",
       "ImageSegment (1, 300, 300),ImageSegment (1, 300, 300),ImageSegment (1, 300, 300),ImageSegment (1, 300, 300),ImageSegment (1, 300, 300)\n",
       "Path: /home/suze/seed_images/Data_for_ML_Test/train/Oat_test;\n",
       "\n",
       "Test: None"
      ]
     },
     "execution_count": 23,
     "metadata": {},
     "output_type": "execute_result"
    }
   ],
   "source": [
    "data"
   ]
  },
  {
   "cell_type": "code",
   "execution_count": 24,
   "metadata": {},
   "outputs": [],
   "source": [
    "#data.add_tfm(rotate(degrees=(90,90), p=1))\n",
    "#data.train_ds.transform(rotate(degrees=(90,90), p=.3))"
   ]
  },
  {
   "cell_type": "code",
   "execution_count": 25,
   "metadata": {},
   "outputs": [
    {
     "data": {
      "image/png": "[encoded data removed]",
      "text/plain": [
       "<Figure size 720x504 with 4 Axes>"
      ]
     },
     "metadata": {
      "needs_background": "light"
     },
     "output_type": "display_data"
    }
   ],
   "source": [
    "data.show_batch(4, figsize=(10,7))"
   ]
  },
  {
   "cell_type": "code",
   "execution_count": 26,
   "metadata": {},
   "outputs": [],
   "source": [
    "#data\n",
    "#print(data.batch_size)"
   ]
  },
  {
   "cell_type": "markdown",
   "metadata": {},
   "source": [
    "# Create learner"
   ]
  },
  {
   "cell_type": "code",
   "execution_count": 27,
   "metadata": {},
   "outputs": [],
   "source": [
    "metrics=acc_seeds"
   ]
  },
  {
   "cell_type": "code",
   "execution_count": 28,
   "metadata": {},
   "outputs": [
    {
     "data": {
      "text/plain": [
       "Learner(data=ImageDataBunch;\n",
       "\n",
       "Train: LabelList (0 items)\n",
       "x: SegmentationItemList\n",
       "\n",
       "y: SegmentationLabelList\n",
       "\n",
       "Path: /home/suze/seed_images/Data_for_ML_Test/train/Oat_test;\n",
       "\n",
       "Valid: LabelList (0 items)\n",
       "x: SegmentationItemList\n",
       "\n",
       "y: SegmentationLabelList\n",
       "\n",
       "Path: /home/suze/seed_images/Data_for_ML_Test/train/Oat_test;\n",
       "\n",
       "Test: None, model=DynamicUnet(\n",
       "  (layers): ModuleList(\n",
       "    (0): Sequential(\n",
       "      (0): Conv2d(3, 64, kernel_size=(7, 7), stride=(2, 2), padding=(3, 3), bias=False)\n",
       "      (1): BatchNorm2d(64, eps=1e-05, momentum=0.1, affine=True, track_running_stats=True)\n",
       "      (2): ReLU(inplace=True)\n",
       "      (3): MaxPool2d(kernel_size=3, stride=2, padding=1, dilation=1, ceil_mode=False)\n",
       "      (4): Sequential(\n",
       "        (0): BasicBlock(\n",
       "          (conv1): Conv2d(64, 64, kernel_size=(3, 3), stride=(1, 1), padding=(1, 1), bias=False)\n",
       "          (bn1): BatchNorm2d(64, eps=1e-05, momentum=0.1, affine=True, track_running_stats=True)\n",
       "          (relu): ReLU(inplace=True)\n",
       "          (conv2): Conv2d(64, 64, kernel_size=(3, 3), stride=(1, 1), padding=(1, 1), bias=False)\n",
       "          (bn2): BatchNorm2d(64, eps=1e-05, momentum=0.1, affine=True, track_running_stats=True)\n",
       "        )\n",
       "        (1): BasicBlock(\n",
       "          (conv1): Conv2d(64, 64, kernel_size=(3, 3), stride=(1, 1), padding=(1, 1), bias=False)\n",
       "          (bn1): BatchNorm2d(64, eps=1e-05, momentum=0.1, affine=True, track_running_stats=True)\n",
       "          (relu): ReLU(inplace=True)\n",
       "          (conv2): Conv2d(64, 64, kernel_size=(3, 3), stride=(1, 1), padding=(1, 1), bias=False)\n",
       "          (bn2): BatchNorm2d(64, eps=1e-05, momentum=0.1, affine=True, track_running_stats=True)\n",
       "        )\n",
       "        (2): BasicBlock(\n",
       "          (conv1): Conv2d(64, 64, kernel_size=(3, 3), stride=(1, 1), padding=(1, 1), bias=False)\n",
       "          (bn1): BatchNorm2d(64, eps=1e-05, momentum=0.1, affine=True, track_running_stats=True)\n",
       "          (relu): ReLU(inplace=True)\n",
       "          (conv2): Conv2d(64, 64, kernel_size=(3, 3), stride=(1, 1), padding=(1, 1), bias=False)\n",
       "          (bn2): BatchNorm2d(64, eps=1e-05, momentum=0.1, affine=True, track_running_stats=True)\n",
       "        )\n",
       "      )\n",
       "      (5): Sequential(\n",
       "        (0): BasicBlock(\n",
       "          (conv1): Conv2d(64, 128, kernel_size=(3, 3), stride=(2, 2), padding=(1, 1), bias=False)\n",
       "          (bn1): BatchNorm2d(128, eps=1e-05, momentum=0.1, affine=True, track_running_stats=True)\n",
       "          (relu): ReLU(inplace=True)\n",
       "          (conv2): Conv2d(128, 128, kernel_size=(3, 3), stride=(1, 1), padding=(1, 1), bias=False)\n",
       "          (bn2): BatchNorm2d(128, eps=1e-05, momentum=0.1, affine=True, track_running_stats=True)\n",
       "          (downsample): Sequential(\n",
       "            (0): Conv2d(64, 128, kernel_size=(1, 1), stride=(2, 2), bias=False)\n",
       "            (1): BatchNorm2d(128, eps=1e-05, momentum=0.1, affine=True, track_running_stats=True)\n",
       "          )\n",
       "        )\n",
       "        (1): BasicBlock(\n",
       "          (conv1): Conv2d(128, 128, kernel_size=(3, 3), stride=(1, 1), padding=(1, 1), bias=False)\n",
       "          (bn1): BatchNorm2d(128, eps=1e-05, momentum=0.1, affine=True, track_running_stats=True)\n",
       "          (relu): ReLU(inplace=True)\n",
       "          (conv2): Conv2d(128, 128, kernel_size=(3, 3), stride=(1, 1), padding=(1, 1), bias=False)\n",
       "          (bn2): BatchNorm2d(128, eps=1e-05, momentum=0.1, affine=True, track_running_stats=True)\n",
       "        )\n",
       "        (2): BasicBlock(\n",
       "          (conv1): Conv2d(128, 128, kernel_size=(3, 3), stride=(1, 1), padding=(1, 1), bias=False)\n",
       "          (bn1): BatchNorm2d(128, eps=1e-05, momentum=0.1, affine=True, track_running_stats=True)\n",
       "          (relu): ReLU(inplace=True)\n",
       "          (conv2): Conv2d(128, 128, kernel_size=(3, 3), stride=(1, 1), padding=(1, 1), bias=False)\n",
       "          (bn2): BatchNorm2d(128, eps=1e-05, momentum=0.1, affine=True, track_running_stats=True)\n",
       "        )\n",
       "        (3): BasicBlock(\n",
       "          (conv1): Conv2d(128, 128, kernel_size=(3, 3), stride=(1, 1), padding=(1, 1), bias=False)\n",
       "          (bn1): BatchNorm2d(128, eps=1e-05, momentum=0.1, affine=True, track_running_stats=True)\n",
       "          (relu): ReLU(inplace=True)\n",
       "          (conv2): Conv2d(128, 128, kernel_size=(3, 3), stride=(1, 1), padding=(1, 1), bias=False)\n",
       "          (bn2): BatchNorm2d(128, eps=1e-05, momentum=0.1, affine=True, track_running_stats=True)\n",
       "        )\n",
       "      )\n",
       "      (6): Sequential(\n",
       "        (0): BasicBlock(\n",
       "          (conv1): Conv2d(128, 256, kernel_size=(3, 3), stride=(2, 2), padding=(1, 1), bias=False)\n",
       "          (bn1): BatchNorm2d(256, eps=1e-05, momentum=0.1, affine=True, track_running_stats=True)\n",
       "          (relu): ReLU(inplace=True)\n",
       "          (conv2): Conv2d(256, 256, kernel_size=(3, 3), stride=(1, 1), padding=(1, 1), bias=False)\n",
       "          (bn2): BatchNorm2d(256, eps=1e-05, momentum=0.1, affine=True, track_running_stats=True)\n",
       "          (downsample): Sequential(\n",
       "            (0): Conv2d(128, 256, kernel_size=(1, 1), stride=(2, 2), bias=False)\n",
       "            (1): BatchNorm2d(256, eps=1e-05, momentum=0.1, affine=True, track_running_stats=True)\n",
       "          )\n",
       "        )\n",
       "        (1): BasicBlock(\n",
       "          (conv1): Conv2d(256, 256, kernel_size=(3, 3), stride=(1, 1), padding=(1, 1), bias=False)\n",
       "          (bn1): BatchNorm2d(256, eps=1e-05, momentum=0.1, affine=True, track_running_stats=True)\n",
       "          (relu): ReLU(inplace=True)\n",
       "          (conv2): Conv2d(256, 256, kernel_size=(3, 3), stride=(1, 1), padding=(1, 1), bias=False)\n",
       "          (bn2): BatchNorm2d(256, eps=1e-05, momentum=0.1, affine=True, track_running_stats=True)\n",
       "        )\n",
       "        (2): BasicBlock(\n",
       "          (conv1): Conv2d(256, 256, kernel_size=(3, 3), stride=(1, 1), padding=(1, 1), bias=False)\n",
       "          (bn1): BatchNorm2d(256, eps=1e-05, momentum=0.1, affine=True, track_running_stats=True)\n",
       "          (relu): ReLU(inplace=True)\n",
       "          (conv2): Conv2d(256, 256, kernel_size=(3, 3), stride=(1, 1), padding=(1, 1), bias=False)\n",
       "          (bn2): BatchNorm2d(256, eps=1e-05, momentum=0.1, affine=True, track_running_stats=True)\n",
       "        )\n",
       "        (3): BasicBlock(\n",
       "          (conv1): Conv2d(256, 256, kernel_size=(3, 3), stride=(1, 1), padding=(1, 1), bias=False)\n",
       "          (bn1): BatchNorm2d(256, eps=1e-05, momentum=0.1, affine=True, track_running_stats=True)\n",
       "          (relu): ReLU(inplace=True)\n",
       "          (conv2): Conv2d(256, 256, kernel_size=(3, 3), stride=(1, 1), padding=(1, 1), bias=False)\n",
       "          (bn2): BatchNorm2d(256, eps=1e-05, momentum=0.1, affine=True, track_running_stats=True)\n",
       "        )\n",
       "        (4): BasicBlock(\n",
       "          (conv1): Conv2d(256, 256, kernel_size=(3, 3), stride=(1, 1), padding=(1, 1), bias=False)\n",
       "          (bn1): BatchNorm2d(256, eps=1e-05, momentum=0.1, affine=True, track_running_stats=True)\n",
       "          (relu): ReLU(inplace=True)\n",
       "          (conv2): Conv2d(256, 256, kernel_size=(3, 3), stride=(1, 1), padding=(1, 1), bias=False)\n",
       "          (bn2): BatchNorm2d(256, eps=1e-05, momentum=0.1, affine=True, track_running_stats=True)\n",
       "        )\n",
       "        (5): BasicBlock(\n",
       "          (conv1): Conv2d(256, 256, kernel_size=(3, 3), stride=(1, 1), padding=(1, 1), bias=False)\n",
       "          (bn1): BatchNorm2d(256, eps=1e-05, momentum=0.1, affine=True, track_running_stats=True)\n",
       "          (relu): ReLU(inplace=True)\n",
       "          (conv2): Conv2d(256, 256, kernel_size=(3, 3), stride=(1, 1), padding=(1, 1), bias=False)\n",
       "          (bn2): BatchNorm2d(256, eps=1e-05, momentum=0.1, affine=True, track_running_stats=True)\n",
       "        )\n",
       "      )\n",
       "      (7): Sequential(\n",
       "        (0): BasicBlock(\n",
       "          (conv1): Conv2d(256, 512, kernel_size=(3, 3), stride=(2, 2), padding=(1, 1), bias=False)\n",
       "          (bn1): BatchNorm2d(512, eps=1e-05, momentum=0.1, affine=True, track_running_stats=True)\n",
       "          (relu): ReLU(inplace=True)\n",
       "          (conv2): Conv2d(512, 512, kernel_size=(3, 3), stride=(1, 1), padding=(1, 1), bias=False)\n",
       "          (bn2): BatchNorm2d(512, eps=1e-05, momentum=0.1, affine=True, track_running_stats=True)\n",
       "          (downsample): Sequential(\n",
       "            (0): Conv2d(256, 512, kernel_size=(1, 1), stride=(2, 2), bias=False)\n",
       "            (1): BatchNorm2d(512, eps=1e-05, momentum=0.1, affine=True, track_running_stats=True)\n",
       "          )\n",
       "        )\n",
       "        (1): BasicBlock(\n",
       "          (conv1): Conv2d(512, 512, kernel_size=(3, 3), stride=(1, 1), padding=(1, 1), bias=False)\n",
       "          (bn1): BatchNorm2d(512, eps=1e-05, momentum=0.1, affine=True, track_running_stats=True)\n",
       "          (relu): ReLU(inplace=True)\n",
       "          (conv2): Conv2d(512, 512, kernel_size=(3, 3), stride=(1, 1), padding=(1, 1), bias=False)\n",
       "          (bn2): BatchNorm2d(512, eps=1e-05, momentum=0.1, affine=True, track_running_stats=True)\n",
       "        )\n",
       "        (2): BasicBlock(\n",
       "          (conv1): Conv2d(512, 512, kernel_size=(3, 3), stride=(1, 1), padding=(1, 1), bias=False)\n",
       "          (bn1): BatchNorm2d(512, eps=1e-05, momentum=0.1, affine=True, track_running_stats=True)\n",
       "          (relu): ReLU(inplace=True)\n",
       "          (conv2): Conv2d(512, 512, kernel_size=(3, 3), stride=(1, 1), padding=(1, 1), bias=False)\n",
       "          (bn2): BatchNorm2d(512, eps=1e-05, momentum=0.1, affine=True, track_running_stats=True)\n",
       "        )\n",
       "      )\n",
       "    )\n",
       "    (1): BatchNorm2d(512, eps=1e-05, momentum=0.1, affine=True, track_running_stats=True)\n",
       "    (2): ReLU()\n",
       "    (3): Sequential(\n",
       "      (0): Sequential(\n",
       "        (0): Conv2d(512, 1024, kernel_size=(3, 3), stride=(1, 1), padding=(1, 1))\n",
       "        (1): ReLU(inplace=True)\n",
       "      )\n",
       "      (1): Sequential(\n",
       "        (0): Conv2d(1024, 512, kernel_size=(3, 3), stride=(1, 1), padding=(1, 1))\n",
       "        (1): ReLU(inplace=True)\n",
       "      )\n",
       "    )\n",
       "    (4): UnetBlock(\n",
       "      (shuf): PixelShuffle_ICNR(\n",
       "        (conv): Sequential(\n",
       "          (0): Conv2d(512, 1024, kernel_size=(1, 1), stride=(1, 1))\n",
       "        )\n",
       "        (shuf): PixelShuffle(upscale_factor=2)\n",
       "        (pad): ReplicationPad2d((1, 0, 1, 0))\n",
       "        (blur): AvgPool2d(kernel_size=2, stride=1, padding=0)\n",
       "        (relu): ReLU(inplace=True)\n",
       "      )\n",
       "      (bn): BatchNorm2d(256, eps=1e-05, momentum=0.1, affine=True, track_running_stats=True)\n",
       "      (conv1): Sequential(\n",
       "        (0): Conv2d(512, 512, kernel_size=(3, 3), stride=(1, 1), padding=(1, 1))\n",
       "        (1): ReLU(inplace=True)\n",
       "      )\n",
       "      (conv2): Sequential(\n",
       "        (0): Conv2d(512, 512, kernel_size=(3, 3), stride=(1, 1), padding=(1, 1))\n",
       "        (1): ReLU(inplace=True)\n",
       "      )\n",
       "      (relu): ReLU()\n",
       "    )\n",
       "    (5): UnetBlock(\n",
       "      (shuf): PixelShuffle_ICNR(\n",
       "        (conv): Sequential(\n",
       "          (0): Conv2d(512, 1024, kernel_size=(1, 1), stride=(1, 1))\n",
       "        )\n",
       "        (shuf): PixelShuffle(upscale_factor=2)\n",
       "        (pad): ReplicationPad2d((1, 0, 1, 0))\n",
       "        (blur): AvgPool2d(kernel_size=2, stride=1, padding=0)\n",
       "        (relu): ReLU(inplace=True)\n",
       "      )\n",
       "      (bn): BatchNorm2d(128, eps=1e-05, momentum=0.1, affine=True, track_running_stats=True)\n",
       "      (conv1): Sequential(\n",
       "        (0): Conv2d(384, 384, kernel_size=(3, 3), stride=(1, 1), padding=(1, 1))\n",
       "        (1): ReLU(inplace=True)\n",
       "      )\n",
       "      (conv2): Sequential(\n",
       "        (0): Conv2d(384, 384, kernel_size=(3, 3), stride=(1, 1), padding=(1, 1))\n",
       "        (1): ReLU(inplace=True)\n",
       "      )\n",
       "      (relu): ReLU()\n",
       "    )\n",
       "    (6): UnetBlock(\n",
       "      (shuf): PixelShuffle_ICNR(\n",
       "        (conv): Sequential(\n",
       "          (0): Conv2d(384, 768, kernel_size=(1, 1), stride=(1, 1))\n",
       "        )\n",
       "        (shuf): PixelShuffle(upscale_factor=2)\n",
       "        (pad): ReplicationPad2d((1, 0, 1, 0))\n",
       "        (blur): AvgPool2d(kernel_size=2, stride=1, padding=0)\n",
       "        (relu): ReLU(inplace=True)\n",
       "      )\n",
       "      (bn): BatchNorm2d(64, eps=1e-05, momentum=0.1, affine=True, track_running_stats=True)\n",
       "      (conv1): Sequential(\n",
       "        (0): Conv2d(256, 256, kernel_size=(3, 3), stride=(1, 1), padding=(1, 1))\n",
       "        (1): ReLU(inplace=True)\n",
       "      )\n",
       "      (conv2): Sequential(\n",
       "        (0): Conv2d(256, 256, kernel_size=(3, 3), stride=(1, 1), padding=(1, 1))\n",
       "        (1): ReLU(inplace=True)\n",
       "      )\n",
       "      (relu): ReLU()\n",
       "    )\n",
       "    (7): UnetBlock(\n",
       "      (shuf): PixelShuffle_ICNR(\n",
       "        (conv): Sequential(\n",
       "          (0): Conv2d(256, 512, kernel_size=(1, 1), stride=(1, 1))\n",
       "        )\n",
       "        (shuf): PixelShuffle(upscale_factor=2)\n",
       "        (pad): ReplicationPad2d((1, 0, 1, 0))\n",
       "        (blur): AvgPool2d(kernel_size=2, stride=1, padding=0)\n",
       "        (relu): ReLU(inplace=True)\n",
       "      )\n",
       "      (bn): BatchNorm2d(64, eps=1e-05, momentum=0.1, affine=True, track_running_stats=True)\n",
       "      (conv1): Sequential(\n",
       "        (0): Conv2d(192, 96, kernel_size=(3, 3), stride=(1, 1), padding=(1, 1))\n",
       "        (1): ReLU(inplace=True)\n",
       "      )\n",
       "      (conv2): Sequential(\n",
       "        (0): Conv2d(96, 96, kernel_size=(3, 3), stride=(1, 1), padding=(1, 1))\n",
       "        (1): ReLU(inplace=True)\n",
       "      )\n",
       "      (relu): ReLU()\n",
       "    )\n",
       "    (8): PixelShuffle_ICNR(\n",
       "      (conv): Sequential(\n",
       "        (0): Conv2d(96, 384, kernel_size=(1, 1), stride=(1, 1))\n",
       "      )\n",
       "      (shuf): PixelShuffle(upscale_factor=2)\n",
       "      (pad): ReplicationPad2d((1, 0, 1, 0))\n",
       "      (blur): AvgPool2d(kernel_size=2, stride=1, padding=0)\n",
       "      (relu): ReLU(inplace=True)\n",
       "    )\n",
       "    (9): MergeLayer()\n",
       "    (10): SequentialEx(\n",
       "      (layers): ModuleList(\n",
       "        (0): Sequential(\n",
       "          (0): Conv2d(99, 99, kernel_size=(3, 3), stride=(1, 1), padding=(1, 1))\n",
       "          (1): ReLU(inplace=True)\n",
       "        )\n",
       "        (1): Sequential(\n",
       "          (0): Conv2d(99, 99, kernel_size=(3, 3), stride=(1, 1), padding=(1, 1))\n",
       "          (1): ReLU(inplace=True)\n",
       "        )\n",
       "        (2): MergeLayer()\n",
       "      )\n",
       "    )\n",
       "    (11): Sequential(\n",
       "      (0): Conv2d(99, 4, kernel_size=(1, 1), stride=(1, 1))\n",
       "    )\n",
       "  )\n",
       "), opt_func=functools.partial(<class 'torch.optim.adam.Adam'>, betas=(0.9, 0.99)), loss_func=FlattenedLoss of CrossEntropyLoss(), metrics=[<function acc_seeds at 0x7f086b393290>], true_wd=True, bn_wd=True, wd=0.01, train_bn=True, path=PosixPath('/home/suze/seed_images/Data_for_ML_Test/train/Oat_test'), model_dir='models', callback_fns=[functools.partial(<class 'fastai.basic_train.Recorder'>, add_time=True, silent=False)], callbacks=[], layer_groups=[Sequential(\n",
       "  (0): Conv2d(3, 64, kernel_size=(7, 7), stride=(2, 2), padding=(3, 3), bias=False)\n",
       "  (1): BatchNorm2d(64, eps=1e-05, momentum=0.1, affine=True, track_running_stats=True)\n",
       "  (2): ReLU(inplace=True)\n",
       "  (3): MaxPool2d(kernel_size=3, stride=2, padding=1, dilation=1, ceil_mode=False)\n",
       "  (4): Conv2d(64, 64, kernel_size=(3, 3), stride=(1, 1), padding=(1, 1), bias=False)\n",
       "  (5): BatchNorm2d(64, eps=1e-05, momentum=0.1, affine=True, track_running_stats=True)\n",
       "  (6): ReLU(inplace=True)\n",
       "  (7): Conv2d(64, 64, kernel_size=(3, 3), stride=(1, 1), padding=(1, 1), bias=False)\n",
       "  (8): BatchNorm2d(64, eps=1e-05, momentum=0.1, affine=True, track_running_stats=True)\n",
       "  (9): Conv2d(64, 64, kernel_size=(3, 3), stride=(1, 1), padding=(1, 1), bias=False)\n",
       "  (10): BatchNorm2d(64, eps=1e-05, momentum=0.1, affine=True, track_running_stats=True)\n",
       "  (11): ReLU(inplace=True)\n",
       "  (12): Conv2d(64, 64, kernel_size=(3, 3), stride=(1, 1), padding=(1, 1), bias=False)\n",
       "  (13): BatchNorm2d(64, eps=1e-05, momentum=0.1, affine=True, track_running_stats=True)\n",
       "  (14): Conv2d(64, 64, kernel_size=(3, 3), stride=(1, 1), padding=(1, 1), bias=False)\n",
       "  (15): BatchNorm2d(64, eps=1e-05, momentum=0.1, affine=True, track_running_stats=True)\n",
       "  (16): ReLU(inplace=True)\n",
       "  (17): Conv2d(64, 64, kernel_size=(3, 3), stride=(1, 1), padding=(1, 1), bias=False)\n",
       "  (18): BatchNorm2d(64, eps=1e-05, momentum=0.1, affine=True, track_running_stats=True)\n",
       "  (19): Conv2d(64, 128, kernel_size=(3, 3), stride=(2, 2), padding=(1, 1), bias=False)\n",
       "  (20): BatchNorm2d(128, eps=1e-05, momentum=0.1, affine=True, track_running_stats=True)\n",
       "  (21): ReLU(inplace=True)\n",
       "  (22): Conv2d(128, 128, kernel_size=(3, 3), stride=(1, 1), padding=(1, 1), bias=False)\n",
       "  (23): BatchNorm2d(128, eps=1e-05, momentum=0.1, affine=True, track_running_stats=True)\n",
       "  (24): Conv2d(64, 128, kernel_size=(1, 1), stride=(2, 2), bias=False)\n",
       "  (25): BatchNorm2d(128, eps=1e-05, momentum=0.1, affine=True, track_running_stats=True)\n",
       "  (26): Conv2d(128, 128, kernel_size=(3, 3), stride=(1, 1), padding=(1, 1), bias=False)\n",
       "  (27): BatchNorm2d(128, eps=1e-05, momentum=0.1, affine=True, track_running_stats=True)\n",
       "  (28): ReLU(inplace=True)\n",
       "  (29): Conv2d(128, 128, kernel_size=(3, 3), stride=(1, 1), padding=(1, 1), bias=False)\n",
       "  (30): BatchNorm2d(128, eps=1e-05, momentum=0.1, affine=True, track_running_stats=True)\n",
       "  (31): Conv2d(128, 128, kernel_size=(3, 3), stride=(1, 1), padding=(1, 1), bias=False)\n",
       "  (32): BatchNorm2d(128, eps=1e-05, momentum=0.1, affine=True, track_running_stats=True)\n",
       "  (33): ReLU(inplace=True)\n",
       "  (34): Conv2d(128, 128, kernel_size=(3, 3), stride=(1, 1), padding=(1, 1), bias=False)\n",
       "  (35): BatchNorm2d(128, eps=1e-05, momentum=0.1, affine=True, track_running_stats=True)\n",
       "  (36): Conv2d(128, 128, kernel_size=(3, 3), stride=(1, 1), padding=(1, 1), bias=False)\n",
       "  (37): BatchNorm2d(128, eps=1e-05, momentum=0.1, affine=True, track_running_stats=True)\n",
       "  (38): ReLU(inplace=True)\n",
       "  (39): Conv2d(128, 128, kernel_size=(3, 3), stride=(1, 1), padding=(1, 1), bias=False)\n",
       "  (40): BatchNorm2d(128, eps=1e-05, momentum=0.1, affine=True, track_running_stats=True)\n",
       "  (41): Conv2d(128, 256, kernel_size=(3, 3), stride=(2, 2), padding=(1, 1), bias=False)\n",
       "  (42): BatchNorm2d(256, eps=1e-05, momentum=0.1, affine=True, track_running_stats=True)\n",
       "  (43): ReLU(inplace=True)\n",
       "  (44): Conv2d(256, 256, kernel_size=(3, 3), stride=(1, 1), padding=(1, 1), bias=False)\n",
       "  (45): BatchNorm2d(256, eps=1e-05, momentum=0.1, affine=True, track_running_stats=True)\n",
       "  (46): Conv2d(128, 256, kernel_size=(1, 1), stride=(2, 2), bias=False)\n",
       "  (47): BatchNorm2d(256, eps=1e-05, momentum=0.1, affine=True, track_running_stats=True)\n",
       "  (48): Conv2d(256, 256, kernel_size=(3, 3), stride=(1, 1), padding=(1, 1), bias=False)\n",
       "  (49): BatchNorm2d(256, eps=1e-05, momentum=0.1, affine=True, track_running_stats=True)\n",
       "  (50): ReLU(inplace=True)\n",
       "  (51): Conv2d(256, 256, kernel_size=(3, 3), stride=(1, 1), padding=(1, 1), bias=False)\n",
       "  (52): BatchNorm2d(256, eps=1e-05, momentum=0.1, affine=True, track_running_stats=True)\n",
       "  (53): Conv2d(256, 256, kernel_size=(3, 3), stride=(1, 1), padding=(1, 1), bias=False)\n",
       "  (54): BatchNorm2d(256, eps=1e-05, momentum=0.1, affine=True, track_running_stats=True)\n",
       "  (55): ReLU(inplace=True)\n",
       "  (56): Conv2d(256, 256, kernel_size=(3, 3), stride=(1, 1), padding=(1, 1), bias=False)\n",
       "  (57): BatchNorm2d(256, eps=1e-05, momentum=0.1, affine=True, track_running_stats=True)\n",
       "  (58): Conv2d(256, 256, kernel_size=(3, 3), stride=(1, 1), padding=(1, 1), bias=False)\n",
       "  (59): BatchNorm2d(256, eps=1e-05, momentum=0.1, affine=True, track_running_stats=True)\n",
       "  (60): ReLU(inplace=True)\n",
       "  (61): Conv2d(256, 256, kernel_size=(3, 3), stride=(1, 1), padding=(1, 1), bias=False)\n",
       "  (62): BatchNorm2d(256, eps=1e-05, momentum=0.1, affine=True, track_running_stats=True)\n",
       "  (63): Conv2d(256, 256, kernel_size=(3, 3), stride=(1, 1), padding=(1, 1), bias=False)\n",
       "  (64): BatchNorm2d(256, eps=1e-05, momentum=0.1, affine=True, track_running_stats=True)\n",
       "  (65): ReLU(inplace=True)\n",
       "  (66): Conv2d(256, 256, kernel_size=(3, 3), stride=(1, 1), padding=(1, 1), bias=False)\n",
       "  (67): BatchNorm2d(256, eps=1e-05, momentum=0.1, affine=True, track_running_stats=True)\n",
       "  (68): Conv2d(256, 256, kernel_size=(3, 3), stride=(1, 1), padding=(1, 1), bias=False)\n",
       "  (69): BatchNorm2d(256, eps=1e-05, momentum=0.1, affine=True, track_running_stats=True)\n",
       "  (70): ReLU(inplace=True)\n",
       "  (71): Conv2d(256, 256, kernel_size=(3, 3), stride=(1, 1), padding=(1, 1), bias=False)\n",
       "  (72): BatchNorm2d(256, eps=1e-05, momentum=0.1, affine=True, track_running_stats=True)\n",
       "  (73): Conv2d(256, 512, kernel_size=(3, 3), stride=(2, 2), padding=(1, 1), bias=False)\n",
       "  (74): BatchNorm2d(512, eps=1e-05, momentum=0.1, affine=True, track_running_stats=True)\n",
       "  (75): ReLU(inplace=True)\n",
       "  (76): Conv2d(512, 512, kernel_size=(3, 3), stride=(1, 1), padding=(1, 1), bias=False)\n",
       "  (77): BatchNorm2d(512, eps=1e-05, momentum=0.1, affine=True, track_running_stats=True)\n",
       "  (78): Conv2d(256, 512, kernel_size=(1, 1), stride=(2, 2), bias=False)\n",
       "  (79): BatchNorm2d(512, eps=1e-05, momentum=0.1, affine=True, track_running_stats=True)\n",
       "  (80): Conv2d(512, 512, kernel_size=(3, 3), stride=(1, 1), padding=(1, 1), bias=False)\n",
       "  (81): BatchNorm2d(512, eps=1e-05, momentum=0.1, affine=True, track_running_stats=True)\n",
       "  (82): ReLU(inplace=True)\n",
       "  (83): Conv2d(512, 512, kernel_size=(3, 3), stride=(1, 1), padding=(1, 1), bias=False)\n",
       "  (84): BatchNorm2d(512, eps=1e-05, momentum=0.1, affine=True, track_running_stats=True)\n",
       "  (85): Conv2d(512, 512, kernel_size=(3, 3), stride=(1, 1), padding=(1, 1), bias=False)\n",
       "  (86): BatchNorm2d(512, eps=1e-05, momentum=0.1, affine=True, track_running_stats=True)\n",
       "  (87): ReLU(inplace=True)\n",
       "  (88): Conv2d(512, 512, kernel_size=(3, 3), stride=(1, 1), padding=(1, 1), bias=False)\n",
       "  (89): BatchNorm2d(512, eps=1e-05, momentum=0.1, affine=True, track_running_stats=True)\n",
       "  (90): BatchNorm2d(512, eps=1e-05, momentum=0.1, affine=True, track_running_stats=True)\n",
       "  (91): ReLU()\n",
       "  (92): Conv2d(512, 1024, kernel_size=(3, 3), stride=(1, 1), padding=(1, 1))\n",
       "  (93): ReLU(inplace=True)\n",
       "  (94): Conv2d(1024, 512, kernel_size=(3, 3), stride=(1, 1), padding=(1, 1))\n",
       "  (95): ReLU(inplace=True)\n",
       "  (96): Conv2d(512, 1024, kernel_size=(1, 1), stride=(1, 1))\n",
       "  (97): PixelShuffle(upscale_factor=2)\n",
       "  (98): ReplicationPad2d((1, 0, 1, 0))\n",
       "  (99): AvgPool2d(kernel_size=2, stride=1, padding=0)\n",
       "  (100): ReLU(inplace=True)\n",
       "  (101): BatchNorm2d(256, eps=1e-05, momentum=0.1, affine=True, track_running_stats=True)\n",
       "  (102): Conv2d(512, 512, kernel_size=(3, 3), stride=(1, 1), padding=(1, 1))\n",
       "  (103): ReLU(inplace=True)\n",
       "  (104): Conv2d(512, 512, kernel_size=(3, 3), stride=(1, 1), padding=(1, 1))\n",
       "  (105): ReLU(inplace=True)\n",
       "  (106): ReLU()\n",
       "  (107): Conv2d(512, 1024, kernel_size=(1, 1), stride=(1, 1))\n",
       "  (108): PixelShuffle(upscale_factor=2)\n",
       "  (109): ReplicationPad2d((1, 0, 1, 0))\n",
       "  (110): AvgPool2d(kernel_size=2, stride=1, padding=0)\n",
       "  (111): ReLU(inplace=True)\n",
       "  (112): BatchNorm2d(128, eps=1e-05, momentum=0.1, affine=True, track_running_stats=True)\n",
       "  (113): Conv2d(384, 384, kernel_size=(3, 3), stride=(1, 1), padding=(1, 1))\n",
       "  (114): ReLU(inplace=True)\n",
       "  (115): Conv2d(384, 384, kernel_size=(3, 3), stride=(1, 1), padding=(1, 1))\n",
       "  (116): ReLU(inplace=True)\n",
       "  (117): ReLU()\n",
       "  (118): Conv2d(384, 768, kernel_size=(1, 1), stride=(1, 1))\n",
       "  (119): PixelShuffle(upscale_factor=2)\n",
       "  (120): ReplicationPad2d((1, 0, 1, 0))\n",
       "  (121): AvgPool2d(kernel_size=2, stride=1, padding=0)\n",
       "  (122): ReLU(inplace=True)\n",
       "  (123): BatchNorm2d(64, eps=1e-05, momentum=0.1, affine=True, track_running_stats=True)\n",
       "  (124): Conv2d(256, 256, kernel_size=(3, 3), stride=(1, 1), padding=(1, 1))\n",
       "  (125): ReLU(inplace=True)\n",
       "  (126): Conv2d(256, 256, kernel_size=(3, 3), stride=(1, 1), padding=(1, 1))\n",
       "  (127): ReLU(inplace=True)\n",
       "  (128): ReLU()\n",
       "  (129): Conv2d(256, 512, kernel_size=(1, 1), stride=(1, 1))\n",
       "  (130): PixelShuffle(upscale_factor=2)\n",
       "  (131): ReplicationPad2d((1, 0, 1, 0))\n",
       "  (132): AvgPool2d(kernel_size=2, stride=1, padding=0)\n",
       "  (133): ReLU(inplace=True)\n",
       "  (134): BatchNorm2d(64, eps=1e-05, momentum=0.1, affine=True, track_running_stats=True)\n",
       "  (135): Conv2d(192, 96, kernel_size=(3, 3), stride=(1, 1), padding=(1, 1))\n",
       "  (136): ReLU(inplace=True)\n",
       "  (137): Conv2d(96, 96, kernel_size=(3, 3), stride=(1, 1), padding=(1, 1))\n",
       "  (138): ReLU(inplace=True)\n",
       "  (139): ReLU()\n",
       "  (140): Conv2d(96, 384, kernel_size=(1, 1), stride=(1, 1))\n",
       "  (141): PixelShuffle(upscale_factor=2)\n",
       "  (142): ReplicationPad2d((1, 0, 1, 0))\n",
       "  (143): AvgPool2d(kernel_size=2, stride=1, padding=0)\n",
       "  (144): ReLU(inplace=True)\n",
       "  (145): MergeLayer()\n",
       "  (146): Conv2d(99, 99, kernel_size=(3, 3), stride=(1, 1), padding=(1, 1))\n",
       "  (147): ReLU(inplace=True)\n",
       "  (148): Conv2d(99, 99, kernel_size=(3, 3), stride=(1, 1), padding=(1, 1))\n",
       "  (149): ReLU(inplace=True)\n",
       "  (150): MergeLayer()\n",
       "  (151): Conv2d(99, 4, kernel_size=(1, 1), stride=(1, 1))\n",
       ")], add_time=True, silent=False)"
      ]
     },
     "execution_count": 28,
     "metadata": {},
     "output_type": "execute_result"
    }
   ],
   "source": [
    "learn = unet_learner(data, models.resnet34, metrics=metrics, wd=wd)\n",
    "load_learner(path, file=model_in)"
   ]
  },
  {
   "cell_type": "code",
   "execution_count": 29,
   "metadata": {},
   "outputs": [],
   "source": [
    "#set class weights\n",
    "class_weights=torch.FloatTensor(weight_ratios)\n",
    "learn.crit = nn.CrossEntropyLoss(weight=class_weights.cuda())"
   ]
  },
  {
   "cell_type": "code",
   "execution_count": 30,
   "metadata": {},
   "outputs": [],
   "source": [
    "#learn.lr_find()\n",
    "#learn.recorder.plot()"
   ]
  },
  {
   "cell_type": "markdown",
   "metadata": {},
   "source": [
    "## Add 3D layers to learner"
   ]
  },
  {
   "cell_type": "code",
   "execution_count": 31,
   "metadata": {},
   "outputs": [],
   "source": [
    "def conv3_layer(ni:int, nf:int, ks:int=3, stride:int=1, padding:int=None, bias:bool=None, is_1d:bool=False,\n",
    "               is_2d:bool = False, trans_2d:bool = False,\n",
    "               norm_type:Optional[NormType]=NormType.Batch,  use_activ:bool=True, leaky:float=None,\n",
    "               transpose:bool=False, init:Callable=nn.init.kaiming_normal_, self_attention:bool=False):\n",
    "    \"Create a sequence of convolutional (`ni` to `nf`), ReLU (if `use_activ`) and batchnorm (if `bn`) layers.\"\n",
    "    if padding is None: padding = (ks-1)//2 if not transpose else 0\n",
    "    bn = norm_type in (NormType.Batch, NormType.BatchZero)\n",
    "    if bias is None: bias = not bn\n",
    "    conv_func = nn.ConvTranspose3d if transpose else nn.Conv1d if is_1d else nn.ConvTranspose2d if trans_2d else nn.Conv2d if is_2d else nn.Conv3d\n",
    "    conv = init_default(conv_func(ni, nf, kernel_size=ks, bias=bias, stride=stride, padding=padding), init)\n",
    "    if   norm_type==NormType.Weight:   conv = weight_norm(conv)\n",
    "    elif norm_type==NormType.Spectral: conv = spectral_norm(conv)\n",
    "    layers = [conv]\n",
    "    if use_activ: layers.append(relu(True, leaky=leaky))\n",
    "    if bn: layers.append((nn.BatchNorm1d if is_1d else nn.BatchNorm2d if is_2d else nn.BatchNorm3d)(nf))\n",
    "    if self_attention: layers.append(SelfAttention(nf))\n",
    "    return nn.Sequential(*layers)\n",
    "\n",
    "def stack_1(x):\n",
    "    return torch.stack(tuple(x), dim = 3)\n",
    "\n",
    "def stack_2(x):\n",
    "    return torch.unsqueeze(x,0)\n",
    "\n",
    "#stack_layers = nn.Sequential(\n",
    "#    Lambda(lambda x: torch.stack(tuple(x), dim = 3)),\n",
    "#    Lambda(lambda x: torch.unsqueeze(x,0))\n",
    "#)\n",
    "\n",
    "stack_layers = nn.Sequential(\n",
    "    Lambda(stack_1),\n",
    "    Lambda(stack_2)\n",
    ")\n",
    "\n",
    "\n",
    "def unstack_1(x):\n",
    "    return torch.squeeze(x, dim = 0)\n",
    "\n",
    "def unstack_2(x):\n",
    "    return torch.stack(torch.unbind(x, dim = 3), dim =0)\n",
    "\n",
    "#unstack_layers = nn.Sequential(\n",
    "#    Lambda(lambda x: torch.squeeze(x, dim = 0)),\n",
    "#    Lambda(lambda x: torch.stack(torch.unbind(x, dim = 3), dim =0))\n",
    "#)\n",
    "\n",
    "unstack_layers = nn.Sequential(\n",
    "    Lambda(unstack_1),\n",
    "    Lambda(unstack_2)\n",
    ")\n",
    "\n",
    "just3D = nn.Sequential(conv3_layer(4,64),conv3_layer(64,4))\n",
    "\n",
    "mini3DUnet = SequentialEx(conv3_layer(4, 64),\n",
    "                          conv3_layer(64,128),\n",
    "                          conv3_layer(128,64),\n",
    "                         conv3_layer(64,4),\n",
    "                         MergeLayer())\n",
    "\n",
    "#midi3DUnet = SequentialEx(conv3_layer(4,64),\n",
    "#                          SequentialEx(conv3_layer(64,128),\n",
    "#                                       (SequentialEx(conv3_layer(128,128), MergeLayer())),\n",
    "#                                      conv3_layer(128,64), MergeLayer()),\n",
    "#                         conv3_layer(64,4),\n",
    "#                         MergeLayer())\n",
    "\n",
    "midi3DUnet = SequentialEx(conv3_layer(4,64),\n",
    "                          SequentialEx(conv3_layer(64,128),\n",
    "                                       (SequentialEx(conv3_layer(128,128), MergeLayer())),\n",
    "                                      conv3_layer(128,64), MergeLayer()),\n",
    "                         nn.con,\n",
    "                         MergeLayer())"
   ]
  },
  {
   "cell_type": "code",
   "execution_count": 32,
   "metadata": {},
   "outputs": [
    {
     "data": {
      "text/plain": [
       "ModuleList(\n",
       "  (0): Sequential(\n",
       "    (0): Conv2d(3, 64, kernel_size=(7, 7), stride=(2, 2), padding=(3, 3), bias=False)\n",
       "    (1): BatchNorm2d(64, eps=1e-05, momentum=0.1, affine=True, track_running_stats=True)\n",
       "    (2): ReLU(inplace=True)\n",
       "    (3): MaxPool2d(kernel_size=3, stride=2, padding=1, dilation=1, ceil_mode=False)\n",
       "    (4): Sequential(\n",
       "      (0): BasicBlock(\n",
       "        (conv1): Conv2d(64, 64, kernel_size=(3, 3), stride=(1, 1), padding=(1, 1), bias=False)\n",
       "        (bn1): BatchNorm2d(64, eps=1e-05, momentum=0.1, affine=True, track_running_stats=True)\n",
       "        (relu): ReLU(inplace=True)\n",
       "        (conv2): Conv2d(64, 64, kernel_size=(3, 3), stride=(1, 1), padding=(1, 1), bias=False)\n",
       "        (bn2): BatchNorm2d(64, eps=1e-05, momentum=0.1, affine=True, track_running_stats=True)\n",
       "      )\n",
       "      (1): BasicBlock(\n",
       "        (conv1): Conv2d(64, 64, kernel_size=(3, 3), stride=(1, 1), padding=(1, 1), bias=False)\n",
       "        (bn1): BatchNorm2d(64, eps=1e-05, momentum=0.1, affine=True, track_running_stats=True)\n",
       "        (relu): ReLU(inplace=True)\n",
       "        (conv2): Conv2d(64, 64, kernel_size=(3, 3), stride=(1, 1), padding=(1, 1), bias=False)\n",
       "        (bn2): BatchNorm2d(64, eps=1e-05, momentum=0.1, affine=True, track_running_stats=True)\n",
       "      )\n",
       "      (2): BasicBlock(\n",
       "        (conv1): Conv2d(64, 64, kernel_size=(3, 3), stride=(1, 1), padding=(1, 1), bias=False)\n",
       "        (bn1): BatchNorm2d(64, eps=1e-05, momentum=0.1, affine=True, track_running_stats=True)\n",
       "        (relu): ReLU(inplace=True)\n",
       "        (conv2): Conv2d(64, 64, kernel_size=(3, 3), stride=(1, 1), padding=(1, 1), bias=False)\n",
       "        (bn2): BatchNorm2d(64, eps=1e-05, momentum=0.1, affine=True, track_running_stats=True)\n",
       "      )\n",
       "    )\n",
       "    (5): Sequential(\n",
       "      (0): BasicBlock(\n",
       "        (conv1): Conv2d(64, 128, kernel_size=(3, 3), stride=(2, 2), padding=(1, 1), bias=False)\n",
       "        (bn1): BatchNorm2d(128, eps=1e-05, momentum=0.1, affine=True, track_running_stats=True)\n",
       "        (relu): ReLU(inplace=True)\n",
       "        (conv2): Conv2d(128, 128, kernel_size=(3, 3), stride=(1, 1), padding=(1, 1), bias=False)\n",
       "        (bn2): BatchNorm2d(128, eps=1e-05, momentum=0.1, affine=True, track_running_stats=True)\n",
       "        (downsample): Sequential(\n",
       "          (0): Conv2d(64, 128, kernel_size=(1, 1), stride=(2, 2), bias=False)\n",
       "          (1): BatchNorm2d(128, eps=1e-05, momentum=0.1, affine=True, track_running_stats=True)\n",
       "        )\n",
       "      )\n",
       "      (1): BasicBlock(\n",
       "        (conv1): Conv2d(128, 128, kernel_size=(3, 3), stride=(1, 1), padding=(1, 1), bias=False)\n",
       "        (bn1): BatchNorm2d(128, eps=1e-05, momentum=0.1, affine=True, track_running_stats=True)\n",
       "        (relu): ReLU(inplace=True)\n",
       "        (conv2): Conv2d(128, 128, kernel_size=(3, 3), stride=(1, 1), padding=(1, 1), bias=False)\n",
       "        (bn2): BatchNorm2d(128, eps=1e-05, momentum=0.1, affine=True, track_running_stats=True)\n",
       "      )\n",
       "      (2): BasicBlock(\n",
       "        (conv1): Conv2d(128, 128, kernel_size=(3, 3), stride=(1, 1), padding=(1, 1), bias=False)\n",
       "        (bn1): BatchNorm2d(128, eps=1e-05, momentum=0.1, affine=True, track_running_stats=True)\n",
       "        (relu): ReLU(inplace=True)\n",
       "        (conv2): Conv2d(128, 128, kernel_size=(3, 3), stride=(1, 1), padding=(1, 1), bias=False)\n",
       "        (bn2): BatchNorm2d(128, eps=1e-05, momentum=0.1, affine=True, track_running_stats=True)\n",
       "      )\n",
       "      (3): BasicBlock(\n",
       "        (conv1): Conv2d(128, 128, kernel_size=(3, 3), stride=(1, 1), padding=(1, 1), bias=False)\n",
       "        (bn1): BatchNorm2d(128, eps=1e-05, momentum=0.1, affine=True, track_running_stats=True)\n",
       "        (relu): ReLU(inplace=True)\n",
       "        (conv2): Conv2d(128, 128, kernel_size=(3, 3), stride=(1, 1), padding=(1, 1), bias=False)\n",
       "        (bn2): BatchNorm2d(128, eps=1e-05, momentum=0.1, affine=True, track_running_stats=True)\n",
       "      )\n",
       "    )\n",
       "    (6): Sequential(\n",
       "      (0): BasicBlock(\n",
       "        (conv1): Conv2d(128, 256, kernel_size=(3, 3), stride=(2, 2), padding=(1, 1), bias=False)\n",
       "        (bn1): BatchNorm2d(256, eps=1e-05, momentum=0.1, affine=True, track_running_stats=True)\n",
       "        (relu): ReLU(inplace=True)\n",
       "        (conv2): Conv2d(256, 256, kernel_size=(3, 3), stride=(1, 1), padding=(1, 1), bias=False)\n",
       "        (bn2): BatchNorm2d(256, eps=1e-05, momentum=0.1, affine=True, track_running_stats=True)\n",
       "        (downsample): Sequential(\n",
       "          (0): Conv2d(128, 256, kernel_size=(1, 1), stride=(2, 2), bias=False)\n",
       "          (1): BatchNorm2d(256, eps=1e-05, momentum=0.1, affine=True, track_running_stats=True)\n",
       "        )\n",
       "      )\n",
       "      (1): BasicBlock(\n",
       "        (conv1): Conv2d(256, 256, kernel_size=(3, 3), stride=(1, 1), padding=(1, 1), bias=False)\n",
       "        (bn1): BatchNorm2d(256, eps=1e-05, momentum=0.1, affine=True, track_running_stats=True)\n",
       "        (relu): ReLU(inplace=True)\n",
       "        (conv2): Conv2d(256, 256, kernel_size=(3, 3), stride=(1, 1), padding=(1, 1), bias=False)\n",
       "        (bn2): BatchNorm2d(256, eps=1e-05, momentum=0.1, affine=True, track_running_stats=True)\n",
       "      )\n",
       "      (2): BasicBlock(\n",
       "        (conv1): Conv2d(256, 256, kernel_size=(3, 3), stride=(1, 1), padding=(1, 1), bias=False)\n",
       "        (bn1): BatchNorm2d(256, eps=1e-05, momentum=0.1, affine=True, track_running_stats=True)\n",
       "        (relu): ReLU(inplace=True)\n",
       "        (conv2): Conv2d(256, 256, kernel_size=(3, 3), stride=(1, 1), padding=(1, 1), bias=False)\n",
       "        (bn2): BatchNorm2d(256, eps=1e-05, momentum=0.1, affine=True, track_running_stats=True)\n",
       "      )\n",
       "      (3): BasicBlock(\n",
       "        (conv1): Conv2d(256, 256, kernel_size=(3, 3), stride=(1, 1), padding=(1, 1), bias=False)\n",
       "        (bn1): BatchNorm2d(256, eps=1e-05, momentum=0.1, affine=True, track_running_stats=True)\n",
       "        (relu): ReLU(inplace=True)\n",
       "        (conv2): Conv2d(256, 256, kernel_size=(3, 3), stride=(1, 1), padding=(1, 1), bias=False)\n",
       "        (bn2): BatchNorm2d(256, eps=1e-05, momentum=0.1, affine=True, track_running_stats=True)\n",
       "      )\n",
       "      (4): BasicBlock(\n",
       "        (conv1): Conv2d(256, 256, kernel_size=(3, 3), stride=(1, 1), padding=(1, 1), bias=False)\n",
       "        (bn1): BatchNorm2d(256, eps=1e-05, momentum=0.1, affine=True, track_running_stats=True)\n",
       "        (relu): ReLU(inplace=True)\n",
       "        (conv2): Conv2d(256, 256, kernel_size=(3, 3), stride=(1, 1), padding=(1, 1), bias=False)\n",
       "        (bn2): BatchNorm2d(256, eps=1e-05, momentum=0.1, affine=True, track_running_stats=True)\n",
       "      )\n",
       "      (5): BasicBlock(\n",
       "        (conv1): Conv2d(256, 256, kernel_size=(3, 3), stride=(1, 1), padding=(1, 1), bias=False)\n",
       "        (bn1): BatchNorm2d(256, eps=1e-05, momentum=0.1, affine=True, track_running_stats=True)\n",
       "        (relu): ReLU(inplace=True)\n",
       "        (conv2): Conv2d(256, 256, kernel_size=(3, 3), stride=(1, 1), padding=(1, 1), bias=False)\n",
       "        (bn2): BatchNorm2d(256, eps=1e-05, momentum=0.1, affine=True, track_running_stats=True)\n",
       "      )\n",
       "    )\n",
       "    (7): Sequential(\n",
       "      (0): BasicBlock(\n",
       "        (conv1): Conv2d(256, 512, kernel_size=(3, 3), stride=(2, 2), padding=(1, 1), bias=False)\n",
       "        (bn1): BatchNorm2d(512, eps=1e-05, momentum=0.1, affine=True, track_running_stats=True)\n",
       "        (relu): ReLU(inplace=True)\n",
       "        (conv2): Conv2d(512, 512, kernel_size=(3, 3), stride=(1, 1), padding=(1, 1), bias=False)\n",
       "        (bn2): BatchNorm2d(512, eps=1e-05, momentum=0.1, affine=True, track_running_stats=True)\n",
       "        (downsample): Sequential(\n",
       "          (0): Conv2d(256, 512, kernel_size=(1, 1), stride=(2, 2), bias=False)\n",
       "          (1): BatchNorm2d(512, eps=1e-05, momentum=0.1, affine=True, track_running_stats=True)\n",
       "        )\n",
       "      )\n",
       "      (1): BasicBlock(\n",
       "        (conv1): Conv2d(512, 512, kernel_size=(3, 3), stride=(1, 1), padding=(1, 1), bias=False)\n",
       "        (bn1): BatchNorm2d(512, eps=1e-05, momentum=0.1, affine=True, track_running_stats=True)\n",
       "        (relu): ReLU(inplace=True)\n",
       "        (conv2): Conv2d(512, 512, kernel_size=(3, 3), stride=(1, 1), padding=(1, 1), bias=False)\n",
       "        (bn2): BatchNorm2d(512, eps=1e-05, momentum=0.1, affine=True, track_running_stats=True)\n",
       "      )\n",
       "      (2): BasicBlock(\n",
       "        (conv1): Conv2d(512, 512, kernel_size=(3, 3), stride=(1, 1), padding=(1, 1), bias=False)\n",
       "        (bn1): BatchNorm2d(512, eps=1e-05, momentum=0.1, affine=True, track_running_stats=True)\n",
       "        (relu): ReLU(inplace=True)\n",
       "        (conv2): Conv2d(512, 512, kernel_size=(3, 3), stride=(1, 1), padding=(1, 1), bias=False)\n",
       "        (bn2): BatchNorm2d(512, eps=1e-05, momentum=0.1, affine=True, track_running_stats=True)\n",
       "      )\n",
       "    )\n",
       "  )\n",
       "  (1): BatchNorm2d(512, eps=1e-05, momentum=0.1, affine=True, track_running_stats=True)\n",
       "  (2): ReLU()\n",
       "  (3): Sequential(\n",
       "    (0): Sequential(\n",
       "      (0): Conv2d(512, 1024, kernel_size=(3, 3), stride=(1, 1), padding=(1, 1))\n",
       "      (1): ReLU(inplace=True)\n",
       "    )\n",
       "    (1): Sequential(\n",
       "      (0): Conv2d(1024, 512, kernel_size=(3, 3), stride=(1, 1), padding=(1, 1))\n",
       "      (1): ReLU(inplace=True)\n",
       "    )\n",
       "  )\n",
       "  (4): UnetBlock(\n",
       "    (shuf): PixelShuffle_ICNR(\n",
       "      (conv): Sequential(\n",
       "        (0): Conv2d(512, 1024, kernel_size=(1, 1), stride=(1, 1))\n",
       "      )\n",
       "      (shuf): PixelShuffle(upscale_factor=2)\n",
       "      (pad): ReplicationPad2d((1, 0, 1, 0))\n",
       "      (blur): AvgPool2d(kernel_size=2, stride=1, padding=0)\n",
       "      (relu): ReLU(inplace=True)\n",
       "    )\n",
       "    (bn): BatchNorm2d(256, eps=1e-05, momentum=0.1, affine=True, track_running_stats=True)\n",
       "    (conv1): Sequential(\n",
       "      (0): Conv2d(512, 512, kernel_size=(3, 3), stride=(1, 1), padding=(1, 1))\n",
       "      (1): ReLU(inplace=True)\n",
       "    )\n",
       "    (conv2): Sequential(\n",
       "      (0): Conv2d(512, 512, kernel_size=(3, 3), stride=(1, 1), padding=(1, 1))\n",
       "      (1): ReLU(inplace=True)\n",
       "    )\n",
       "    (relu): ReLU()\n",
       "  )\n",
       "  (5): UnetBlock(\n",
       "    (shuf): PixelShuffle_ICNR(\n",
       "      (conv): Sequential(\n",
       "        (0): Conv2d(512, 1024, kernel_size=(1, 1), stride=(1, 1))\n",
       "      )\n",
       "      (shuf): PixelShuffle(upscale_factor=2)\n",
       "      (pad): ReplicationPad2d((1, 0, 1, 0))\n",
       "      (blur): AvgPool2d(kernel_size=2, stride=1, padding=0)\n",
       "      (relu): ReLU(inplace=True)\n",
       "    )\n",
       "    (bn): BatchNorm2d(128, eps=1e-05, momentum=0.1, affine=True, track_running_stats=True)\n",
       "    (conv1): Sequential(\n",
       "      (0): Conv2d(384, 384, kernel_size=(3, 3), stride=(1, 1), padding=(1, 1))\n",
       "      (1): ReLU(inplace=True)\n",
       "    )\n",
       "    (conv2): Sequential(\n",
       "      (0): Conv2d(384, 384, kernel_size=(3, 3), stride=(1, 1), padding=(1, 1))\n",
       "      (1): ReLU(inplace=True)\n",
       "    )\n",
       "    (relu): ReLU()\n",
       "  )\n",
       "  (6): UnetBlock(\n",
       "    (shuf): PixelShuffle_ICNR(\n",
       "      (conv): Sequential(\n",
       "        (0): Conv2d(384, 768, kernel_size=(1, 1), stride=(1, 1))\n",
       "      )\n",
       "      (shuf): PixelShuffle(upscale_factor=2)\n",
       "      (pad): ReplicationPad2d((1, 0, 1, 0))\n",
       "      (blur): AvgPool2d(kernel_size=2, stride=1, padding=0)\n",
       "      (relu): ReLU(inplace=True)\n",
       "    )\n",
       "    (bn): BatchNorm2d(64, eps=1e-05, momentum=0.1, affine=True, track_running_stats=True)\n",
       "    (conv1): Sequential(\n",
       "      (0): Conv2d(256, 256, kernel_size=(3, 3), stride=(1, 1), padding=(1, 1))\n",
       "      (1): ReLU(inplace=True)\n",
       "    )\n",
       "    (conv2): Sequential(\n",
       "      (0): Conv2d(256, 256, kernel_size=(3, 3), stride=(1, 1), padding=(1, 1))\n",
       "      (1): ReLU(inplace=True)\n",
       "    )\n",
       "    (relu): ReLU()\n",
       "  )\n",
       "  (7): UnetBlock(\n",
       "    (shuf): PixelShuffle_ICNR(\n",
       "      (conv): Sequential(\n",
       "        (0): Conv2d(256, 512, kernel_size=(1, 1), stride=(1, 1))\n",
       "      )\n",
       "      (shuf): PixelShuffle(upscale_factor=2)\n",
       "      (pad): ReplicationPad2d((1, 0, 1, 0))\n",
       "      (blur): AvgPool2d(kernel_size=2, stride=1, padding=0)\n",
       "      (relu): ReLU(inplace=True)\n",
       "    )\n",
       "    (bn): BatchNorm2d(64, eps=1e-05, momentum=0.1, affine=True, track_running_stats=True)\n",
       "    (conv1): Sequential(\n",
       "      (0): Conv2d(192, 96, kernel_size=(3, 3), stride=(1, 1), padding=(1, 1))\n",
       "      (1): ReLU(inplace=True)\n",
       "    )\n",
       "    (conv2): Sequential(\n",
       "      (0): Conv2d(96, 96, kernel_size=(3, 3), stride=(1, 1), padding=(1, 1))\n",
       "      (1): ReLU(inplace=True)\n",
       "    )\n",
       "    (relu): ReLU()\n",
       "  )\n",
       "  (8): PixelShuffle_ICNR(\n",
       "    (conv): Sequential(\n",
       "      (0): Conv2d(96, 384, kernel_size=(1, 1), stride=(1, 1))\n",
       "    )\n",
       "    (shuf): PixelShuffle(upscale_factor=2)\n",
       "    (pad): ReplicationPad2d((1, 0, 1, 0))\n",
       "    (blur): AvgPool2d(kernel_size=2, stride=1, padding=0)\n",
       "    (relu): ReLU(inplace=True)\n",
       "  )\n",
       "  (9): MergeLayer()\n",
       "  (10): SequentialEx(\n",
       "    (layers): ModuleList(\n",
       "      (0): Sequential(\n",
       "        (0): Conv2d(99, 99, kernel_size=(3, 3), stride=(1, 1), padding=(1, 1))\n",
       "        (1): ReLU(inplace=True)\n",
       "      )\n",
       "      (1): Sequential(\n",
       "        (0): Conv2d(99, 99, kernel_size=(3, 3), stride=(1, 1), padding=(1, 1))\n",
       "        (1): ReLU(inplace=True)\n",
       "      )\n",
       "      (2): MergeLayer()\n",
       "    )\n",
       "  )\n",
       "  (11): Sequential(\n",
       "    (0): Conv2d(99, 4, kernel_size=(1, 1), stride=(1, 1))\n",
       "  )\n",
       "  (12): Sequential(\n",
       "    (0): Lambda()\n",
       "    (1): Lambda()\n",
       "  )\n",
       "  (13): SequentialEx(\n",
       "    (layers): ModuleList(\n",
       "      (0): Sequential(\n",
       "        (0): Conv3d(4, 64, kernel_size=(3, 3, 3), stride=(1, 1, 1), padding=(1, 1, 1), bias=False)\n",
       "        (1): ReLU(inplace=True)\n",
       "        (2): BatchNorm3d(64, eps=1e-05, momentum=0.1, affine=True, track_running_stats=True)\n",
       "      )\n",
       "      (1): SequentialEx(\n",
       "        (layers): ModuleList(\n",
       "          (0): Sequential(\n",
       "            (0): Conv3d(64, 128, kernel_size=(3, 3, 3), stride=(1, 1, 1), padding=(1, 1, 1), bias=False)\n",
       "            (1): ReLU(inplace=True)\n",
       "            (2): BatchNorm3d(128, eps=1e-05, momentum=0.1, affine=True, track_running_stats=True)\n",
       "          )\n",
       "          (1): SequentialEx(\n",
       "            (layers): ModuleList(\n",
       "              (0): Sequential(\n",
       "                (0): Conv3d(128, 128, kernel_size=(3, 3, 3), stride=(1, 1, 1), padding=(1, 1, 1), bias=False)\n",
       "                (1): ReLU(inplace=True)\n",
       "                (2): BatchNorm3d(128, eps=1e-05, momentum=0.1, affine=True, track_running_stats=True)\n",
       "              )\n",
       "              (1): MergeLayer()\n",
       "            )\n",
       "          )\n",
       "          (2): Sequential(\n",
       "            (0): Conv3d(128, 64, kernel_size=(3, 3, 3), stride=(1, 1, 1), padding=(1, 1, 1), bias=False)\n",
       "            (1): ReLU(inplace=True)\n",
       "            (2): BatchNorm3d(64, eps=1e-05, momentum=0.1, affine=True, track_running_stats=True)\n",
       "          )\n",
       "          (3): MergeLayer()\n",
       "        )\n",
       "      )\n",
       "      (2): Sequential(\n",
       "        (0): Conv3d(64, 4, kernel_size=(3, 3, 3), stride=(1, 1, 1), padding=(1, 1, 1), bias=False)\n",
       "        (1): ReLU(inplace=True)\n",
       "        (2): BatchNorm3d(4, eps=1e-05, momentum=0.1, affine=True, track_running_stats=True)\n",
       "      )\n",
       "      (3): MergeLayer()\n",
       "    )\n",
       "  )\n",
       "  (14): Sequential(\n",
       "    (0): Lambda()\n",
       "    (1): Lambda()\n",
       "  )\n",
       ")"
      ]
     },
     "execution_count": 32,
     "metadata": {},
     "output_type": "execute_result"
    }
   ],
   "source": [
    "learn.model.append(stack_layers.cuda())\n",
    "learn.model.append(midi3DUnet.cuda())\n",
    "learn.model.append(unstack_layers.cuda())"
   ]
  },
  {
   "cell_type": "code",
   "execution_count": 33,
   "metadata": {},
   "outputs": [
    {
     "data": {
      "text/plain": [
       "DynamicUnet\n",
       "======================================================================\n",
       "Layer (type)         Output Shape         Param #    Trainable \n",
       "======================================================================\n",
       "Conv2d               [64, 150, 150]       9,408      False     \n",
       "______________________________________________________________________\n",
       "BatchNorm2d          [64, 150, 150]       128        True      \n",
       "______________________________________________________________________\n",
       "ReLU                 [64, 150, 150]       0          False     \n",
       "______________________________________________________________________\n",
       "MaxPool2d            [64, 75, 75]         0          False     \n",
       "______________________________________________________________________\n",
       "Conv2d               [64, 75, 75]         36,864     False     \n",
       "______________________________________________________________________\n",
       "BatchNorm2d          [64, 75, 75]         128        True      \n",
       "______________________________________________________________________\n",
       "ReLU                 [64, 75, 75]         0          False     \n",
       "______________________________________________________________________\n",
       "Conv2d               [64, 75, 75]         36,864     False     \n",
       "______________________________________________________________________\n",
       "BatchNorm2d          [64, 75, 75]         128        True      \n",
       "______________________________________________________________________\n",
       "Conv2d               [64, 75, 75]         36,864     False     \n",
       "______________________________________________________________________\n",
       "BatchNorm2d          [64, 75, 75]         128        True      \n",
       "______________________________________________________________________\n",
       "ReLU                 [64, 75, 75]         0          False     \n",
       "______________________________________________________________________\n",
       "Conv2d               [64, 75, 75]         36,864     False     \n",
       "______________________________________________________________________\n",
       "BatchNorm2d          [64, 75, 75]         128        True      \n",
       "______________________________________________________________________\n",
       "Conv2d               [64, 75, 75]         36,864     False     \n",
       "______________________________________________________________________\n",
       "BatchNorm2d          [64, 75, 75]         128        True      \n",
       "______________________________________________________________________\n",
       "ReLU                 [64, 75, 75]         0          False     \n",
       "______________________________________________________________________\n",
       "Conv2d               [64, 75, 75]         36,864     False     \n",
       "______________________________________________________________________\n",
       "BatchNorm2d          [64, 75, 75]         128        True      \n",
       "______________________________________________________________________\n",
       "Conv2d               [128, 38, 38]        73,728     False     \n",
       "______________________________________________________________________\n",
       "BatchNorm2d          [128, 38, 38]        256        True      \n",
       "______________________________________________________________________\n",
       "ReLU                 [128, 38, 38]        0          False     \n",
       "______________________________________________________________________\n",
       "Conv2d               [128, 38, 38]        147,456    False     \n",
       "______________________________________________________________________\n",
       "BatchNorm2d          [128, 38, 38]        256        True      \n",
       "______________________________________________________________________\n",
       "Conv2d               [128, 38, 38]        8,192      False     \n",
       "______________________________________________________________________\n",
       "BatchNorm2d          [128, 38, 38]        256        True      \n",
       "______________________________________________________________________\n",
       "Conv2d               [128, 38, 38]        147,456    False     \n",
       "______________________________________________________________________\n",
       "BatchNorm2d          [128, 38, 38]        256        True      \n",
       "______________________________________________________________________\n",
       "ReLU                 [128, 38, 38]        0          False     \n",
       "______________________________________________________________________\n",
       "Conv2d               [128, 38, 38]        147,456    False     \n",
       "______________________________________________________________________\n",
       "BatchNorm2d          [128, 38, 38]        256        True      \n",
       "______________________________________________________________________\n",
       "Conv2d               [128, 38, 38]        147,456    False     \n",
       "______________________________________________________________________\n",
       "BatchNorm2d          [128, 38, 38]        256        True      \n",
       "______________________________________________________________________\n",
       "ReLU                 [128, 38, 38]        0          False     \n",
       "______________________________________________________________________\n",
       "Conv2d               [128, 38, 38]        147,456    False     \n",
       "______________________________________________________________________\n",
       "BatchNorm2d          [128, 38, 38]        256        True      \n",
       "______________________________________________________________________\n",
       "Conv2d               [128, 38, 38]        147,456    False     \n",
       "______________________________________________________________________\n",
       "BatchNorm2d          [128, 38, 38]        256        True      \n",
       "______________________________________________________________________\n",
       "ReLU                 [128, 38, 38]        0          False     \n",
       "______________________________________________________________________\n",
       "Conv2d               [128, 38, 38]        147,456    False     \n",
       "______________________________________________________________________\n",
       "BatchNorm2d          [128, 38, 38]        256        True      \n",
       "______________________________________________________________________\n",
       "Conv2d               [256, 19, 19]        294,912    False     \n",
       "______________________________________________________________________\n",
       "BatchNorm2d          [256, 19, 19]        512        True      \n",
       "______________________________________________________________________\n",
       "ReLU                 [256, 19, 19]        0          False     \n",
       "______________________________________________________________________\n",
       "Conv2d               [256, 19, 19]        589,824    False     \n",
       "______________________________________________________________________\n",
       "BatchNorm2d          [256, 19, 19]        512        True      \n",
       "______________________________________________________________________\n",
       "Conv2d               [256, 19, 19]        32,768     False     \n",
       "______________________________________________________________________\n",
       "BatchNorm2d          [256, 19, 19]        512        True      \n",
       "______________________________________________________________________\n",
       "Conv2d               [256, 19, 19]        589,824    False     \n",
       "______________________________________________________________________\n",
       "BatchNorm2d          [256, 19, 19]        512        True      \n",
       "______________________________________________________________________\n",
       "ReLU                 [256, 19, 19]        0          False     \n",
       "______________________________________________________________________\n",
       "Conv2d               [256, 19, 19]        589,824    False     \n",
       "______________________________________________________________________\n",
       "BatchNorm2d          [256, 19, 19]        512        True      \n",
       "______________________________________________________________________\n",
       "Conv2d               [256, 19, 19]        589,824    False     \n",
       "______________________________________________________________________\n",
       "BatchNorm2d          [256, 19, 19]        512        True      \n",
       "______________________________________________________________________\n",
       "ReLU                 [256, 19, 19]        0          False     \n",
       "______________________________________________________________________\n",
       "Conv2d               [256, 19, 19]        589,824    False     \n",
       "______________________________________________________________________\n",
       "BatchNorm2d          [256, 19, 19]        512        True      \n",
       "______________________________________________________________________\n",
       "Conv2d               [256, 19, 19]        589,824    False     \n",
       "______________________________________________________________________\n",
       "BatchNorm2d          [256, 19, 19]        512        True      \n",
       "______________________________________________________________________\n",
       "ReLU                 [256, 19, 19]        0          False     \n",
       "______________________________________________________________________\n",
       "Conv2d               [256, 19, 19]        589,824    False     \n",
       "______________________________________________________________________\n",
       "BatchNorm2d          [256, 19, 19]        512        True      \n",
       "______________________________________________________________________\n",
       "Conv2d               [256, 19, 19]        589,824    False     \n",
       "______________________________________________________________________\n",
       "BatchNorm2d          [256, 19, 19]        512        True      \n",
       "______________________________________________________________________\n",
       "ReLU                 [256, 19, 19]        0          False     \n",
       "______________________________________________________________________\n",
       "Conv2d               [256, 19, 19]        589,824    False     \n",
       "______________________________________________________________________\n",
       "BatchNorm2d          [256, 19, 19]        512        True      \n",
       "______________________________________________________________________\n",
       "Conv2d               [256, 19, 19]        589,824    False     \n",
       "______________________________________________________________________\n",
       "BatchNorm2d          [256, 19, 19]        512        True      \n",
       "______________________________________________________________________\n",
       "ReLU                 [256, 19, 19]        0          False     \n",
       "______________________________________________________________________\n",
       "Conv2d               [256, 19, 19]        589,824    False     \n",
       "______________________________________________________________________\n",
       "BatchNorm2d          [256, 19, 19]        512        True      \n",
       "______________________________________________________________________\n",
       "Conv2d               [512, 10, 10]        1,179,648  False     \n",
       "______________________________________________________________________\n",
       "BatchNorm2d          [512, 10, 10]        1,024      True      \n",
       "______________________________________________________________________\n",
       "ReLU                 [512, 10, 10]        0          False     \n",
       "______________________________________________________________________\n",
       "Conv2d               [512, 10, 10]        2,359,296  False     \n",
       "______________________________________________________________________\n",
       "BatchNorm2d          [512, 10, 10]        1,024      True      \n",
       "______________________________________________________________________\n",
       "Conv2d               [512, 10, 10]        131,072    False     \n",
       "______________________________________________________________________\n",
       "BatchNorm2d          [512, 10, 10]        1,024      True      \n",
       "______________________________________________________________________\n",
       "Conv2d               [512, 10, 10]        2,359,296  False     \n",
       "______________________________________________________________________\n",
       "BatchNorm2d          [512, 10, 10]        1,024      True      \n",
       "______________________________________________________________________\n",
       "ReLU                 [512, 10, 10]        0          False     \n",
       "______________________________________________________________________\n",
       "Conv2d               [512, 10, 10]        2,359,296  False     \n",
       "______________________________________________________________________\n",
       "BatchNorm2d          [512, 10, 10]        1,024      True      \n",
       "______________________________________________________________________\n",
       "Conv2d               [512, 10, 10]        2,359,296  False     \n",
       "______________________________________________________________________\n",
       "BatchNorm2d          [512, 10, 10]        1,024      True      \n",
       "______________________________________________________________________\n",
       "ReLU                 [512, 10, 10]        0          False     \n",
       "______________________________________________________________________\n",
       "Conv2d               [512, 10, 10]        2,359,296  False     \n",
       "______________________________________________________________________\n",
       "BatchNorm2d          [512, 10, 10]        1,024      True      \n",
       "______________________________________________________________________\n",
       "BatchNorm2d          [512, 10, 10]        1,024      True      \n",
       "______________________________________________________________________\n",
       "ReLU                 [512, 10, 10]        0          False     \n",
       "______________________________________________________________________\n",
       "Conv2d               [1024, 10, 10]       4,719,616  True      \n",
       "______________________________________________________________________\n",
       "ReLU                 [1024, 10, 10]       0          False     \n",
       "______________________________________________________________________\n",
       "Conv2d               [512, 10, 10]        4,719,104  True      \n",
       "______________________________________________________________________\n",
       "ReLU                 [512, 10, 10]        0          False     \n",
       "______________________________________________________________________\n",
       "Conv2d               [1024, 10, 10]       525,312    True      \n",
       "______________________________________________________________________\n",
       "PixelShuffle         [256, 20, 20]        0          False     \n",
       "______________________________________________________________________\n",
       "ReLU                 [1024, 10, 10]       0          False     \n",
       "______________________________________________________________________\n",
       "BatchNorm2d          [256, 19, 19]        512        True      \n",
       "______________________________________________________________________\n",
       "Conv2d               [512, 19, 19]        2,359,808  True      \n",
       "______________________________________________________________________\n",
       "ReLU                 [512, 19, 19]        0          False     \n",
       "______________________________________________________________________\n",
       "Conv2d               [512, 19, 19]        2,359,808  True      \n",
       "______________________________________________________________________\n",
       "ReLU                 [512, 19, 19]        0          False     \n",
       "______________________________________________________________________\n",
       "ReLU                 [512, 19, 19]        0          False     \n",
       "______________________________________________________________________\n",
       "Conv2d               [1024, 19, 19]       525,312    True      \n",
       "______________________________________________________________________\n",
       "PixelShuffle         [256, 38, 38]        0          False     \n",
       "______________________________________________________________________\n",
       "ReLU                 [1024, 19, 19]       0          False     \n",
       "______________________________________________________________________\n",
       "BatchNorm2d          [128, 38, 38]        256        True      \n",
       "______________________________________________________________________\n",
       "Conv2d               [384, 38, 38]        1,327,488  True      \n",
       "______________________________________________________________________\n",
       "ReLU                 [384, 38, 38]        0          False     \n",
       "______________________________________________________________________\n",
       "Conv2d               [384, 38, 38]        1,327,488  True      \n",
       "______________________________________________________________________\n",
       "ReLU                 [384, 38, 38]        0          False     \n",
       "______________________________________________________________________\n",
       "ReLU                 [384, 38, 38]        0          False     \n",
       "______________________________________________________________________\n",
       "Conv2d               [768, 38, 38]        295,680    True      \n",
       "______________________________________________________________________\n",
       "PixelShuffle         [192, 76, 76]        0          False     \n",
       "______________________________________________________________________\n",
       "ReLU                 [768, 38, 38]        0          False     \n",
       "______________________________________________________________________\n",
       "BatchNorm2d          [64, 75, 75]         128        True      \n",
       "______________________________________________________________________\n",
       "Conv2d               [256, 75, 75]        590,080    True      \n",
       "______________________________________________________________________\n",
       "ReLU                 [256, 75, 75]        0          False     \n",
       "______________________________________________________________________\n",
       "Conv2d               [256, 75, 75]        590,080    True      \n",
       "______________________________________________________________________\n",
       "ReLU                 [256, 75, 75]        0          False     \n",
       "______________________________________________________________________\n",
       "ReLU                 [256, 75, 75]        0          False     \n",
       "______________________________________________________________________\n",
       "Conv2d               [512, 75, 75]        131,584    True      \n",
       "______________________________________________________________________\n",
       "PixelShuffle         [128, 150, 150]      0          False     \n",
       "______________________________________________________________________\n",
       "ReLU                 [512, 75, 75]        0          False     \n",
       "______________________________________________________________________\n",
       "BatchNorm2d          [64, 150, 150]       128        True      \n",
       "______________________________________________________________________\n",
       "Conv2d               [96, 150, 150]       165,984    True      \n",
       "______________________________________________________________________\n",
       "ReLU                 [96, 150, 150]       0          False     \n",
       "______________________________________________________________________\n",
       "Conv2d               [96, 150, 150]       83,040     True      \n",
       "______________________________________________________________________\n",
       "ReLU                 [96, 150, 150]       0          False     \n",
       "______________________________________________________________________\n",
       "ReLU                 [192, 150, 150]      0          False     \n",
       "______________________________________________________________________\n",
       "Conv2d               [384, 150, 150]      37,248     True      \n",
       "______________________________________________________________________\n",
       "PixelShuffle         [96, 300, 300]       0          False     \n",
       "______________________________________________________________________\n",
       "ReLU                 [384, 150, 150]      0          False     \n",
       "______________________________________________________________________\n",
       "MergeLayer           [99, 300, 300]       0          False     \n",
       "______________________________________________________________________\n",
       "Conv2d               [99, 300, 300]       88,308     True      \n",
       "______________________________________________________________________\n",
       "ReLU                 [99, 300, 300]       0          False     \n",
       "______________________________________________________________________\n",
       "Conv2d               [99, 300, 300]       88,308     True      \n",
       "______________________________________________________________________\n",
       "ReLU                 [99, 300, 300]       0          False     \n",
       "______________________________________________________________________\n",
       "MergeLayer           [99, 300, 300]       0          False     \n",
       "______________________________________________________________________\n",
       "Conv2d               [4, 300, 300]        400        True      \n",
       "______________________________________________________________________\n",
       "Lambda               [300, 300, 1]        0          False     \n",
       "______________________________________________________________________\n",
       "Lambda               [4, 300, 300, 1]     0          False     \n",
       "______________________________________________________________________\n",
       "Conv3d               [64, 300, 300, 1]    6,912      True      \n",
       "______________________________________________________________________\n",
       "ReLU                 [64, 300, 300, 1]    0          False     \n",
       "______________________________________________________________________\n",
       "BatchNorm3d          [64, 300, 300, 1]    128        True      \n",
       "______________________________________________________________________\n",
       "Conv3d               [128, 300, 300, 1]   221,184    True      \n",
       "______________________________________________________________________\n",
       "ReLU                 [128, 300, 300, 1]   0          False     \n",
       "______________________________________________________________________\n",
       "BatchNorm3d          [128, 300, 300, 1]   256        True      \n",
       "______________________________________________________________________\n",
       "Conv3d               [128, 300, 300, 1]   442,368    True      \n",
       "______________________________________________________________________\n",
       "ReLU                 [128, 300, 300, 1]   0          False     \n",
       "______________________________________________________________________\n",
       "BatchNorm3d          [128, 300, 300, 1]   256        True      \n",
       "______________________________________________________________________\n",
       "MergeLayer           [128, 300, 300, 1]   0          False     \n",
       "______________________________________________________________________\n",
       "Conv3d               [64, 300, 300, 1]    221,184    True      \n",
       "______________________________________________________________________\n",
       "ReLU                 [64, 300, 300, 1]    0          False     \n",
       "______________________________________________________________________\n",
       "BatchNorm3d          [64, 300, 300, 1]    128        True      \n",
       "______________________________________________________________________\n",
       "MergeLayer           [64, 300, 300, 1]    0          False     \n",
       "______________________________________________________________________\n",
       "Conv3d               [4, 300, 300, 1]     6,912      True      \n",
       "______________________________________________________________________\n",
       "ReLU                 [4, 300, 300, 1]     0          False     \n",
       "______________________________________________________________________\n",
       "BatchNorm3d          [4, 300, 300, 1]     8          True      \n",
       "______________________________________________________________________\n",
       "MergeLayer           [4, 300, 300, 1]     0          False     \n",
       "______________________________________________________________________\n",
       "Lambda               [300, 300, 1]        0          False     \n",
       "______________________________________________________________________\n",
       "Lambda               [4, 300, 300]        0          False     \n",
       "______________________________________________________________________\n",
       "\n",
       "Total params: 42,120,704\n",
       "Total trainable params: 20,853,056\n",
       "Total non-trainable params: 21,267,648\n",
       "Optimized with 'torch.optim.adam.Adam', betas=(0.9, 0.99)\n",
       "Using true weight decay as discussed in https://www.fast.ai/2018/07/02/adam-weight-decay/ \n",
       "Loss function : FlattenedLoss\n",
       "======================================================================\n",
       "Callbacks functions applied "
      ]
     },
     "execution_count": 33,
     "metadata": {},
     "output_type": "execute_result"
    }
   ],
   "source": [
    "learn.summary()"
   ]
  },
  {
   "cell_type": "code",
   "execution_count": 34,
   "metadata": {},
   "outputs": [],
   "source": [
    "#learn.freeze()\n",
    "learn.freeze_to(13)"
   ]
  },
  {
   "cell_type": "code",
   "execution_count": 35,
   "metadata": {},
   "outputs": [
    {
     "data": {
      "text/plain": [
       "DynamicUnet\n",
       "======================================================================\n",
       "Layer (type)         Output Shape         Param #    Trainable \n",
       "======================================================================\n",
       "Conv2d               [64, 150, 150]       9,408      False     \n",
       "______________________________________________________________________\n",
       "BatchNorm2d          [64, 150, 150]       128        True      \n",
       "______________________________________________________________________\n",
       "ReLU                 [64, 150, 150]       0          False     \n",
       "______________________________________________________________________\n",
       "MaxPool2d            [64, 75, 75]         0          False     \n",
       "______________________________________________________________________\n",
       "Conv2d               [64, 75, 75]         36,864     False     \n",
       "______________________________________________________________________\n",
       "BatchNorm2d          [64, 75, 75]         128        True      \n",
       "______________________________________________________________________\n",
       "ReLU                 [64, 75, 75]         0          False     \n",
       "______________________________________________________________________\n",
       "Conv2d               [64, 75, 75]         36,864     False     \n",
       "______________________________________________________________________\n",
       "BatchNorm2d          [64, 75, 75]         128        True      \n",
       "______________________________________________________________________\n",
       "Conv2d               [64, 75, 75]         36,864     False     \n",
       "______________________________________________________________________\n",
       "BatchNorm2d          [64, 75, 75]         128        True      \n",
       "______________________________________________________________________\n",
       "ReLU                 [64, 75, 75]         0          False     \n",
       "______________________________________________________________________\n",
       "Conv2d               [64, 75, 75]         36,864     False     \n",
       "______________________________________________________________________\n",
       "BatchNorm2d          [64, 75, 75]         128        True      \n",
       "______________________________________________________________________\n",
       "Conv2d               [64, 75, 75]         36,864     False     \n",
       "______________________________________________________________________\n",
       "BatchNorm2d          [64, 75, 75]         128        True      \n",
       "______________________________________________________________________\n",
       "ReLU                 [64, 75, 75]         0          False     \n",
       "______________________________________________________________________\n",
       "Conv2d               [64, 75, 75]         36,864     False     \n",
       "______________________________________________________________________\n",
       "BatchNorm2d          [64, 75, 75]         128        True      \n",
       "______________________________________________________________________\n",
       "Conv2d               [128, 38, 38]        73,728     False     \n",
       "______________________________________________________________________\n",
       "BatchNorm2d          [128, 38, 38]        256        True      \n",
       "______________________________________________________________________\n",
       "ReLU                 [128, 38, 38]        0          False     \n",
       "______________________________________________________________________\n",
       "Conv2d               [128, 38, 38]        147,456    False     \n",
       "______________________________________________________________________\n",
       "BatchNorm2d          [128, 38, 38]        256        True      \n",
       "______________________________________________________________________\n",
       "Conv2d               [128, 38, 38]        8,192      False     \n",
       "______________________________________________________________________\n",
       "BatchNorm2d          [128, 38, 38]        256        True      \n",
       "______________________________________________________________________\n",
       "Conv2d               [128, 38, 38]        147,456    False     \n",
       "______________________________________________________________________\n",
       "BatchNorm2d          [128, 38, 38]        256        True      \n",
       "______________________________________________________________________\n",
       "ReLU                 [128, 38, 38]        0          False     \n",
       "______________________________________________________________________\n",
       "Conv2d               [128, 38, 38]        147,456    False     \n",
       "______________________________________________________________________\n",
       "BatchNorm2d          [128, 38, 38]        256        True      \n",
       "______________________________________________________________________\n",
       "Conv2d               [128, 38, 38]        147,456    False     \n",
       "______________________________________________________________________\n",
       "BatchNorm2d          [128, 38, 38]        256        True      \n",
       "______________________________________________________________________\n",
       "ReLU                 [128, 38, 38]        0          False     \n",
       "______________________________________________________________________\n",
       "Conv2d               [128, 38, 38]        147,456    False     \n",
       "______________________________________________________________________\n",
       "BatchNorm2d          [128, 38, 38]        256        True      \n",
       "______________________________________________________________________\n",
       "Conv2d               [128, 38, 38]        147,456    False     \n",
       "______________________________________________________________________\n",
       "BatchNorm2d          [128, 38, 38]        256        True      \n",
       "______________________________________________________________________\n",
       "ReLU                 [128, 38, 38]        0          False     \n",
       "______________________________________________________________________\n",
       "Conv2d               [128, 38, 38]        147,456    False     \n",
       "______________________________________________________________________\n",
       "BatchNorm2d          [128, 38, 38]        256        True      \n",
       "______________________________________________________________________\n",
       "Conv2d               [256, 19, 19]        294,912    False     \n",
       "______________________________________________________________________\n",
       "BatchNorm2d          [256, 19, 19]        512        True      \n",
       "______________________________________________________________________\n",
       "ReLU                 [256, 19, 19]        0          False     \n",
       "______________________________________________________________________\n",
       "Conv2d               [256, 19, 19]        589,824    False     \n",
       "______________________________________________________________________\n",
       "BatchNorm2d          [256, 19, 19]        512        True      \n",
       "______________________________________________________________________\n",
       "Conv2d               [256, 19, 19]        32,768     False     \n",
       "______________________________________________________________________\n",
       "BatchNorm2d          [256, 19, 19]        512        True      \n",
       "______________________________________________________________________\n",
       "Conv2d               [256, 19, 19]        589,824    False     \n",
       "______________________________________________________________________\n",
       "BatchNorm2d          [256, 19, 19]        512        True      \n",
       "______________________________________________________________________\n",
       "ReLU                 [256, 19, 19]        0          False     \n",
       "______________________________________________________________________\n",
       "Conv2d               [256, 19, 19]        589,824    False     \n",
       "______________________________________________________________________\n",
       "BatchNorm2d          [256, 19, 19]        512        True      \n",
       "______________________________________________________________________\n",
       "Conv2d               [256, 19, 19]        589,824    False     \n",
       "______________________________________________________________________\n",
       "BatchNorm2d          [256, 19, 19]        512        True      \n",
       "______________________________________________________________________\n",
       "ReLU                 [256, 19, 19]        0          False     \n",
       "______________________________________________________________________\n",
       "Conv2d               [256, 19, 19]        589,824    False     \n",
       "______________________________________________________________________\n",
       "BatchNorm2d          [256, 19, 19]        512        True      \n",
       "______________________________________________________________________\n",
       "Conv2d               [256, 19, 19]        589,824    False     \n",
       "______________________________________________________________________\n",
       "BatchNorm2d          [256, 19, 19]        512        True      \n",
       "______________________________________________________________________\n",
       "ReLU                 [256, 19, 19]        0          False     \n",
       "______________________________________________________________________\n",
       "Conv2d               [256, 19, 19]        589,824    False     \n",
       "______________________________________________________________________\n",
       "BatchNorm2d          [256, 19, 19]        512        True      \n",
       "______________________________________________________________________\n",
       "Conv2d               [256, 19, 19]        589,824    False     \n",
       "______________________________________________________________________\n",
       "BatchNorm2d          [256, 19, 19]        512        True      \n",
       "______________________________________________________________________\n",
       "ReLU                 [256, 19, 19]        0          False     \n",
       "______________________________________________________________________\n",
       "Conv2d               [256, 19, 19]        589,824    False     \n",
       "______________________________________________________________________\n",
       "BatchNorm2d          [256, 19, 19]        512        True      \n",
       "______________________________________________________________________\n",
       "Conv2d               [256, 19, 19]        589,824    False     \n",
       "______________________________________________________________________\n",
       "BatchNorm2d          [256, 19, 19]        512        True      \n",
       "______________________________________________________________________\n",
       "ReLU                 [256, 19, 19]        0          False     \n",
       "______________________________________________________________________\n",
       "Conv2d               [256, 19, 19]        589,824    False     \n",
       "______________________________________________________________________\n",
       "BatchNorm2d          [256, 19, 19]        512        True      \n",
       "______________________________________________________________________\n",
       "Conv2d               [512, 10, 10]        1,179,648  False     \n",
       "______________________________________________________________________\n",
       "BatchNorm2d          [512, 10, 10]        1,024      True      \n",
       "______________________________________________________________________\n",
       "ReLU                 [512, 10, 10]        0          False     \n",
       "______________________________________________________________________\n",
       "Conv2d               [512, 10, 10]        2,359,296  False     \n",
       "______________________________________________________________________\n",
       "BatchNorm2d          [512, 10, 10]        1,024      True      \n",
       "______________________________________________________________________\n",
       "Conv2d               [512, 10, 10]        131,072    False     \n",
       "______________________________________________________________________\n",
       "BatchNorm2d          [512, 10, 10]        1,024      True      \n",
       "______________________________________________________________________\n",
       "Conv2d               [512, 10, 10]        2,359,296  False     \n",
       "______________________________________________________________________\n",
       "BatchNorm2d          [512, 10, 10]        1,024      True      \n",
       "______________________________________________________________________\n",
       "ReLU                 [512, 10, 10]        0          False     \n",
       "______________________________________________________________________\n",
       "Conv2d               [512, 10, 10]        2,359,296  False     \n",
       "______________________________________________________________________\n",
       "BatchNorm2d          [512, 10, 10]        1,024      True      \n",
       "______________________________________________________________________\n",
       "Conv2d               [512, 10, 10]        2,359,296  False     \n",
       "______________________________________________________________________\n",
       "BatchNorm2d          [512, 10, 10]        1,024      True      \n",
       "______________________________________________________________________\n",
       "ReLU                 [512, 10, 10]        0          False     \n",
       "______________________________________________________________________\n",
       "Conv2d               [512, 10, 10]        2,359,296  False     \n",
       "______________________________________________________________________\n",
       "BatchNorm2d          [512, 10, 10]        1,024      True      \n",
       "______________________________________________________________________\n",
       "BatchNorm2d          [512, 10, 10]        1,024      True      \n",
       "______________________________________________________________________\n",
       "ReLU                 [512, 10, 10]        0          False     \n",
       "______________________________________________________________________\n",
       "Conv2d               [1024, 10, 10]       4,719,616  False     \n",
       "______________________________________________________________________\n",
       "ReLU                 [1024, 10, 10]       0          False     \n",
       "______________________________________________________________________\n",
       "Conv2d               [512, 10, 10]        4,719,104  False     \n",
       "______________________________________________________________________\n",
       "ReLU                 [512, 10, 10]        0          False     \n",
       "______________________________________________________________________\n",
       "Conv2d               [1024, 10, 10]       525,312    False     \n",
       "______________________________________________________________________\n",
       "PixelShuffle         [256, 20, 20]        0          False     \n",
       "______________________________________________________________________\n",
       "ReLU                 [1024, 10, 10]       0          False     \n",
       "______________________________________________________________________\n",
       "BatchNorm2d          [256, 19, 19]        512        True      \n",
       "______________________________________________________________________\n",
       "Conv2d               [512, 19, 19]        2,359,808  False     \n",
       "______________________________________________________________________\n",
       "ReLU                 [512, 19, 19]        0          False     \n",
       "______________________________________________________________________\n",
       "Conv2d               [512, 19, 19]        2,359,808  False     \n",
       "______________________________________________________________________\n",
       "ReLU                 [512, 19, 19]        0          False     \n",
       "______________________________________________________________________\n",
       "ReLU                 [512, 19, 19]        0          False     \n",
       "______________________________________________________________________\n",
       "Conv2d               [1024, 19, 19]       525,312    False     \n",
       "______________________________________________________________________\n",
       "PixelShuffle         [256, 38, 38]        0          False     \n",
       "______________________________________________________________________\n",
       "ReLU                 [1024, 19, 19]       0          False     \n",
       "______________________________________________________________________\n",
       "BatchNorm2d          [128, 38, 38]        256        True      \n",
       "______________________________________________________________________\n",
       "Conv2d               [384, 38, 38]        1,327,488  False     \n",
       "______________________________________________________________________\n",
       "ReLU                 [384, 38, 38]        0          False     \n",
       "______________________________________________________________________\n",
       "Conv2d               [384, 38, 38]        1,327,488  False     \n",
       "______________________________________________________________________\n",
       "ReLU                 [384, 38, 38]        0          False     \n",
       "______________________________________________________________________\n",
       "ReLU                 [384, 38, 38]        0          False     \n",
       "______________________________________________________________________\n",
       "Conv2d               [768, 38, 38]        295,680    False     \n",
       "______________________________________________________________________\n",
       "PixelShuffle         [192, 76, 76]        0          False     \n",
       "______________________________________________________________________\n",
       "ReLU                 [768, 38, 38]        0          False     \n",
       "______________________________________________________________________\n",
       "BatchNorm2d          [64, 75, 75]         128        True      \n",
       "______________________________________________________________________\n",
       "Conv2d               [256, 75, 75]        590,080    False     \n",
       "______________________________________________________________________\n",
       "ReLU                 [256, 75, 75]        0          False     \n",
       "______________________________________________________________________\n",
       "Conv2d               [256, 75, 75]        590,080    False     \n",
       "______________________________________________________________________\n",
       "ReLU                 [256, 75, 75]        0          False     \n",
       "______________________________________________________________________\n",
       "ReLU                 [256, 75, 75]        0          False     \n",
       "______________________________________________________________________\n",
       "Conv2d               [512, 75, 75]        131,584    False     \n",
       "______________________________________________________________________\n",
       "PixelShuffle         [128, 150, 150]      0          False     \n",
       "______________________________________________________________________\n",
       "ReLU                 [512, 75, 75]        0          False     \n",
       "______________________________________________________________________\n",
       "BatchNorm2d          [64, 150, 150]       128        True      \n",
       "______________________________________________________________________\n",
       "Conv2d               [96, 150, 150]       165,984    False     \n",
       "______________________________________________________________________\n",
       "ReLU                 [96, 150, 150]       0          False     \n",
       "______________________________________________________________________\n",
       "Conv2d               [96, 150, 150]       83,040     False     \n",
       "______________________________________________________________________\n",
       "ReLU                 [96, 150, 150]       0          False     \n",
       "______________________________________________________________________\n",
       "ReLU                 [192, 150, 150]      0          False     \n",
       "______________________________________________________________________\n",
       "Conv2d               [384, 150, 150]      37,248     False     \n",
       "______________________________________________________________________\n",
       "PixelShuffle         [96, 300, 300]       0          False     \n",
       "______________________________________________________________________\n",
       "ReLU                 [384, 150, 150]      0          False     \n",
       "______________________________________________________________________\n",
       "MergeLayer           [99, 300, 300]       0          False     \n",
       "______________________________________________________________________\n",
       "Conv2d               [99, 300, 300]       88,308     False     \n",
       "______________________________________________________________________\n",
       "ReLU                 [99, 300, 300]       0          False     \n",
       "______________________________________________________________________\n",
       "Conv2d               [99, 300, 300]       88,308     False     \n",
       "______________________________________________________________________\n",
       "ReLU                 [99, 300, 300]       0          False     \n",
       "______________________________________________________________________\n",
       "MergeLayer           [99, 300, 300]       0          False     \n",
       "______________________________________________________________________\n",
       "Conv2d               [4, 300, 300]        400        False     \n",
       "______________________________________________________________________\n",
       "Lambda               [300, 300, 1]        0          False     \n",
       "______________________________________________________________________\n",
       "Lambda               [4, 300, 300, 1]     0          False     \n",
       "______________________________________________________________________\n",
       "Conv3d               [64, 300, 300, 1]    6,912      True      \n",
       "______________________________________________________________________\n",
       "ReLU                 [64, 300, 300, 1]    0          False     \n",
       "______________________________________________________________________\n",
       "BatchNorm3d          [64, 300, 300, 1]    128        True      \n",
       "______________________________________________________________________\n",
       "Conv3d               [128, 300, 300, 1]   221,184    True      \n",
       "______________________________________________________________________\n",
       "ReLU                 [128, 300, 300, 1]   0          False     \n",
       "______________________________________________________________________\n",
       "BatchNorm3d          [128, 300, 300, 1]   256        True      \n",
       "______________________________________________________________________\n",
       "Conv3d               [128, 300, 300, 1]   442,368    True      \n",
       "______________________________________________________________________\n",
       "ReLU                 [128, 300, 300, 1]   0          False     \n",
       "______________________________________________________________________\n",
       "BatchNorm3d          [128, 300, 300, 1]   256        True      \n",
       "______________________________________________________________________\n",
       "MergeLayer           [128, 300, 300, 1]   0          False     \n",
       "______________________________________________________________________\n",
       "Conv3d               [64, 300, 300, 1]    221,184    True      \n",
       "______________________________________________________________________\n",
       "ReLU                 [64, 300, 300, 1]    0          False     \n",
       "______________________________________________________________________\n",
       "BatchNorm3d          [64, 300, 300, 1]    128        True      \n",
       "______________________________________________________________________\n",
       "MergeLayer           [64, 300, 300, 1]    0          False     \n",
       "______________________________________________________________________\n",
       "Conv3d               [4, 300, 300, 1]     6,912      True      \n",
       "______________________________________________________________________\n",
       "ReLU                 [4, 300, 300, 1]     0          False     \n",
       "______________________________________________________________________\n",
       "BatchNorm3d          [4, 300, 300, 1]     8          True      \n",
       "______________________________________________________________________\n",
       "MergeLayer           [4, 300, 300, 1]     0          False     \n",
       "______________________________________________________________________\n",
       "Lambda               [300, 300, 1]        0          False     \n",
       "______________________________________________________________________\n",
       "Lambda               [4, 300, 300]        0          False     \n",
       "______________________________________________________________________\n",
       "\n",
       "Total params: 42,120,704\n",
       "Total trainable params: 918,408\n",
       "Total non-trainable params: 41,202,296\n",
       "Optimized with 'torch.optim.adam.Adam', betas=(0.9, 0.99)\n",
       "Using true weight decay as discussed in https://www.fast.ai/2018/07/02/adam-weight-decay/ \n",
       "Loss function : FlattenedLoss\n",
       "======================================================================\n",
       "Callbacks functions applied "
      ]
     },
     "execution_count": 35,
     "metadata": {},
     "output_type": "execute_result"
    }
   ],
   "source": [
    "learn.summary()"
   ]
  },
  {
   "cell_type": "code",
   "execution_count": 36,
   "metadata": {},
   "outputs": [
    {
     "data": {
      "text/html": [],
      "text/plain": [
       "<IPython.core.display.HTML object>"
      ]
     },
     "metadata": {},
     "output_type": "display_data"
    },
    {
     "name": "stdout",
     "output_type": "stream",
     "text": [
      "LR Finder is complete, type {learner_name}.recorder.plot() to see the graph.\n"
     ]
    },
    {
     "data": {
      "image/png": "[encoded data removed]",
      "text/plain": [
       "<Figure size 432x288 with 1 Axes>"
      ]
     },
     "metadata": {
      "needs_background": "light"
     },
     "output_type": "display_data"
    }
   ],
   "source": [
    "learn.lr_find()\n",
    "learn.recorder.plot()"
   ]
  },
  {
   "cell_type": "markdown",
   "metadata": {},
   "source": [
    "# Start learning"
   ]
  },
  {
   "cell_type": "code",
   "execution_count": 37,
   "metadata": {},
   "outputs": [],
   "source": [
    "lr = 3e-2\n",
    "lrs = slice(lr/100,lr)"
   ]
  },
  {
   "cell_type": "code",
   "execution_count": 38,
   "metadata": {},
   "outputs": [
    {
     "data": {
      "text/html": [
       "<table border=\"1\" class=\"dataframe\">\n",
       "  <thead>\n",
       "    <tr style=\"text-align: left;\">\n",
       "      <th>epoch</th>\n",
       "      <th>train_loss</th>\n",
       "      <th>valid_loss</th>\n",
       "      <th>acc_seeds</th>\n",
       "      <th>time</th>\n",
       "    </tr>\n",
       "  </thead>\n",
       "  <tbody>\n",
       "    <tr>\n",
       "      <td>0</td>\n",
       "      <td>0.127275</td>\n",
       "      <td>0.308031</td>\n",
       "      <td>nan</td>\n",
       "      <td>07:15</td>\n",
       "    </tr>\n",
       "  </tbody>\n",
       "</table>"
      ],
      "text/plain": [
       "<IPython.core.display.HTML object>"
      ]
     },
     "metadata": {},
     "output_type": "display_data"
    }
   ],
   "source": [
    "learn.fit_one_cycle(cyc_len=1, max_lr=lrs)\n",
    "#learn.fit_one_cycle(cyc_len=epochs_s1, max_lr=lrs)"
   ]
  },
  {
   "cell_type": "code",
   "execution_count": 39,
   "metadata": {},
   "outputs": [
    {
     "data": {
      "text/html": [],
      "text/plain": [
       "<IPython.core.display.HTML object>"
      ]
     },
     "metadata": {},
     "output_type": "display_data"
    },
    {
     "name": "stdout",
     "output_type": "stream",
     "text": [
      "LR Finder is complete, type {learner_name}.recorder.plot() to see the graph.\n"
     ]
    },
    {
     "data": {
      "image/png": "[encoded data removed]",
      "text/plain": [
       "<Figure size 432x288 with 1 Axes>"
      ]
     },
     "metadata": {
      "needs_background": "light"
     },
     "output_type": "display_data"
    }
   ],
   "source": [
    "learn.lr_find()\n",
    "learn.recorder.plot()"
   ]
  },
  {
   "cell_type": "code",
   "execution_count": null,
   "metadata": {},
   "outputs": [],
   "source": [
    "lr = 1e-6\n",
    "lrs = slice(lr/100,lr)"
   ]
  },
  {
   "cell_type": "code",
   "execution_count": null,
   "metadata": {},
   "outputs": [],
   "source": [
    "learn.fit_one_cycle(cyc_len=1, max_lr=lrs)"
   ]
  },
  {
   "cell_type": "code",
   "execution_count": null,
   "metadata": {},
   "outputs": [],
   "source": [
    "learn.save('stage-3D_pre_2epo_rot')\n",
    "learn.load('stage-3D_pre_2epo_rot');\n",
    "#learn=None\n",
    "#gc.collect()"
   ]
  },
  {
   "cell_type": "code",
   "execution_count": null,
   "metadata": {},
   "outputs": [],
   "source": [
    "learn.fit_one_cycle(cyc_len=2, max_lr=lrs)"
   ]
  },
  {
   "cell_type": "code",
   "execution_count": null,
   "metadata": {},
   "outputs": [],
   "source": [
    "#learn.load('stage-small_1');"
   ]
  },
  {
   "cell_type": "code",
   "execution_count": null,
   "metadata": {},
   "outputs": [],
   "source": [
    "#learn.unfreeze()"
   ]
  },
  {
   "cell_type": "code",
   "execution_count": null,
   "metadata": {},
   "outputs": [],
   "source": [
    "#learn.fit_one_cycle(epochs_s2, lrs)"
   ]
  },
  {
   "cell_type": "code",
   "execution_count": null,
   "metadata": {},
   "outputs": [],
   "source": [
    "#learn.save('stage-small_2')"
   ]
  },
  {
   "cell_type": "code",
   "execution_count": null,
   "metadata": {},
   "outputs": [],
   "source": [
    "#data_med = (src.transform(tfm_y=True, size=size_m)\n",
    "#       .databunch(bs=1)\n",
    "#       .normalize(imagenet_stats))\n",
    "#data_med.train_dl = data_med.train_dl.new(shuffle=False, drop_last=False, sampler=None, batch_sampler=mysampler.OrderedBatchSampler(SequentialSampler(data_med.train_dl), bs, True))"
   ]
  },
  {
   "cell_type": "code",
   "execution_count": null,
   "metadata": {},
   "outputs": [],
   "source": [
    "#learn=None\n",
    "#gc.collect()\n",
    "#learn = unet_learner(data_med, models.resnet34, metrics=metrics, wd=wd)\n",
    "#learn.crit = nn.CrossEntropyLoss(weight=class_weights)\n",
    "#learn.model.append(stack_layers.cuda())\n",
    "#learn.model.append(midi3DUnet.cuda())\n",
    "#learn.model.append(unstack_layers.cuda())"
   ]
  },
  {
   "cell_type": "code",
   "execution_count": null,
   "metadata": {},
   "outputs": [],
   "source": [
    "#learn.lr_find()\n",
    "#learn.recorder.plot()"
   ]
  },
  {
   "cell_type": "code",
   "execution_count": null,
   "metadata": {},
   "outputs": [],
   "source": [
    "#learn.load('stage-small_2');"
   ]
  },
  {
   "cell_type": "code",
   "execution_count": null,
   "metadata": {},
   "outputs": [],
   "source": [
    "#learn.unfreeze()"
   ]
  },
  {
   "cell_type": "code",
   "execution_count": null,
   "metadata": {},
   "outputs": [],
   "source": [
    "#learn.fit_one_cycle(epochs_m, lrs)"
   ]
  },
  {
   "cell_type": "code",
   "execution_count": null,
   "metadata": {},
   "outputs": [],
   "source": [
    "#learn.save('stage-med')"
   ]
  },
  {
   "cell_type": "code",
   "execution_count": null,
   "metadata": {},
   "outputs": [],
   "source": [
    "#data_L = (src.transform(get_transforms(), tfm_y=True, size=size_l)\n",
    "#       .databunch(bs=bs)\n",
    "#       .normalize(imagenet_stats))\n",
    "#data_L.train_dl = data_L.train_dl.new(shuffle=False, drop_last=False, sampler=None, batch_sampler=mysampler.OrderedBatchSampler(SequentialSampler(data_L.train_dl), bs, True))"
   ]
  },
  {
   "cell_type": "code",
   "execution_count": null,
   "metadata": {},
   "outputs": [],
   "source": [
    "#learn=None\n",
    "#gc.collect()\n",
    "#learn = unet_learner(data_L, models.resnet34, metrics=metrics, wd=wd)\n",
    "#learn.crit = nn.CrossEntropyLoss(weight=class_weights)\n",
    "#learn.model.append(stack_layers.cuda())\n",
    "#learn.model.append(midi3DUnet.cuda())\n",
    "#learn.model.append(unstack_layers.cuda())"
   ]
  },
  {
   "cell_type": "code",
   "execution_count": null,
   "metadata": {},
   "outputs": [],
   "source": [
    "#learn.lr_find()\n",
    "#learn.recorder.plot()"
   ]
  },
  {
   "cell_type": "code",
   "execution_count": null,
   "metadata": {},
   "outputs": [],
   "source": [
    "#learn.load('stage-med');"
   ]
  },
  {
   "cell_type": "code",
   "execution_count": null,
   "metadata": {},
   "outputs": [],
   "source": [
    "#learn.unfreeze()"
   ]
  },
  {
   "cell_type": "code",
   "execution_count": null,
   "metadata": {},
   "outputs": [],
   "source": [
    "#learn.fit_one_cycle(epochs_l, lrs)"
   ]
  },
  {
   "cell_type": "code",
   "execution_count": 40,
   "metadata": {},
   "outputs": [],
   "source": [
    "#learn.export(model_name)\n",
    "learn.export('3D_pretrain_rot_f.pkl')"
   ]
  },
  {
   "cell_type": "markdown",
   "metadata": {},
   "source": [
    "# Training Interpretations on Validation Set"
   ]
  },
  {
   "cell_type": "code",
   "execution_count": 41,
   "metadata": {},
   "outputs": [],
   "source": [
    "from fastai.vision.interpret import *\n",
    "interp = SegmentationInterpretation.from_learner(learn)"
   ]
  },
  {
   "cell_type": "code",
   "execution_count": 42,
   "metadata": {},
   "outputs": [
    {
     "data": {
      "text/plain": [
       "tensor([3101, 3050, 3896,  ..., 2616, 2613, 2610])"
      ]
     },
     "execution_count": 42,
     "metadata": {},
     "output_type": "execute_result"
    }
   ],
   "source": [
    "top_losses, top_idxs = interp.top_losses(sizes=(size_l,size_l))\n",
    "top_idxs"
   ]
  },
  {
   "cell_type": "code",
   "execution_count": 43,
   "metadata": {},
   "outputs": [
    {
     "data": {
      "text/plain": [
       "[0.30803126, tensor(nan)]"
      ]
     },
     "execution_count": 43,
     "metadata": {},
     "output_type": "execute_result"
    }
   ],
   "source": [
    "learn.validate(data.valid_dl)"
   ]
  },
  {
   "cell_type": "code",
   "execution_count": 44,
   "metadata": {},
   "outputs": [
    {
     "data": {
      "image/png": "[encoded data removed]",
      "text/plain": [
       "<Figure size 576x864 with 6 Axes>"
      ]
     },
     "metadata": {
      "needs_background": "light"
     },
     "output_type": "display_data"
    }
   ],
   "source": [
    "learn.show_results()"
   ]
  },
  {
   "cell_type": "code",
   "execution_count": 45,
   "metadata": {},
   "outputs": [],
   "source": [
    "mean_cm, single_img_cm = interp._generate_confusion()"
   ]
  },
  {
   "cell_type": "code",
   "execution_count": 46,
   "metadata": {},
   "outputs": [
    {
     "data": {
      "text/html": [
       "<table border=\"1\" class=\"dataframe\">\n",
       "  <thead>\n",
       "    <tr style=\"text-align: right;\">\n",
       "      <th>label</th>\n",
       "      <th>score</th>\n",
       "    </tr>\n",
       "  </thead>\n",
       "  <tbody>\n",
       "    <tr>\n",
       "      <td>0.0</td>\n",
       "      <td>0.988534</td>\n",
       "    </tr>\n",
       "    <tr>\n",
       "      <td>1.0</td>\n",
       "      <td>0.839824</td>\n",
       "    </tr>\n",
       "    <tr>\n",
       "      <td>2.0</td>\n",
       "      <td>0.564389</td>\n",
       "    </tr>\n",
       "    <tr>\n",
       "      <td>3.0</td>\n",
       "      <td>0.044860</td>\n",
       "    </tr>\n",
       "  </tbody>\n",
       "</table>"
      ],
      "text/plain": [
       "<IPython.core.display.HTML object>"
      ]
     },
     "metadata": {},
     "output_type": "display_data"
    },
    {
     "data": {
      "image/png": "[encoded data removed]",
      "text/plain": [
       "<Figure size 720x720 with 2 Axes>"
      ]
     },
     "metadata": {
      "needs_background": "light"
     },
     "output_type": "display_data"
    }
   ],
   "source": [
    "df = interp._plot_intersect_cm(mean_cm, \"Mean of Ratio of Intersection given True Label\")"
   ]
  },
  {
   "cell_type": "code",
   "execution_count": 47,
   "metadata": {},
   "outputs": [
    {
     "data": {
      "text/html": [
       "<table border=\"1\" class=\"dataframe\">\n",
       "  <thead>\n",
       "    <tr style=\"text-align: right;\">\n",
       "      <th>label</th>\n",
       "      <th>score</th>\n",
       "    </tr>\n",
       "  </thead>\n",
       "  <tbody>\n",
       "    <tr>\n",
       "      <td>0.0</td>\n",
       "      <td>0.986879</td>\n",
       "    </tr>\n",
       "    <tr>\n",
       "      <td>1.0</td>\n",
       "      <td>0.489162</td>\n",
       "    </tr>\n",
       "    <tr>\n",
       "      <td>2.0</td>\n",
       "      <td>0.404432</td>\n",
       "    </tr>\n",
       "    <tr>\n",
       "      <td>3.0</td>\n",
       "      <td>0.158333</td>\n",
       "    </tr>\n",
       "  </tbody>\n",
       "</table>"
      ],
      "text/plain": [
       "<IPython.core.display.HTML object>"
      ]
     },
     "metadata": {},
     "output_type": "display_data"
    },
    {
     "data": {
      "image/png": "[encoded data removed]",
      "text/plain": [
       "<Figure size 720x720 with 2 Axes>"
      ]
     },
     "metadata": {
      "needs_background": "light"
     },
     "output_type": "display_data"
    }
   ],
   "source": [
    "# Look at single worst performing picture\n",
    "i = top_idxs[0]\n",
    "df = interp._plot_intersect_cm(single_img_cm[i], f\"Ratio of Intersection given True Label, Image:{i}\")"
   ]
  },
  {
   "cell_type": "code",
   "execution_count": 49,
   "metadata": {},
   "outputs": [],
   "source": [
    "def _interp_show_new(self, ims:ImageSegment, classes:Collection=None, sz:int=20, cmap='tab20',\n",
    "                    title_suffix:str=None):\n",
    "        \"Show ImageSegment with color mapping labels\"\n",
    "        fig,axes=plt.subplots(1,2,figsize=(sz,sz))\n",
    "        np_im = to_np(ims.data).copy()\n",
    "        # tab20 - qualitative colormaps support max of 20 distinc colors\n",
    "        # if len(classes) > 20 close idxs map to same color\n",
    "        # image\n",
    "        if classes is not None:\n",
    "            class_idxs = [self.c2i[c] for c in classes]\n",
    "            mask = np.max(np.stack([np_im==i for i in class_idxs]),axis=0)\n",
    "            np_im = (np_im*mask).astype(np.float)\n",
    "            np_im[np.where(mask==0)] = np.nan\n",
    "        im=axes[0].imshow(np_im[0], cmap=cmap)\n",
    "\n",
    "        # labels\n",
    "        np_im_labels = list(np.unique(np_im[~np.isnan(np_im)]))\n",
    "        c = len(np_im_labels); n = math.ceil(np.sqrt(c))\n",
    "        label_im = np.array(np_im_labels + [np.nan]*(n**2-c)).reshape(n,n)\n",
    "        axes[1].imshow(label_im, cmap=cmap)\n",
    "        for i,l in enumerate([self.i2c[l] for l in np_im_labels]):\n",
    "            div,mod=divmod(i,n)\n",
    "            #l = \"\\n\".join(wrap(l,10)) if len(l) > 10 else l #bug fix\n",
    "            axes[1].text(mod, div, f\"{l}\", ha='center', color='white', fontdict={'size':sz})\n",
    "\n",
    "        if title_suffix:\n",
    "            axes[0].set_title(f\"{title_suffix}_imsegment\")\n",
    "            axes[1].set_title(f\"{title_suffix}_labels\")\n",
    "            \n",
    "import types\n",
    "def show_xyz_new(self, i, classes:list=None, sz=10):\n",
    "        'show (image, true and pred) from self.ds with color mappings, optionally only plot'\n",
    "        funcType = types.MethodType\n",
    "        self._interp_show = funcType(_interp_show_new, self)\n",
    "        x,y = self.ds[i]\n",
    "        self.ds.show_xys([x],[y], figsize=(sz/2,sz/2))\n",
    "        self._interp_show(ImageSegment(self.y_true[i]), classes, sz=sz, title_suffix='true')\n",
    "        self._interp_show(ImageSegment(self.pred_class[i][None,:]), classes, sz=sz, title_suffix='pred')"
   ]
  },
  {
   "cell_type": "code",
   "execution_count": null,
   "metadata": {},
   "outputs": [],
   "source": [
    "funcType = types.MethodType\n",
    "interp.show_xyz = funcType(show_xyz_new, interp)\n",
    "interp.show_xyz(i)"
   ]
  },
  {
   "cell_type": "markdown",
   "metadata": {},
   "source": [
    "# Evalution of Test Data"
   ]
  },
  {
   "cell_type": "code",
   "execution_count": 50,
   "metadata": {},
   "outputs": [],
   "source": [
    "from PIL import Image\n",
    "from fastai.vision.interpret import *"
   ]
  },
  {
   "cell_type": "code",
   "execution_count": 51,
   "metadata": {},
   "outputs": [
    {
     "data": {
      "text/plain": [
       "['pred_3D_oat.ini']"
      ]
     },
     "execution_count": 51,
     "metadata": {},
     "output_type": "execute_result"
    }
   ],
   "source": [
    "#provide config file name through cmd line\n",
    "config = configparser.ConfigParser()\n",
    "config.read('pred_3D_oat.ini')"
   ]
  },
  {
   "cell_type": "code",
   "execution_count": 52,
   "metadata": {},
   "outputs": [],
   "source": [
    "path = Path(config['data']['dir_to_model'])\n",
    "model = (config['data']['model'])\n",
    "#raw_img = config['data']['raw_images']\n",
    "#pred_lbl = config['data']['pred_lbl']"
   ]
  },
  {
   "cell_type": "code",
   "execution_count": 53,
   "metadata": {},
   "outputs": [],
   "source": [
    "#learn = load_learner(path, file='3D_pretrain_rot2.pkl')\n",
    "#learn.data.single_ds.tfmargs['size'] = None #ensure match to new image size, "
   ]
  },
  {
   "cell_type": "code",
   "execution_count": 54,
   "metadata": {},
   "outputs": [],
   "source": [
    "lsiList = (SegmentationItemList.from_folder(path, presort=True)\n",
    "       .split_by_folder(train='Images', valid='Test')\n",
    "       .label_from_func(get_mask, classes=list(range(classes))))"
   ]
  },
  {
   "cell_type": "code",
   "execution_count": 55,
   "metadata": {},
   "outputs": [],
   "source": [
    "data_test = (lsiList.transform( \n",
    "        tfm_y=True, \n",
    "        size=300)\n",
    "        .databunch(bs=3)\n",
    "        .normalize(imagenet_stats))"
   ]
  },
  {
   "cell_type": "code",
   "execution_count": 56,
   "metadata": {},
   "outputs": [],
   "source": [
    "#from fastai3D import loader\n",
    "data_test.train_dl = data_test.train_dl.new(shuffle=False, drop_last=False, sampler=None, batch_sampler=mysampler.OrderedBatchSampler(SequentialSampler(data_test.train_dl), 3, True))"
   ]
  },
  {
   "cell_type": "code",
   "execution_count": 57,
   "metadata": {},
   "outputs": [],
   "source": [
    "learn.data.valid_dl = data_test.valid_dl"
   ]
  },
  {
   "cell_type": "code",
   "execution_count": 58,
   "metadata": {},
   "outputs": [
    {
     "data": {
      "text/plain": [
       "ImageDataBunch;\n",
       "\n",
       "Train: LabelList (14449 items)\n",
       "x: SegmentationItemList\n",
       "Image (3, 300, 300),Image (3, 300, 300),Image (3, 300, 300),Image (3, 300, 300),Image (3, 300, 300)\n",
       "y: SegmentationLabelList\n",
       "ImageSegment (1, 300, 300),ImageSegment (1, 300, 300),ImageSegment (1, 300, 300),ImageSegment (1, 300, 300),ImageSegment (1, 300, 300)\n",
       "Path: /home/suze/seed_images/Data_for_ML_Test/train/Oat_test;\n",
       "\n",
       "Valid: LabelList (2316 items)\n",
       "x: SegmentationItemList\n",
       "Image (3, 300, 300),Image (3, 300, 300),Image (3, 300, 300),Image (3, 300, 300),Image (3, 300, 300)\n",
       "y: SegmentationLabelList\n",
       "ImageSegment (1, 300, 300),ImageSegment (1, 300, 300),ImageSegment (1, 300, 300),ImageSegment (1, 300, 300),ImageSegment (1, 300, 300)\n",
       "Path: /home/suze/seed_images/Data_for_ML_Test/train/Oat_test;\n",
       "\n",
       "Test: None"
      ]
     },
     "execution_count": 58,
     "metadata": {},
     "output_type": "execute_result"
    }
   ],
   "source": [
    "data_test"
   ]
  },
  {
   "cell_type": "code",
   "execution_count": 59,
   "metadata": {},
   "outputs": [
    {
     "data": {
      "text/plain": [
       "'GeForce RTX 2080 Ti'"
      ]
     },
     "execution_count": 59,
     "metadata": {},
     "output_type": "execute_result"
    }
   ],
   "source": [
    "#In [1]: import torch In [2]: torch.cuda.current_device() Out[2]: 0 In [3]: torch.cuda.device(0) \n",
    "import torch\n",
    "torch.cuda.get_device_name()"
   ]
  },
  {
   "cell_type": "code",
   "execution_count": 60,
   "metadata": {},
   "outputs": [
    {
     "data": {
      "text/plain": [
       "[0.2997525, tensor(nan)]"
      ]
     },
     "execution_count": 60,
     "metadata": {},
     "output_type": "execute_result"
    }
   ],
   "source": [
    "learn.validate(data_test.valid_dl)"
   ]
  },
  {
   "cell_type": "code",
   "execution_count": 61,
   "metadata": {},
   "outputs": [],
   "source": [
    "# Interpret\n",
    "interp = SegmentationInterpretation.from_learner(learn)#,ds_type=DatasetType.Valid)\n",
    "#interp.plot_confusion_matrix()"
   ]
  },
  {
   "cell_type": "code",
   "execution_count": 62,
   "metadata": {},
   "outputs": [],
   "source": [
    "mean_cm, single_img_cm = interp._generate_confusion()"
   ]
  },
  {
   "cell_type": "code",
   "execution_count": 63,
   "metadata": {},
   "outputs": [
    {
     "data": {
      "text/html": [
       "<table border=\"1\" class=\"dataframe\">\n",
       "  <thead>\n",
       "    <tr style=\"text-align: right;\">\n",
       "      <th>label</th>\n",
       "      <th>score</th>\n",
       "    </tr>\n",
       "  </thead>\n",
       "  <tbody>\n",
       "    <tr>\n",
       "      <td>0.0</td>\n",
       "      <td>0.989280</td>\n",
       "    </tr>\n",
       "    <tr>\n",
       "      <td>1.0</td>\n",
       "      <td>0.892597</td>\n",
       "    </tr>\n",
       "    <tr>\n",
       "      <td>2.0</td>\n",
       "      <td>0.592154</td>\n",
       "    </tr>\n",
       "    <tr>\n",
       "      <td>3.0</td>\n",
       "      <td>0.017378</td>\n",
       "    </tr>\n",
       "  </tbody>\n",
       "</table>"
      ],
      "text/plain": [
       "<IPython.core.display.HTML object>"
      ]
     },
     "metadata": {},
     "output_type": "display_data"
    },
    {
     "data": {
      "image/png": "[encoded data removed]",
      "text/plain": [
       "<Figure size 720x720 with 2 Axes>"
      ]
     },
     "metadata": {
      "needs_background": "light"
     },
     "output_type": "display_data"
    }
   ],
   "source": [
    "df = interp._plot_intersect_cm(mean_cm, \"Mean of Ratio of Intersection given True Label\")"
   ]
  },
  {
   "cell_type": "code",
   "execution_count": null,
   "metadata": {},
   "outputs": [],
   "source": [
    "funcType = types.MethodType\n",
    "interp.show_xyz = funcType(show_xyz_new, interp)\n",
    "interp.show_xyz(1600)"
   ]
  },
  {
   "cell_type": "code",
   "execution_count": null,
   "metadata": {},
   "outputs": [],
   "source": []
  }
 ],
 "metadata": {
  "kernelspec": {
   "display_name": "Python 3",
   "language": "python",
   "name": "python3"
  },
  "language_info": {
   "codemirror_mode": {
    "name": "ipython",
    "version": 3
   },
   "file_extension": ".py",
   "mimetype": "text/x-python",
   "name": "python",
   "nbconvert_exporter": "python",
   "pygments_lexer": "ipython3",
   "version": "3.7.4"
  }
 },
 "nbformat": 4,
 "nbformat_minor": 2
}
