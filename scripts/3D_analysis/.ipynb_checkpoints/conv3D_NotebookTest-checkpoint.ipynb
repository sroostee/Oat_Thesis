{
 "cells": [
  {
   "cell_type": "code",
   "execution_count": 1,
   "metadata": {},
   "outputs": [],
   "source": [
    "%reload_ext autoreload\n",
    "%autoreload 2\n",
    "%matplotlib inline"
   ]
  },
  {
   "cell_type": "code",
   "execution_count": 2,
   "metadata": {},
   "outputs": [],
   "source": [
    "from fastai import *\n",
    "#from torch.utils import data\n",
    "from fastai.vision import *\n",
    "import warnings\n",
    "from torch.utils.data import SequentialSampler\n",
    "from fastai3D import mysampler\n",
    "from fastai3D import loader #does not comply \n",
    "warnings.filterwarnings(\"ignore\", category=UserWarning, module=\"torch.nn.functional\")"
   ]
  },
  {
   "cell_type": "code",
   "execution_count": 3,
   "metadata": {},
   "outputs": [],
   "source": [
    "#path = untar_data(URLs.CAMVID_TINY)#small segmentation test set\n",
    "#path_img = path/'images' #should later be provided through ini file\n",
    "#path_lbl = path/'labels' #should later be provided through ini file\n",
    "#path.ls()\n",
    "#parts = np.loadtxt(path/'codes.txt', dtype=str); parts #should later be provided through ini file\n",
    "#these setting should later be set through an ini file\n",
    "#bs = 4 #batch size, set smaller when running out of memory\n",
    "#get_y_fn = lambda x: path_lbl/f'{x.stem}_P{x.suffix}'"
   ]
  },
  {
   "cell_type": "code",
   "execution_count": 4,
   "metadata": {},
   "outputs": [],
   "source": [
    "#Data Block API\n",
    "#data = SegmentationItemList.from_folder(path_img).split_by_rand_pct(valid_pct=0.2, seed=42) #for seed validation use an unseen kernel? because slices are not independent of eachother (like video)\n",
    "#data = data.label_from_func(get_y_fn, classes=parts)\n",
    "#data = data.transform(get_transforms(), tfm_y=True, size=128) #for the seeds set get_transforms(flip_vert:bool=True) and perhaps something with max_rotate()\n",
    "#data = data.databunch(bs=bs, path=path)\n",
    "#data = data.normalize() #think about this for the seeds\n",
    "#data"
   ]
  },
  {
   "cell_type": "code",
   "execution_count": 5,
   "metadata": {},
   "outputs": [],
   "source": [
    "#Have a quick look at the data (optional)\n",
    "#data.show_batch(rows=2, figsize=(7,5))\n",
    "#learn = unet_learner(data, models.resnet18) #think of other arguments to pass, such as custom defined metrics\n",
    "#learn.fit_one_cycle(cyc_len=10, max_lr=1e-2) #what other argumenets should be passed in? how many epochs? what lr\n",
    "#learn.show_results()"
   ]
  },
  {
   "cell_type": "markdown",
   "metadata": {},
   "source": [
    "##Seed Data"
   ]
  },
  {
   "cell_type": "code",
   "execution_count": 6,
   "metadata": {},
   "outputs": [],
   "source": [
    "path = Path('/home/suze/Documents/Thesis/seed_images/Data_for_ML_Test/train')\n",
    "path_img = path/'Images' #should later be provided through ini file\n",
    "path_lbl = path/'Labels' #should later be provided through ini file\n",
    "classes = range(4)\n",
    "\n",
    "def get_mask(img):\n",
    "    return (path_lbl)/img.name"
   ]
  },
  {
   "cell_type": "code",
   "execution_count": 7,
   "metadata": {},
   "outputs": [],
   "source": [
    "\"\"\"function to filter out images that only contain background; used to filter in the data block API; \n",
    "function has to return a boolean\n",
    "slow, every mask has to be opened to check the values\"\"\"\n",
    "def check_back(img):\n",
    "    mask = open_mask(get_mask(img))\n",
    "    count_total=(torch.unique(mask.data, return_counts=True))\n",
    "    if not count_total[0].tolist() == [0]:\n",
    "        return True\n",
    "    else:\n",
    "        return False"
   ]
  },
  {
   "cell_type": "code",
   "execution_count": 8,
   "metadata": {},
   "outputs": [],
   "source": [
    "data = SegmentationItemList.from_folder(path).filter_by_func(check_back).split_by_fname_file('valid.txt')"
   ]
  },
  {
   "cell_type": "code",
   "execution_count": 9,
   "metadata": {},
   "outputs": [],
   "source": [
    "data = data.label_from_func(get_mask, classes=classes)"
   ]
  },
  {
   "cell_type": "code",
   "execution_count": 10,
   "metadata": {},
   "outputs": [],
   "source": [
    "data = data.transform(get_transforms(flip_vert=True), tfm_y=True, size=128)"
   ]
  },
  {
   "cell_type": "code",
   "execution_count": 11,
   "metadata": {},
   "outputs": [],
   "source": [
    "data = data.databunch(bs=1)"
   ]
  },
  {
   "cell_type": "code",
   "execution_count": 12,
   "metadata": {},
   "outputs": [],
   "source": [
    "data = data.normalize()"
   ]
  },
  {
   "cell_type": "code",
   "execution_count": 13,
   "metadata": {},
   "outputs": [],
   "source": [
    "data.train_dl = data.train_dl.new(shuffle=False, drop_last=False, sampler=None, batch_sampler=mysampler.OrderedBatchSampler(SequentialSampler(data.train_dl), 2, True))"
   ]
  },
  {
   "cell_type": "code",
   "execution_count": 14,
   "metadata": {},
   "outputs": [
    {
     "data": {
      "text/plain": [
       "2"
      ]
     },
     "execution_count": 14,
     "metadata": {},
     "output_type": "execute_result"
    }
   ],
   "source": [
    "data.batch_size"
   ]
  },
  {
   "cell_type": "code",
   "execution_count": 15,
   "metadata": {},
   "outputs": [
    {
     "data": {
      "image/png": "[encoded data removed]",
      "text/plain": [
       "<Figure size 576x576 with 4 Axes>"
      ]
     },
     "metadata": {
      "needs_background": "light"
     },
     "output_type": "display_data"
    }
   ],
   "source": [
    "data.show_batch(4)"
   ]
  },
  {
   "cell_type": "markdown",
   "metadata": {},
   "source": [
    "Seed data to Learner"
   ]
  },
  {
   "cell_type": "code",
   "execution_count": 16,
   "metadata": {},
   "outputs": [],
   "source": [
    "def acc_seeds(input, target):\n",
    "    target = target.squeeze(1)\n",
    "    mask = target != 0\n",
    "    return (input.argmax(dim=1)[mask] == target[mask]).float().mean()"
   ]
  },
  {
   "cell_type": "code",
   "execution_count": 27,
   "metadata": {},
   "outputs": [
    {
     "data": {
      "text/plain": [
       "DynamicUnet\n",
       "======================================================================\n",
       "Layer (type)         Output Shape         Param #    Trainable \n",
       "======================================================================\n",
       "Conv2d               [64, 64, 64]         9,408      False     \n",
       "______________________________________________________________________\n",
       "BatchNorm2d          [64, 64, 64]         128        True      \n",
       "______________________________________________________________________\n",
       "ReLU                 [64, 64, 64]         0          False     \n",
       "______________________________________________________________________\n",
       "MaxPool2d            [64, 32, 32]         0          False     \n",
       "______________________________________________________________________\n",
       "Conv2d               [64, 32, 32]         36,864     False     \n",
       "______________________________________________________________________\n",
       "BatchNorm2d          [64, 32, 32]         128        True      \n",
       "______________________________________________________________________\n",
       "ReLU                 [64, 32, 32]         0          False     \n",
       "______________________________________________________________________\n",
       "Conv2d               [64, 32, 32]         36,864     False     \n",
       "______________________________________________________________________\n",
       "BatchNorm2d          [64, 32, 32]         128        True      \n",
       "______________________________________________________________________\n",
       "Conv2d               [64, 32, 32]         36,864     False     \n",
       "______________________________________________________________________\n",
       "BatchNorm2d          [64, 32, 32]         128        True      \n",
       "______________________________________________________________________\n",
       "ReLU                 [64, 32, 32]         0          False     \n",
       "______________________________________________________________________\n",
       "Conv2d               [64, 32, 32]         36,864     False     \n",
       "______________________________________________________________________\n",
       "BatchNorm2d          [64, 32, 32]         128        True      \n",
       "______________________________________________________________________\n",
       "Conv2d               [128, 16, 16]        73,728     False     \n",
       "______________________________________________________________________\n",
       "BatchNorm2d          [128, 16, 16]        256        True      \n",
       "______________________________________________________________________\n",
       "ReLU                 [128, 16, 16]        0          False     \n",
       "______________________________________________________________________\n",
       "Conv2d               [128, 16, 16]        147,456    False     \n",
       "______________________________________________________________________\n",
       "BatchNorm2d          [128, 16, 16]        256        True      \n",
       "______________________________________________________________________\n",
       "Conv2d               [128, 16, 16]        8,192      False     \n",
       "______________________________________________________________________\n",
       "BatchNorm2d          [128, 16, 16]        256        True      \n",
       "______________________________________________________________________\n",
       "Conv2d               [128, 16, 16]        147,456    False     \n",
       "______________________________________________________________________\n",
       "BatchNorm2d          [128, 16, 16]        256        True      \n",
       "______________________________________________________________________\n",
       "ReLU                 [128, 16, 16]        0          False     \n",
       "______________________________________________________________________\n",
       "Conv2d               [128, 16, 16]        147,456    False     \n",
       "______________________________________________________________________\n",
       "BatchNorm2d          [128, 16, 16]        256        True      \n",
       "______________________________________________________________________\n",
       "Conv2d               [256, 8, 8]          294,912    False     \n",
       "______________________________________________________________________\n",
       "BatchNorm2d          [256, 8, 8]          512        True      \n",
       "______________________________________________________________________\n",
       "ReLU                 [256, 8, 8]          0          False     \n",
       "______________________________________________________________________\n",
       "Conv2d               [256, 8, 8]          589,824    False     \n",
       "______________________________________________________________________\n",
       "BatchNorm2d          [256, 8, 8]          512        True      \n",
       "______________________________________________________________________\n",
       "Conv2d               [256, 8, 8]          32,768     False     \n",
       "______________________________________________________________________\n",
       "BatchNorm2d          [256, 8, 8]          512        True      \n",
       "______________________________________________________________________\n",
       "Conv2d               [256, 8, 8]          589,824    False     \n",
       "______________________________________________________________________\n",
       "BatchNorm2d          [256, 8, 8]          512        True      \n",
       "______________________________________________________________________\n",
       "ReLU                 [256, 8, 8]          0          False     \n",
       "______________________________________________________________________\n",
       "Conv2d               [256, 8, 8]          589,824    False     \n",
       "______________________________________________________________________\n",
       "BatchNorm2d          [256, 8, 8]          512        True      \n",
       "______________________________________________________________________\n",
       "Conv2d               [512, 4, 4]          1,179,648  False     \n",
       "______________________________________________________________________\n",
       "BatchNorm2d          [512, 4, 4]          1,024      True      \n",
       "______________________________________________________________________\n",
       "ReLU                 [512, 4, 4]          0          False     \n",
       "______________________________________________________________________\n",
       "Conv2d               [512, 4, 4]          2,359,296  False     \n",
       "______________________________________________________________________\n",
       "BatchNorm2d          [512, 4, 4]          1,024      True      \n",
       "______________________________________________________________________\n",
       "Conv2d               [512, 4, 4]          131,072    False     \n",
       "______________________________________________________________________\n",
       "BatchNorm2d          [512, 4, 4]          1,024      True      \n",
       "______________________________________________________________________\n",
       "Conv2d               [512, 4, 4]          2,359,296  False     \n",
       "______________________________________________________________________\n",
       "BatchNorm2d          [512, 4, 4]          1,024      True      \n",
       "______________________________________________________________________\n",
       "ReLU                 [512, 4, 4]          0          False     \n",
       "______________________________________________________________________\n",
       "Conv2d               [512, 4, 4]          2,359,296  False     \n",
       "______________________________________________________________________\n",
       "BatchNorm2d          [512, 4, 4]          1,024      True      \n",
       "______________________________________________________________________\n",
       "BatchNorm2d          [512, 4, 4]          1,024      True      \n",
       "______________________________________________________________________\n",
       "ReLU                 [512, 4, 4]          0          False     \n",
       "______________________________________________________________________\n",
       "Conv2d               [1024, 4, 4]         4,719,616  True      \n",
       "______________________________________________________________________\n",
       "ReLU                 [1024, 4, 4]         0          False     \n",
       "______________________________________________________________________\n",
       "Conv2d               [512, 4, 4]          4,719,104  True      \n",
       "______________________________________________________________________\n",
       "ReLU                 [512, 4, 4]          0          False     \n",
       "______________________________________________________________________\n",
       "Conv2d               [1024, 4, 4]         525,312    True      \n",
       "______________________________________________________________________\n",
       "PixelShuffle         [256, 8, 8]          0          False     \n",
       "______________________________________________________________________\n",
       "ReLU                 [1024, 4, 4]         0          False     \n",
       "______________________________________________________________________\n",
       "BatchNorm2d          [256, 8, 8]          512        True      \n",
       "______________________________________________________________________\n",
       "Conv2d               [512, 8, 8]          2,359,808  True      \n",
       "______________________________________________________________________\n",
       "ReLU                 [512, 8, 8]          0          False     \n",
       "______________________________________________________________________\n",
       "Conv2d               [512, 8, 8]          2,359,808  True      \n",
       "______________________________________________________________________\n",
       "ReLU                 [512, 8, 8]          0          False     \n",
       "______________________________________________________________________\n",
       "ReLU                 [512, 8, 8]          0          False     \n",
       "______________________________________________________________________\n",
       "Conv2d               [1024, 8, 8]         525,312    True      \n",
       "______________________________________________________________________\n",
       "PixelShuffle         [256, 16, 16]        0          False     \n",
       "______________________________________________________________________\n",
       "ReLU                 [1024, 8, 8]         0          False     \n",
       "______________________________________________________________________\n",
       "BatchNorm2d          [128, 16, 16]        256        True      \n",
       "______________________________________________________________________\n",
       "Conv2d               [384, 16, 16]        1,327,488  True      \n",
       "______________________________________________________________________\n",
       "ReLU                 [384, 16, 16]        0          False     \n",
       "______________________________________________________________________\n",
       "Conv2d               [384, 16, 16]        1,327,488  True      \n",
       "______________________________________________________________________\n",
       "ReLU                 [384, 16, 16]        0          False     \n",
       "______________________________________________________________________\n",
       "ReLU                 [384, 16, 16]        0          False     \n",
       "______________________________________________________________________\n",
       "Conv2d               [768, 16, 16]        295,680    True      \n",
       "______________________________________________________________________\n",
       "PixelShuffle         [192, 32, 32]        0          False     \n",
       "______________________________________________________________________\n",
       "ReLU                 [768, 16, 16]        0          False     \n",
       "______________________________________________________________________\n",
       "BatchNorm2d          [64, 32, 32]         128        True      \n",
       "______________________________________________________________________\n",
       "Conv2d               [256, 32, 32]        590,080    True      \n",
       "______________________________________________________________________\n",
       "ReLU                 [256, 32, 32]        0          False     \n",
       "______________________________________________________________________\n",
       "Conv2d               [256, 32, 32]        590,080    True      \n",
       "______________________________________________________________________\n",
       "ReLU                 [256, 32, 32]        0          False     \n",
       "______________________________________________________________________\n",
       "ReLU                 [256, 32, 32]        0          False     \n",
       "______________________________________________________________________\n",
       "Conv2d               [512, 32, 32]        131,584    True      \n",
       "______________________________________________________________________\n",
       "PixelShuffle         [128, 64, 64]        0          False     \n",
       "______________________________________________________________________\n",
       "ReLU                 [512, 32, 32]        0          False     \n",
       "______________________________________________________________________\n",
       "BatchNorm2d          [64, 64, 64]         128        True      \n",
       "______________________________________________________________________\n",
       "Conv2d               [96, 64, 64]         165,984    True      \n",
       "______________________________________________________________________\n",
       "ReLU                 [96, 64, 64]         0          False     \n",
       "______________________________________________________________________\n",
       "Conv2d               [96, 64, 64]         83,040     True      \n",
       "______________________________________________________________________\n",
       "ReLU                 [96, 64, 64]         0          False     \n",
       "______________________________________________________________________\n",
       "ReLU                 [192, 64, 64]        0          False     \n",
       "______________________________________________________________________\n",
       "Conv2d               [384, 64, 64]        37,248     True      \n",
       "______________________________________________________________________\n",
       "PixelShuffle         [96, 128, 128]       0          False     \n",
       "______________________________________________________________________\n",
       "ReLU                 [384, 64, 64]        0          False     \n",
       "______________________________________________________________________\n",
       "MergeLayer           [99, 128, 128]       0          False     \n",
       "______________________________________________________________________\n",
       "Conv2d               [99, 128, 128]       88,308     True      \n",
       "______________________________________________________________________\n",
       "ReLU                 [99, 128, 128]       0          False     \n",
       "______________________________________________________________________\n",
       "Conv2d               [99, 128, 128]       88,308     True      \n",
       "______________________________________________________________________\n",
       "ReLU                 [99, 128, 128]       0          False     \n",
       "______________________________________________________________________\n",
       "MergeLayer           [99, 128, 128]       0          False     \n",
       "______________________________________________________________________\n",
       "Conv2d               [4, 128, 128]        400        True      \n",
       "______________________________________________________________________\n",
       "\n",
       "Total params: 31,113,208\n",
       "Total trainable params: 19,946,296\n",
       "Total non-trainable params: 11,166,912\n",
       "Optimized with 'torch.optim.adam.Adam', betas=(0.9, 0.99)\n",
       "Using true weight decay as discussed in https://www.fast.ai/2018/07/02/adam-weight-decay/ \n",
       "Loss function : FlattenedLoss\n",
       "======================================================================\n",
       "Callbacks functions applied "
      ]
     },
     "execution_count": 27,
     "metadata": {},
     "output_type": "execute_result"
    }
   ],
   "source": [
    "metrics=acc_seeds\n",
    "wd=1e-2\n",
    "learn = unet_learner(data, models.resnet18, metrics=metrics, wd=wd)\n",
    "learn.summary()"
   ]
  },
  {
   "cell_type": "code",
   "execution_count": 28,
   "metadata": {},
   "outputs": [
    {
     "data": {
      "text/html": [],
      "text/plain": [
       "<IPython.core.display.HTML object>"
      ]
     },
     "metadata": {},
     "output_type": "display_data"
    },
    {
     "name": "stdout",
     "output_type": "stream",
     "text": [
      "LR Finder is complete, type {learner_name}.recorder.plot() to see the graph.\n"
     ]
    },
    {
     "data": {
      "image/png": "[encoded data removed]",
      "text/plain": [
       "<Figure size 432x288 with 1 Axes>"
      ]
     },
     "metadata": {
      "needs_background": "light"
     },
     "output_type": "display_data"
    }
   ],
   "source": [
    "learn.lr_find()\n",
    "learn.recorder.plot()"
   ]
  },
  {
   "cell_type": "code",
   "execution_count": 29,
   "metadata": {},
   "outputs": [
    {
     "data": {
      "text/html": [
       "<table border=\"1\" class=\"dataframe\">\n",
       "  <thead>\n",
       "    <tr style=\"text-align: left;\">\n",
       "      <th>epoch</th>\n",
       "      <th>train_loss</th>\n",
       "      <th>valid_loss</th>\n",
       "      <th>acc_seeds</th>\n",
       "      <th>time</th>\n",
       "    </tr>\n",
       "  </thead>\n",
       "  <tbody>\n",
       "    <tr>\n",
       "      <td>0</td>\n",
       "      <td>0.068162</td>\n",
       "      <td>0.309584</td>\n",
       "      <td>0.451042</td>\n",
       "      <td>13:41</td>\n",
       "    </tr>\n",
       "  </tbody>\n",
       "</table>"
      ],
      "text/plain": [
       "<IPython.core.display.HTML object>"
      ]
     },
     "metadata": {},
     "output_type": "display_data"
    }
   ],
   "source": [
    "learn.fit_one_cycle(cyc_len=1, max_lr=3e-4)"
   ]
  },
  {
   "cell_type": "code",
   "execution_count": 37,
   "metadata": {},
   "outputs": [
    {
     "data": {
      "text/plain": [
       "(tensor([[[[1.8347e-04, 1.1257e-07, 1.1257e-07,  ..., 1.1257e-07,\n",
       "            1.1257e-07, 1.1257e-07],\n",
       "           [5.0204e-03, 1.1257e-07, 1.1257e-07,  ..., 1.1257e-07,\n",
       "            1.1257e-07, 1.1257e-07],\n",
       "           [5.4166e-02, 3.9235e-02, 9.5436e-03,  ..., 1.1257e-07,\n",
       "            1.1257e-07, 1.1257e-07],\n",
       "           ...,\n",
       "           [1.1257e-07, 1.1257e-07, 1.1257e-07,  ..., 1.2439e-01,\n",
       "            1.3625e-01, 1.8557e-02],\n",
       "           [1.1257e-07, 1.1257e-07, 1.1257e-07,  ..., 1.3592e-01,\n",
       "            1.2572e-01, 1.2411e-01],\n",
       "           [1.1257e-07, 1.1257e-07, 1.1257e-07,  ..., 2.3408e-01,\n",
       "            1.3400e-01, 1.4918e-01]],\n",
       " \n",
       "          [[1.8347e-04, 1.1257e-07, 1.1257e-07,  ..., 1.1257e-07,\n",
       "            1.1257e-07, 1.1257e-07],\n",
       "           [5.0204e-03, 1.1257e-07, 1.1257e-07,  ..., 1.1257e-07,\n",
       "            1.1257e-07, 1.1257e-07],\n",
       "           [5.4166e-02, 3.9235e-02, 9.5436e-03,  ..., 1.1257e-07,\n",
       "            1.1257e-07, 1.1257e-07],\n",
       "           ...,\n",
       "           [1.1257e-07, 1.1257e-07, 1.1257e-07,  ..., 1.2439e-01,\n",
       "            1.3625e-01, 1.8557e-02],\n",
       "           [1.1257e-07, 1.1257e-07, 1.1257e-07,  ..., 1.3592e-01,\n",
       "            1.2572e-01, 1.2411e-01],\n",
       "           [1.1257e-07, 1.1257e-07, 1.1257e-07,  ..., 2.3408e-01,\n",
       "            1.3400e-01, 1.4918e-01]],\n",
       " \n",
       "          [[1.8347e-04, 1.1257e-07, 1.1257e-07,  ..., 1.1257e-07,\n",
       "            1.1257e-07, 1.1257e-07],\n",
       "           [5.0204e-03, 1.1257e-07, 1.1257e-07,  ..., 1.1257e-07,\n",
       "            1.1257e-07, 1.1257e-07],\n",
       "           [5.4166e-02, 3.9235e-02, 9.5436e-03,  ..., 1.1257e-07,\n",
       "            1.1257e-07, 1.1257e-07],\n",
       "           ...,\n",
       "           [1.1257e-07, 1.1257e-07, 1.1257e-07,  ..., 1.2439e-01,\n",
       "            1.3625e-01, 1.8557e-02],\n",
       "           [1.1257e-07, 1.1257e-07, 1.1257e-07,  ..., 1.3592e-01,\n",
       "            1.2572e-01, 1.2411e-01],\n",
       "           [1.1257e-07, 1.1257e-07, 1.1257e-07,  ..., 2.3408e-01,\n",
       "            1.3400e-01, 1.4918e-01]]],\n",
       " \n",
       " \n",
       "         [[[1.2675e-01, 1.2697e-01, 1.4618e-01,  ..., 1.4650e-01,\n",
       "            1.4709e-01, 1.3544e-01],\n",
       "           [1.3101e-01, 1.4342e-01, 1.5003e-01,  ..., 1.4339e-01,\n",
       "            1.2895e-01, 1.4485e-01],\n",
       "           [1.1750e-01, 1.5062e-01, 1.3965e-01,  ..., 1.4484e-01,\n",
       "            1.3867e-01, 1.4173e-01],\n",
       "           ...,\n",
       "           [1.0257e-01, 5.0496e-02, 2.1770e-02,  ..., 1.3945e-01,\n",
       "            3.1157e-02, 3.7369e-08],\n",
       "           [2.9442e-02, 5.8435e-03, 1.1570e-02,  ..., 9.4290e-03,\n",
       "            3.7369e-08, 3.7369e-08],\n",
       "           [4.5295e-02, 2.0447e-02, 1.0172e-02,  ..., 3.7369e-08,\n",
       "            3.7369e-08, 3.7369e-08]],\n",
       " \n",
       "          [[1.2675e-01, 1.2697e-01, 1.4618e-01,  ..., 1.4650e-01,\n",
       "            1.4709e-01, 1.3544e-01],\n",
       "           [1.3101e-01, 1.4342e-01, 1.5003e-01,  ..., 1.4339e-01,\n",
       "            1.2895e-01, 1.4485e-01],\n",
       "           [1.1750e-01, 1.5062e-01, 1.3965e-01,  ..., 1.4484e-01,\n",
       "            1.3867e-01, 1.4173e-01],\n",
       "           ...,\n",
       "           [1.0257e-01, 5.0496e-02, 2.1770e-02,  ..., 1.3945e-01,\n",
       "            3.1157e-02, 3.7369e-08],\n",
       "           [2.9442e-02, 5.8435e-03, 1.1570e-02,  ..., 9.4290e-03,\n",
       "            3.7369e-08, 3.7369e-08],\n",
       "           [4.5295e-02, 2.0447e-02, 1.0172e-02,  ..., 3.7369e-08,\n",
       "            3.7369e-08, 3.7369e-08]],\n",
       " \n",
       "          [[1.2675e-01, 1.2697e-01, 1.4618e-01,  ..., 1.4650e-01,\n",
       "            1.4709e-01, 1.3544e-01],\n",
       "           [1.3101e-01, 1.4342e-01, 1.5003e-01,  ..., 1.4339e-01,\n",
       "            1.2895e-01, 1.4485e-01],\n",
       "           [1.1750e-01, 1.5062e-01, 1.3965e-01,  ..., 1.4484e-01,\n",
       "            1.3867e-01, 1.4173e-01],\n",
       "           ...,\n",
       "           [1.0257e-01, 5.0496e-02, 2.1770e-02,  ..., 1.3945e-01,\n",
       "            3.1157e-02, 3.7369e-08],\n",
       "           [2.9442e-02, 5.8435e-03, 1.1570e-02,  ..., 9.4290e-03,\n",
       "            3.7369e-08, 3.7369e-08],\n",
       "           [4.5295e-02, 2.0447e-02, 1.0172e-02,  ..., 3.7369e-08,\n",
       "            3.7369e-08, 3.7369e-08]]]]), tensor([[[[0, 0, 0,  ..., 0, 0, 0],\n",
       "           [0, 0, 0,  ..., 0, 0, 0],\n",
       "           [0, 0, 0,  ..., 0, 0, 0],\n",
       "           ...,\n",
       "           [0, 0, 0,  ..., 0, 0, 0],\n",
       "           [0, 0, 0,  ..., 0, 0, 0],\n",
       "           [0, 0, 0,  ..., 0, 0, 0]]],\n",
       " \n",
       " \n",
       "         [[[0, 0, 0,  ..., 0, 0, 0],\n",
       "           [0, 0, 0,  ..., 0, 0, 0],\n",
       "           [0, 0, 0,  ..., 0, 0, 0],\n",
       "           ...,\n",
       "           [0, 0, 0,  ..., 0, 0, 0],\n",
       "           [0, 0, 0,  ..., 0, 0, 0],\n",
       "           [0, 0, 0,  ..., 0, 0, 0]]]]))"
      ]
     },
     "execution_count": 37,
     "metadata": {},
     "output_type": "execute_result"
    }
   ],
   "source": [
    "learn_output = learn.data\n",
    "learn_output.one_batch()"
   ]
  },
  {
   "cell_type": "code",
   "execution_count": 19,
   "metadata": {},
   "outputs": [
    {
     "data": {
      "text/plain": [
       "torch.Size([2, 3, 128, 128])"
      ]
     },
     "execution_count": 19,
     "metadata": {},
     "output_type": "execute_result"
    }
   ],
   "source": [
    "a_batch = data.one_batch(detach=True)\n",
    "a_batch\n",
    "a_batch[0].size()"
   ]
  },
  {
   "cell_type": "code",
   "execution_count": 20,
   "metadata": {},
   "outputs": [
    {
     "data": {
      "text/plain": [
       "torch.Size([3, 128, 128])"
      ]
     },
     "execution_count": 20,
     "metadata": {},
     "output_type": "execute_result"
    }
   ],
   "source": [
    "img1 = torch.Tensor(a_batch[0][0])\n",
    "img2 = torch.Tensor(a_batch[0][1])\n",
    "img1.size()"
   ]
  },
  {
   "cell_type": "code",
   "execution_count": 21,
   "metadata": {},
   "outputs": [
    {
     "data": {
      "text/plain": [
       "torch.Size([1, 3, 128, 128, 2])"
      ]
     },
     "execution_count": 21,
     "metadata": {},
     "output_type": "execute_result"
    }
   ],
   "source": [
    "two_img = img1\n",
    "two_img = torch.stack((img1, img2), dim = 3)\n",
    "two_img.unsqueeze_(0)\n",
    "two_img.size()\n"
   ]
  },
  {
   "cell_type": "code",
   "execution_count": 22,
   "metadata": {},
   "outputs": [],
   "source": [
    "from torch import nn"
   ]
  },
  {
   "cell_type": "code",
   "execution_count": 23,
   "metadata": {},
   "outputs": [],
   "source": [
    "simple_3conv = nn.Conv3d(in_channels=3, out_channels=64, kernel_size=(1,1,1), stride=1, padding=0)\n",
    "#input = torch.randn(1,3 , 6, 10, 10)\n",
    "#print(input)\n",
    "#output = simple_3conv(input)\n",
    "#output.size()\n",
    "#torch.Size([1, 30, 3, 10, 10])\n",
    "simple_2conv = nn.Conv2d(in_channels=3, out_channels=64, kernel_size=(3,3), stride=1, padding=0)"
   ]
  },
  {
   "cell_type": "code",
   "execution_count": 24,
   "metadata": {},
   "outputs": [
    {
     "data": {
      "text/plain": [
       "torch.Size([2, 64, 126, 126])"
      ]
     },
     "execution_count": 24,
     "metadata": {},
     "output_type": "execute_result"
    }
   ],
   "source": [
    "output = simple_2conv(a_batch[0])\n",
    "output.size()"
   ]
  },
  {
   "cell_type": "code",
   "execution_count": 25,
   "metadata": {},
   "outputs": [
    {
     "data": {
      "text/plain": [
       "torch.Size([1, 64, 128, 128, 2])"
      ]
     },
     "execution_count": 25,
     "metadata": {},
     "output_type": "execute_result"
    }
   ],
   "source": [
    "output3 = simple_3conv(two_img)\n",
    "output3.size()"
   ]
  },
  {
   "cell_type": "code",
   "execution_count": null,
   "metadata": {},
   "outputs": [],
   "source": []
  },
  {
   "cell_type": "code",
   "execution_count": null,
   "metadata": {},
   "outputs": [],
   "source": []
  }
 ],
 "metadata": {
  "kernelspec": {
   "display_name": "Python 3",
   "language": "python",
   "name": "python3"
  },
  "language_info": {
   "codemirror_mode": {
    "name": "ipython",
    "version": 3
   },
   "file_extension": ".py",
   "mimetype": "text/x-python",
   "name": "python",
   "nbconvert_exporter": "python",
   "pygments_lexer": "ipython3",
   "version": "3.7.4"
  }
 },
 "nbformat": 4,
 "nbformat_minor": 2
}
