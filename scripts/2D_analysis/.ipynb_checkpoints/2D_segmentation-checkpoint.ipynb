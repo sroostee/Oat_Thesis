{
 "cells": [
  {
   "cell_type": "code",
   "execution_count": 3,
   "metadata": {},
   "outputs": [],
   "source": [
    "%reload_ext autoreload\n",
    "%autoreload 2\n",
    "%matplotlib inline"
   ]
  },
  {
   "cell_type": "code",
   "execution_count": 4,
   "metadata": {},
   "outputs": [],
   "source": [
    "from fastai import *\n",
    "from fastai.vision import *\n",
    "from torch import nn\n",
    "from collections import defaultdict"
   ]
  },
  {
   "cell_type": "markdown",
   "metadata": {},
   "source": [
    "# Data loading and Cleaning"
   ]
  },
  {
   "cell_type": "code",
   "execution_count": 5,
   "metadata": {},
   "outputs": [
    {
     "data": {
      "text/plain": [
       "[PosixPath('/home/suze/seed_images/Data_for_ML_Test/test_model/Belinda_test/NewLabels'),\n",
       " PosixPath('/home/suze/seed_images/Data_for_ML_Test/test_model/Belinda_test/Images'),\n",
       " PosixPath('/home/suze/seed_images/Data_for_ML_Test/test_model/Belinda_test/models'),\n",
       " PosixPath('/home/suze/seed_images/Data_for_ML_Test/test_model/Belinda_test/valid.txt')]"
      ]
     },
     "execution_count": 5,
     "metadata": {},
     "output_type": "execute_result"
    }
   ],
   "source": [
    "path = Path('/home/suze/seed_images/Data_for_ML_Test/test_model/Belinda_test')\n",
    "path.ls()"
   ]
  },
  {
   "cell_type": "code",
   "execution_count": 6,
   "metadata": {},
   "outputs": [
    {
     "data": {
      "text/plain": [
       "PosixPath('/home/suze/seed_images/Data_for_ML_Test/test_model/Belinda_test/NewLabels')"
      ]
     },
     "execution_count": 6,
     "metadata": {},
     "output_type": "execute_result"
    }
   ],
   "source": [
    "path_img = path/'Images' #should later be provided through ini file\n",
    "path_lbl = path/'NewLabels' #should later be provided through ini file\n",
    "path_img\n",
    "path_lbl"
   ]
  },
  {
   "cell_type": "code",
   "execution_count": 7,
   "metadata": {},
   "outputs": [
    {
     "data": {
      "text/plain": [
       "[PosixPath('/home/suze/seed_images/Data_for_ML_Test/test_model/Belinda_test/NewLabels/BM1_0833.tif'),\n",
       " PosixPath('/home/suze/seed_images/Data_for_ML_Test/test_model/Belinda_test/NewLabels/BM3_1364.tif'),\n",
       " PosixPath('/home/suze/seed_images/Data_for_ML_Test/test_model/Belinda_test/NewLabels/BM1_x_0128.tif')]"
      ]
     },
     "execution_count": 7,
     "metadata": {},
     "output_type": "execute_result"
    }
   ],
   "source": [
    "img_names=get_image_files(path_img)\n",
    "img_names[:3]\n",
    "lbl_names=get_image_files(path_lbl)\n",
    "lbl_names[:3]"
   ]
  },
  {
   "cell_type": "code",
   "execution_count": 8,
   "metadata": {},
   "outputs": [],
   "source": [
    "def get_mask(img):\n",
    "    return (path_lbl)/img.name"
   ]
  },
  {
   "cell_type": "code",
   "execution_count": 9,
   "metadata": {},
   "outputs": [],
   "source": [
    "\"\"\"function to filter out images that only contain background; used to calculate appropriate weights; \n",
    "function returns the images that also contain seed in a list\"\"\"\n",
    "def filter_background(img_list):\n",
    "    include=[]\n",
    "    for img in img_list:\n",
    "        mask = open_mask(get_mask(img))\n",
    "        count_total=(torch.unique(mask.data, return_counts=True))\n",
    "        if not count_total[0].tolist() == [0]:\n",
    "            include.append(img)\n",
    "    return include"
   ]
  },
  {
   "cell_type": "code",
   "execution_count": 10,
   "metadata": {},
   "outputs": [],
   "source": [
    "\"\"\"function to filter out images that only contain background; used to filter in the API; \n",
    "function has to return a boolean\n",
    "slow, every mask has to be opened to check the values\"\"\"\n",
    "def check_back(img):\n",
    "    mask = open_mask(get_mask(img))\n",
    "    count_total=(torch.unique(mask.data, return_counts=True))\n",
    "    if not count_total[0].tolist() == [0]:\n",
    "        return True\n",
    "    else:\n",
    "        return False"
   ]
  },
  {
   "cell_type": "code",
   "execution_count": 11,
   "metadata": {},
   "outputs": [],
   "source": [
    "#mask = open_mask(get_mask(img_names[300]))\n",
    "#mask.data\n",
    "#count_total=(torch.unique(mask.data, return_counts=True))\n",
    "#count_total[0].tolist()\n",
    "#len(img_names)"
   ]
  },
  {
   "cell_type": "code",
   "execution_count": 12,
   "metadata": {},
   "outputs": [],
   "source": [
    "#include = filter_background(img_names)\n",
    "#len(include)\n",
    "#mask.show()"
   ]
  },
  {
   "cell_type": "code",
   "execution_count": 13,
   "metadata": {},
   "outputs": [],
   "source": [
    "#img_list2\n",
    "#img = open_image(img_names[1])\n",
    "#img.show()\n",
    "#src_size = np.array(mask.shape[1:])\n",
    "#src_size,mask.data"
   ]
  },
  {
   "cell_type": "code",
   "execution_count": 14,
   "metadata": {},
   "outputs": [],
   "source": [
    "def count_mask(img_list):\n",
    "    img_list = filter_background(img_list)\n",
    "    count_classes = defaultdict(int)\n",
    "    for img in img_list:\n",
    "        #return the occurence of every class in the mask for an image\n",
    "        mask = open_mask(get_mask(img))\n",
    "        count_total = torch.unique(mask.data, return_counts=True)\n",
    "        classes=count_total[0].tolist()\n",
    "        count_real=count_total[1].tolist()\n",
    "        for x, y in zip(classes, count_real):\n",
    "            count_classes[x] += y\n",
    "    return count_classes"
   ]
  },
  {
   "cell_type": "code",
   "execution_count": 15,
   "metadata": {},
   "outputs": [
    {
     "name": "stdout",
     "output_type": "stream",
     "text": [
      "CPU times: user 3h 11min 39s, sys: 11min 25s, total: 3h 23min 5s\n",
      "Wall time: 6min 21s\n"
     ]
    },
    {
     "data": {
      "text/plain": [
       "defaultdict(int, {0: 5172245972, 1: 1746988299, 2: 183613959, 3: 149740758})"
      ]
     },
     "execution_count": 15,
     "metadata": {},
     "output_type": "execute_result"
    }
   ],
   "source": [
    "%time classes_count = count_mask(img_names)\n",
    "classes_count\n",
    "#slow for big sets, make faster?"
   ]
  },
  {
   "cell_type": "code",
   "execution_count": 16,
   "metadata": {},
   "outputs": [
    {
     "data": {
      "text/plain": [
       "[5172245972, 1746988299, 183613959, 149740758]"
      ]
     },
     "execution_count": 16,
     "metadata": {},
     "output_type": "execute_result"
    }
   ],
   "source": [
    "#append occurences in a list \n",
    "#seems redundant\n",
    "counts = []\n",
    "for c in classes_count:\n",
    "    counts.append(classes_count[c])\n",
    "counts"
   ]
  },
  {
   "cell_type": "code",
   "execution_count": 17,
   "metadata": {},
   "outputs": [
    {
     "data": {
      "text/plain": [
       "[0.028950819201295323, 0.08571365823441042, 0.8155194671228673, 1.0]"
      ]
     },
     "execution_count": 17,
     "metadata": {},
     "output_type": "execute_result"
    }
   ],
   "source": [
    "weight_ratios =[min(counts)/x for x in counts]\n",
    "weight_ratios"
   ]
  },
  {
   "cell_type": "code",
   "execution_count": 18,
   "metadata": {},
   "outputs": [],
   "source": [
    "np.random.seed(42)\n",
    "#slow with large data set\n",
    "src = (SegmentationItemList.from_folder(path)\n",
    "       .filter_by_func(check_back)\n",
    "       .split_by_fname_file('valid.txt')\n",
    "       .label_from_func(get_mask, classes=list(range(4))))"
   ]
  },
  {
   "cell_type": "code",
   "execution_count": 19,
   "metadata": {},
   "outputs": [
    {
     "data": {
      "text/plain": [
       "LabelLists;\n",
       "\n",
       "Train: LabelList (6488 items)\n",
       "x: SegmentationItemList\n",
       "Image (3, 668, 864),Image (3, 2381, 864),Image (3, 2381, 864),Image (3, 2381, 668),Image (3, 668, 864)\n",
       "y: SegmentationLabelList\n",
       "ImageSegment (1, 668, 864),ImageSegment (1, 2381, 864),ImageSegment (1, 2381, 864),ImageSegment (1, 2381, 668),ImageSegment (1, 668, 864)\n",
       "Path: /home/suze/seed_images/Data_for_ML_Test/test_model/Belinda_test;\n",
       "\n",
       "Valid: LabelList (6600 items)\n",
       "x: SegmentationItemList\n",
       "Image (3, 678, 931),Image (3, 678, 931),Image (3, 2183, 678),Image (3, 678, 931),Image (3, 678, 931)\n",
       "y: SegmentationLabelList\n",
       "ImageSegment (1, 678, 931),ImageSegment (1, 678, 931),ImageSegment (1, 2183, 678),ImageSegment (1, 678, 931),ImageSegment (1, 678, 931)\n",
       "Path: /home/suze/seed_images/Data_for_ML_Test/test_model/Belinda_test;\n",
       "\n",
       "Test: None"
      ]
     },
     "execution_count": 19,
     "metadata": {},
     "output_type": "execute_result"
    }
   ],
   "source": [
    "src"
   ]
  },
  {
   "cell_type": "code",
   "execution_count": 20,
   "metadata": {},
   "outputs": [],
   "source": [
    "%time data = (src.transform(get_transforms(), tfm_y=True, size=128)\n",
    "       .databunch(bs=8)\n",
    "       .normalize())"
   ]
  },
  {
   "cell_type": "code",
   "execution_count": 21,
   "metadata": {},
   "outputs": [
    {
     "data": {
      "text/plain": [
       "ImageDataBunch;\n",
       "\n",
       "Train: LabelList (6488 items)\n",
       "x: SegmentationItemList\n",
       "Image (3, 128, 128),Image (3, 128, 128),Image (3, 128, 128),Image (3, 128, 128),Image (3, 128, 128)\n",
       "y: SegmentationLabelList\n",
       "ImageSegment (1, 128, 128),ImageSegment (1, 128, 128),ImageSegment (1, 128, 128),ImageSegment (1, 128, 128),ImageSegment (1, 128, 128)\n",
       "Path: /home/suze/seed_images/Data_for_ML_Test/test_model/Belinda_test;\n",
       "\n",
       "Valid: LabelList (6600 items)\n",
       "x: SegmentationItemList\n",
       "Image (3, 128, 128),Image (3, 128, 128),Image (3, 128, 128),Image (3, 128, 128),Image (3, 128, 128)\n",
       "y: SegmentationLabelList\n",
       "ImageSegment (1, 128, 128),ImageSegment (1, 128, 128),ImageSegment (1, 128, 128),ImageSegment (1, 128, 128),ImageSegment (1, 128, 128)\n",
       "Path: /home/suze/seed_images/Data_for_ML_Test/test_model/Belinda_test;\n",
       "\n",
       "Test: None"
      ]
     },
     "execution_count": 21,
     "metadata": {},
     "output_type": "execute_result"
    }
   ],
   "source": [
    "data"
   ]
  },
  {
   "cell_type": "code",
   "execution_count": 22,
   "metadata": {},
   "outputs": [
    {
     "data": {
      "image/png": "[encoded data removed]",
      "text/plain": [
       "<Figure size 720x504 with 9 Axes>"
      ]
     },
     "metadata": {
      "needs_background": "light"
     },
     "output_type": "display_data"
    }
   ],
   "source": [
    "data.show_batch(4, figsize=(10,7))"
   ]
  },
  {
   "cell_type": "markdown",
   "metadata": {},
   "source": [
    "# Learning"
   ]
  },
  {
   "cell_type": "code",
   "execution_count": 23,
   "metadata": {},
   "outputs": [],
   "source": [
    "#from Nikos\n",
    "\n",
    "def acc_seeds(input, target):\n",
    "    target = target.squeeze(1)\n",
    "    mask = target != 0 #not interested in background\n",
    "    return (input.argmax(dim=1)[mask] == target[mask]).float().mean()"
   ]
  },
  {
   "cell_type": "code",
   "execution_count": 24,
   "metadata": {},
   "outputs": [],
   "source": [
    "metrics=acc_seeds\n",
    "wd=1e-2"
   ]
  },
  {
   "cell_type": "code",
   "execution_count": 25,
   "metadata": {},
   "outputs": [],
   "source": [
    "learn = unet_learner(data, models.resnet34, metrics=metrics, wd=wd)"
   ]
  },
  {
   "cell_type": "code",
   "execution_count": 28,
   "metadata": {},
   "outputs": [],
   "source": [
    "#set class weights\n",
    "class_weights=torch.FloatTensor(weight_ratios)\n",
    "learn.crit = nn.CrossEntropyLoss(weight=class_weights)"
   ]
  },
  {
   "cell_type": "code",
   "execution_count": 25,
   "metadata": {},
   "outputs": [
    {
     "data": {
      "text/html": [],
      "text/plain": [
       "<IPython.core.display.HTML object>"
      ]
     },
     "metadata": {},
     "output_type": "display_data"
    },
    {
     "name": "stdout",
     "output_type": "stream",
     "text": [
      "LR Finder is complete, type {learner_name}.recorder.plot() to see the graph.\n"
     ]
    },
    {
     "data": {
      "image/png": "[encoded data removed]",
      "text/plain": [
       "<Figure size 432x288 with 1 Axes>"
      ]
     },
     "metadata": {
      "needs_background": "light"
     },
     "output_type": "display_data"
    }
   ],
   "source": [
    "lr_find(learn)\n",
    "learn.recorder.plot()"
   ]
  },
  {
   "cell_type": "code",
   "execution_count": 26,
   "metadata": {},
   "outputs": [],
   "source": [
    "lr = 1e-4"
   ]
  },
  {
   "cell_type": "code",
   "execution_count": 27,
   "metadata": {},
   "outputs": [],
   "source": [
    "lrs = slice(lr/100,lr)"
   ]
  },
  {
   "cell_type": "code",
   "execution_count": 28,
   "metadata": {},
   "outputs": [
    {
     "data": {
      "text/html": [
       "<table border=\"1\" class=\"dataframe\">\n",
       "  <thead>\n",
       "    <tr style=\"text-align: left;\">\n",
       "      <th>epoch</th>\n",
       "      <th>train_loss</th>\n",
       "      <th>valid_loss</th>\n",
       "      <th>acc_seeds</th>\n",
       "      <th>time</th>\n",
       "    </tr>\n",
       "  </thead>\n",
       "  <tbody>\n",
       "    <tr>\n",
       "      <td>0</td>\n",
       "      <td>0.216899</td>\n",
       "      <td>0.149775</td>\n",
       "      <td>0.927373</td>\n",
       "      <td>02:06</td>\n",
       "    </tr>\n",
       "    <tr>\n",
       "      <td>1</td>\n",
       "      <td>0.094709</td>\n",
       "      <td>0.074932</td>\n",
       "      <td>0.957735</td>\n",
       "      <td>01:57</td>\n",
       "    </tr>\n",
       "    <tr>\n",
       "      <td>2</td>\n",
       "      <td>0.054602</td>\n",
       "      <td>0.054460</td>\n",
       "      <td>0.963165</td>\n",
       "      <td>01:46</td>\n",
       "    </tr>\n",
       "    <tr>\n",
       "      <td>3</td>\n",
       "      <td>0.044119</td>\n",
       "      <td>0.044057</td>\n",
       "      <td>0.971141</td>\n",
       "      <td>01:49</td>\n",
       "    </tr>\n",
       "  </tbody>\n",
       "</table>"
      ],
      "text/plain": [
       "<IPython.core.display.HTML object>"
      ]
     },
     "metadata": {},
     "output_type": "display_data"
    }
   ],
   "source": [
    "learn.fit_one_cycle(4, lr)"
   ]
  },
  {
   "cell_type": "code",
   "execution_count": 29,
   "metadata": {},
   "outputs": [
    {
     "data": {
      "text/plain": [
       "DynamicUnet\n",
       "======================================================================\n",
       "Layer (type)         Output Shape         Param #    Trainable \n",
       "======================================================================\n",
       "Conv2d               [64, 64, 64]         9,408      False     \n",
       "______________________________________________________________________\n",
       "BatchNorm2d          [64, 64, 64]         128        True      \n",
       "______________________________________________________________________\n",
       "ReLU                 [64, 64, 64]         0          False     \n",
       "______________________________________________________________________\n",
       "MaxPool2d            [64, 32, 32]         0          False     \n",
       "______________________________________________________________________\n",
       "Conv2d               [64, 32, 32]         36,864     False     \n",
       "______________________________________________________________________\n",
       "BatchNorm2d          [64, 32, 32]         128        True      \n",
       "______________________________________________________________________\n",
       "ReLU                 [64, 32, 32]         0          False     \n",
       "______________________________________________________________________\n",
       "Conv2d               [64, 32, 32]         36,864     False     \n",
       "______________________________________________________________________\n",
       "BatchNorm2d          [64, 32, 32]         128        True      \n",
       "______________________________________________________________________\n",
       "Conv2d               [64, 32, 32]         36,864     False     \n",
       "______________________________________________________________________\n",
       "BatchNorm2d          [64, 32, 32]         128        True      \n",
       "______________________________________________________________________\n",
       "ReLU                 [64, 32, 32]         0          False     \n",
       "______________________________________________________________________\n",
       "Conv2d               [64, 32, 32]         36,864     False     \n",
       "______________________________________________________________________\n",
       "BatchNorm2d          [64, 32, 32]         128        True      \n",
       "______________________________________________________________________\n",
       "Conv2d               [64, 32, 32]         36,864     False     \n",
       "______________________________________________________________________\n",
       "BatchNorm2d          [64, 32, 32]         128        True      \n",
       "______________________________________________________________________\n",
       "ReLU                 [64, 32, 32]         0          False     \n",
       "______________________________________________________________________\n",
       "Conv2d               [64, 32, 32]         36,864     False     \n",
       "______________________________________________________________________\n",
       "BatchNorm2d          [64, 32, 32]         128        True      \n",
       "______________________________________________________________________\n",
       "Conv2d               [128, 16, 16]        73,728     False     \n",
       "______________________________________________________________________\n",
       "BatchNorm2d          [128, 16, 16]        256        True      \n",
       "______________________________________________________________________\n",
       "ReLU                 [128, 16, 16]        0          False     \n",
       "______________________________________________________________________\n",
       "Conv2d               [128, 16, 16]        147,456    False     \n",
       "______________________________________________________________________\n",
       "BatchNorm2d          [128, 16, 16]        256        True      \n",
       "______________________________________________________________________\n",
       "Conv2d               [128, 16, 16]        8,192      False     \n",
       "______________________________________________________________________\n",
       "BatchNorm2d          [128, 16, 16]        256        True      \n",
       "______________________________________________________________________\n",
       "Conv2d               [128, 16, 16]        147,456    False     \n",
       "______________________________________________________________________\n",
       "BatchNorm2d          [128, 16, 16]        256        True      \n",
       "______________________________________________________________________\n",
       "ReLU                 [128, 16, 16]        0          False     \n",
       "______________________________________________________________________\n",
       "Conv2d               [128, 16, 16]        147,456    False     \n",
       "______________________________________________________________________\n",
       "BatchNorm2d          [128, 16, 16]        256        True      \n",
       "______________________________________________________________________\n",
       "Conv2d               [128, 16, 16]        147,456    False     \n",
       "______________________________________________________________________\n",
       "BatchNorm2d          [128, 16, 16]        256        True      \n",
       "______________________________________________________________________\n",
       "ReLU                 [128, 16, 16]        0          False     \n",
       "______________________________________________________________________\n",
       "Conv2d               [128, 16, 16]        147,456    False     \n",
       "______________________________________________________________________\n",
       "BatchNorm2d          [128, 16, 16]        256        True      \n",
       "______________________________________________________________________\n",
       "Conv2d               [128, 16, 16]        147,456    False     \n",
       "______________________________________________________________________\n",
       "BatchNorm2d          [128, 16, 16]        256        True      \n",
       "______________________________________________________________________\n",
       "ReLU                 [128, 16, 16]        0          False     \n",
       "______________________________________________________________________\n",
       "Conv2d               [128, 16, 16]        147,456    False     \n",
       "______________________________________________________________________\n",
       "BatchNorm2d          [128, 16, 16]        256        True      \n",
       "______________________________________________________________________\n",
       "Conv2d               [256, 8, 8]          294,912    False     \n",
       "______________________________________________________________________\n",
       "BatchNorm2d          [256, 8, 8]          512        True      \n",
       "______________________________________________________________________\n",
       "ReLU                 [256, 8, 8]          0          False     \n",
       "______________________________________________________________________\n",
       "Conv2d               [256, 8, 8]          589,824    False     \n",
       "______________________________________________________________________\n",
       "BatchNorm2d          [256, 8, 8]          512        True      \n",
       "______________________________________________________________________\n",
       "Conv2d               [256, 8, 8]          32,768     False     \n",
       "______________________________________________________________________\n",
       "BatchNorm2d          [256, 8, 8]          512        True      \n",
       "______________________________________________________________________\n",
       "Conv2d               [256, 8, 8]          589,824    False     \n",
       "______________________________________________________________________\n",
       "BatchNorm2d          [256, 8, 8]          512        True      \n",
       "______________________________________________________________________\n",
       "ReLU                 [256, 8, 8]          0          False     \n",
       "______________________________________________________________________\n",
       "Conv2d               [256, 8, 8]          589,824    False     \n",
       "______________________________________________________________________\n",
       "BatchNorm2d          [256, 8, 8]          512        True      \n",
       "______________________________________________________________________\n",
       "Conv2d               [256, 8, 8]          589,824    False     \n",
       "______________________________________________________________________\n",
       "BatchNorm2d          [256, 8, 8]          512        True      \n",
       "______________________________________________________________________\n",
       "ReLU                 [256, 8, 8]          0          False     \n",
       "______________________________________________________________________\n",
       "Conv2d               [256, 8, 8]          589,824    False     \n",
       "______________________________________________________________________\n",
       "BatchNorm2d          [256, 8, 8]          512        True      \n",
       "______________________________________________________________________\n",
       "Conv2d               [256, 8, 8]          589,824    False     \n",
       "______________________________________________________________________\n",
       "BatchNorm2d          [256, 8, 8]          512        True      \n",
       "______________________________________________________________________\n",
       "ReLU                 [256, 8, 8]          0          False     \n",
       "______________________________________________________________________\n",
       "Conv2d               [256, 8, 8]          589,824    False     \n",
       "______________________________________________________________________\n",
       "BatchNorm2d          [256, 8, 8]          512        True      \n",
       "______________________________________________________________________\n",
       "Conv2d               [256, 8, 8]          589,824    False     \n",
       "______________________________________________________________________\n",
       "BatchNorm2d          [256, 8, 8]          512        True      \n",
       "______________________________________________________________________\n",
       "ReLU                 [256, 8, 8]          0          False     \n",
       "______________________________________________________________________\n",
       "Conv2d               [256, 8, 8]          589,824    False     \n",
       "______________________________________________________________________\n",
       "BatchNorm2d          [256, 8, 8]          512        True      \n",
       "______________________________________________________________________\n",
       "Conv2d               [256, 8, 8]          589,824    False     \n",
       "______________________________________________________________________\n",
       "BatchNorm2d          [256, 8, 8]          512        True      \n",
       "______________________________________________________________________\n",
       "ReLU                 [256, 8, 8]          0          False     \n",
       "______________________________________________________________________\n",
       "Conv2d               [256, 8, 8]          589,824    False     \n",
       "______________________________________________________________________\n",
       "BatchNorm2d          [256, 8, 8]          512        True      \n",
       "______________________________________________________________________\n",
       "Conv2d               [512, 4, 4]          1,179,648  False     \n",
       "______________________________________________________________________\n",
       "BatchNorm2d          [512, 4, 4]          1,024      True      \n",
       "______________________________________________________________________\n",
       "ReLU                 [512, 4, 4]          0          False     \n",
       "______________________________________________________________________\n",
       "Conv2d               [512, 4, 4]          2,359,296  False     \n",
       "______________________________________________________________________\n",
       "BatchNorm2d          [512, 4, 4]          1,024      True      \n",
       "______________________________________________________________________\n",
       "Conv2d               [512, 4, 4]          131,072    False     \n",
       "______________________________________________________________________\n",
       "BatchNorm2d          [512, 4, 4]          1,024      True      \n",
       "______________________________________________________________________\n",
       "Conv2d               [512, 4, 4]          2,359,296  False     \n",
       "______________________________________________________________________\n",
       "BatchNorm2d          [512, 4, 4]          1,024      True      \n",
       "______________________________________________________________________\n",
       "ReLU                 [512, 4, 4]          0          False     \n",
       "______________________________________________________________________\n",
       "Conv2d               [512, 4, 4]          2,359,296  False     \n",
       "______________________________________________________________________\n",
       "BatchNorm2d          [512, 4, 4]          1,024      True      \n",
       "______________________________________________________________________\n",
       "Conv2d               [512, 4, 4]          2,359,296  False     \n",
       "______________________________________________________________________\n",
       "BatchNorm2d          [512, 4, 4]          1,024      True      \n",
       "______________________________________________________________________\n",
       "ReLU                 [512, 4, 4]          0          False     \n",
       "______________________________________________________________________\n",
       "Conv2d               [512, 4, 4]          2,359,296  False     \n",
       "______________________________________________________________________\n",
       "BatchNorm2d          [512, 4, 4]          1,024      True      \n",
       "______________________________________________________________________\n",
       "BatchNorm2d          [512, 4, 4]          1,024      True      \n",
       "______________________________________________________________________\n",
       "ReLU                 [512, 4, 4]          0          False     \n",
       "______________________________________________________________________\n",
       "Conv2d               [1024, 4, 4]         4,719,616  True      \n",
       "______________________________________________________________________\n",
       "ReLU                 [1024, 4, 4]         0          False     \n",
       "______________________________________________________________________\n",
       "Conv2d               [512, 4, 4]          4,719,104  True      \n",
       "______________________________________________________________________\n",
       "ReLU                 [512, 4, 4]          0          False     \n",
       "______________________________________________________________________\n",
       "Conv2d               [1024, 4, 4]         525,312    True      \n",
       "______________________________________________________________________\n",
       "PixelShuffle         [256, 8, 8]          0          False     \n",
       "______________________________________________________________________\n",
       "ReLU                 [1024, 4, 4]         0          False     \n",
       "______________________________________________________________________\n",
       "BatchNorm2d          [256, 8, 8]          512        True      \n",
       "______________________________________________________________________\n",
       "Conv2d               [512, 8, 8]          2,359,808  True      \n",
       "______________________________________________________________________\n",
       "ReLU                 [512, 8, 8]          0          False     \n",
       "______________________________________________________________________\n",
       "Conv2d               [512, 8, 8]          2,359,808  True      \n",
       "______________________________________________________________________\n",
       "ReLU                 [512, 8, 8]          0          False     \n",
       "______________________________________________________________________\n",
       "ReLU                 [512, 8, 8]          0          False     \n",
       "______________________________________________________________________\n",
       "Conv2d               [1024, 8, 8]         525,312    True      \n",
       "______________________________________________________________________\n",
       "PixelShuffle         [256, 16, 16]        0          False     \n",
       "______________________________________________________________________\n",
       "ReLU                 [1024, 8, 8]         0          False     \n",
       "______________________________________________________________________\n",
       "BatchNorm2d          [128, 16, 16]        256        True      \n",
       "______________________________________________________________________\n",
       "Conv2d               [384, 16, 16]        1,327,488  True      \n",
       "______________________________________________________________________\n",
       "ReLU                 [384, 16, 16]        0          False     \n",
       "______________________________________________________________________\n",
       "Conv2d               [384, 16, 16]        1,327,488  True      \n",
       "______________________________________________________________________\n",
       "ReLU                 [384, 16, 16]        0          False     \n",
       "______________________________________________________________________\n",
       "ReLU                 [384, 16, 16]        0          False     \n",
       "______________________________________________________________________\n",
       "Conv2d               [768, 16, 16]        295,680    True      \n",
       "______________________________________________________________________\n",
       "PixelShuffle         [192, 32, 32]        0          False     \n",
       "______________________________________________________________________\n",
       "ReLU                 [768, 16, 16]        0          False     \n",
       "______________________________________________________________________\n",
       "BatchNorm2d          [64, 32, 32]         128        True      \n",
       "______________________________________________________________________\n",
       "Conv2d               [256, 32, 32]        590,080    True      \n",
       "______________________________________________________________________\n",
       "ReLU                 [256, 32, 32]        0          False     \n",
       "______________________________________________________________________\n",
       "Conv2d               [256, 32, 32]        590,080    True      \n",
       "______________________________________________________________________\n",
       "ReLU                 [256, 32, 32]        0          False     \n",
       "______________________________________________________________________\n",
       "ReLU                 [256, 32, 32]        0          False     \n",
       "______________________________________________________________________\n",
       "Conv2d               [512, 32, 32]        131,584    True      \n",
       "______________________________________________________________________\n",
       "PixelShuffle         [128, 64, 64]        0          False     \n",
       "______________________________________________________________________\n",
       "ReLU                 [512, 32, 32]        0          False     \n",
       "______________________________________________________________________\n",
       "BatchNorm2d          [64, 64, 64]         128        True      \n",
       "______________________________________________________________________\n",
       "Conv2d               [96, 64, 64]         165,984    True      \n",
       "______________________________________________________________________\n",
       "ReLU                 [96, 64, 64]         0          False     \n",
       "______________________________________________________________________\n",
       "Conv2d               [96, 64, 64]         83,040     True      \n",
       "______________________________________________________________________\n",
       "ReLU                 [96, 64, 64]         0          False     \n",
       "______________________________________________________________________\n",
       "ReLU                 [192, 64, 64]        0          False     \n",
       "______________________________________________________________________\n",
       "Conv2d               [384, 64, 64]        37,248     True      \n",
       "______________________________________________________________________\n",
       "PixelShuffle         [96, 128, 128]       0          False     \n",
       "______________________________________________________________________\n",
       "ReLU                 [384, 64, 64]        0          False     \n",
       "______________________________________________________________________\n",
       "MergeLayer           [99, 128, 128]       0          False     \n",
       "______________________________________________________________________\n",
       "Conv2d               [99, 128, 128]       88,308     True      \n",
       "______________________________________________________________________\n",
       "ReLU                 [99, 128, 128]       0          False     \n",
       "______________________________________________________________________\n",
       "Conv2d               [99, 128, 128]       88,308     True      \n",
       "______________________________________________________________________\n",
       "ReLU                 [99, 128, 128]       0          False     \n",
       "______________________________________________________________________\n",
       "MergeLayer           [99, 128, 128]       0          False     \n",
       "______________________________________________________________________\n",
       "Conv2d               [4, 128, 128]        400        True      \n",
       "______________________________________________________________________\n",
       "\n",
       "Total params: 41,221,368\n",
       "Total trainable params: 19,953,720\n",
       "Total non-trainable params: 21,267,648\n",
       "Optimized with 'torch.optim.adam.Adam', betas=(0.9, 0.99)\n",
       "Using true weight decay as discussed in https://www.fast.ai/2018/07/02/adam-weight-decay/ \n",
       "Loss function : FlattenedLoss\n",
       "======================================================================\n",
       "Callbacks functions applied "
      ]
     },
     "execution_count": 29,
     "metadata": {},
     "output_type": "execute_result"
    }
   ],
   "source": [
    "learn.summary()"
   ]
  },
  {
   "cell_type": "code",
   "execution_count": 29,
   "metadata": {},
   "outputs": [],
   "source": [
    "#learn.save('stage-small_1')"
   ]
  },
  {
   "cell_type": "code",
   "execution_count": 30,
   "metadata": {},
   "outputs": [],
   "source": [
    "#learn.load('stage-small_1');"
   ]
  },
  {
   "cell_type": "code",
   "execution_count": 31,
   "metadata": {},
   "outputs": [],
   "source": [
    "#learn.unfreeze()"
   ]
  },
  {
   "cell_type": "code",
   "execution_count": 32,
   "metadata": {},
   "outputs": [],
   "source": [
    "#learn.fit_one_cycle(2, lrs)"
   ]
  },
  {
   "cell_type": "code",
   "execution_count": 33,
   "metadata": {},
   "outputs": [],
   "source": [
    "#learn.save('stage-small_2')"
   ]
  },
  {
   "cell_type": "code",
   "execution_count": 34,
   "metadata": {},
   "outputs": [],
   "source": [
    "#data_med = (src.transform(get_transforms(), tfm_y=True, size=256)\n",
    "#       .databunch(bs=8)\n",
    "#       .normalize())"
   ]
  },
  {
   "cell_type": "code",
   "execution_count": 35,
   "metadata": {},
   "outputs": [],
   "source": [
    "#learn = unet_learner(data_med, models.resnet34, metrics=metrics, wd=wd)\n",
    "#learn.crit = nn.CrossEntropyLoss(weight=class_weights)"
   ]
  },
  {
   "cell_type": "code",
   "execution_count": 36,
   "metadata": {},
   "outputs": [],
   "source": [
    "#learn.load('stage-small_2');"
   ]
  },
  {
   "cell_type": "code",
   "execution_count": 37,
   "metadata": {},
   "outputs": [],
   "source": [
    "#learn.unfreeze()"
   ]
  },
  {
   "cell_type": "code",
   "execution_count": 38,
   "metadata": {},
   "outputs": [],
   "source": [
    "#learn.fit_one_cycle(2, lrs)"
   ]
  },
  {
   "cell_type": "code",
   "execution_count": 39,
   "metadata": {},
   "outputs": [],
   "source": [
    "#learn.show_results()"
   ]
  },
  {
   "cell_type": "code",
   "execution_count": 40,
   "metadata": {},
   "outputs": [],
   "source": [
    "#learn.save('stage-med_1')"
   ]
  },
  {
   "cell_type": "code",
   "execution_count": 41,
   "metadata": {},
   "outputs": [],
   "source": [
    "#data_L = (src.transform(get_transforms(), tfm_y=True, size=300)\n",
    "#       .databunch(bs=8)\n",
    "#       .normalize())"
   ]
  },
  {
   "cell_type": "code",
   "execution_count": 42,
   "metadata": {},
   "outputs": [],
   "source": [
    "#learn.load('stage-med_1');"
   ]
  },
  {
   "cell_type": "code",
   "execution_count": 43,
   "metadata": {},
   "outputs": [],
   "source": [
    "#learn.unfreeze()"
   ]
  },
  {
   "cell_type": "code",
   "execution_count": 44,
   "metadata": {},
   "outputs": [],
   "source": [
    "#learn.fit_one_cycle(2, lrs)"
   ]
  },
  {
   "cell_type": "code",
   "execution_count": 45,
   "metadata": {},
   "outputs": [
    {
     "data": {
      "image/png": "[encoded data removed]",
      "text/plain": [
       "<Figure size 576x1440 with 10 Axes>"
      ]
     },
     "metadata": {
      "needs_background": "light"
     },
     "output_type": "display_data"
    }
   ],
   "source": [
    "learn.show_results()"
   ]
  },
  {
   "cell_type": "code",
   "execution_count": 46,
   "metadata": {},
   "outputs": [],
   "source": [
    "from fastai.vision.interpret import *\n",
    "interp = SegmentationInterpretation.from_learner(learn)\n",
    "#interp = Interpretation.from_learner(learn)\n",
    "#interp"
   ]
  },
  {
   "cell_type": "code",
   "execution_count": 47,
   "metadata": {},
   "outputs": [],
   "source": [
    "top_losses, top_idxs = interp.top_losses(sizes=(128,128))"
   ]
  },
  {
   "cell_type": "code",
   "execution_count": 48,
   "metadata": {},
   "outputs": [
    {
     "data": {
      "text/plain": [
       "[0, 1, 2, 3]"
      ]
     },
     "execution_count": 48,
     "metadata": {},
     "output_type": "execute_result"
    }
   ],
   "source": [
    "learn.data.classes"
   ]
  },
  {
   "cell_type": "code",
   "execution_count": 49,
   "metadata": {},
   "outputs": [],
   "source": [
    "mean_cm, single_img_cm = interp._generate_confusion()"
   ]
  },
  {
   "cell_type": "code",
   "execution_count": 50,
   "metadata": {},
   "outputs": [
    {
     "data": {
      "text/html": [
       "<table border=\"1\" class=\"dataframe\">\n",
       "  <thead>\n",
       "    <tr style=\"text-align: right;\">\n",
       "      <th>label</th>\n",
       "      <th>score</th>\n",
       "    </tr>\n",
       "  </thead>\n",
       "  <tbody>\n",
       "    <tr>\n",
       "      <td>0.0</td>\n",
       "      <td>0.994648</td>\n",
       "    </tr>\n",
       "    <tr>\n",
       "      <td>1.0</td>\n",
       "      <td>0.958549</td>\n",
       "    </tr>\n",
       "    <tr>\n",
       "      <td>3.0</td>\n",
       "      <td>0.810278</td>\n",
       "    </tr>\n",
       "    <tr>\n",
       "      <td>2.0</td>\n",
       "      <td>0.802702</td>\n",
       "    </tr>\n",
       "  </tbody>\n",
       "</table>"
      ],
      "text/plain": [
       "<IPython.core.display.HTML object>"
      ]
     },
     "metadata": {},
     "output_type": "display_data"
    },
    {
     "data": {
      "image/png": "[encoded data removed]",
      "text/plain": [
       "<Figure size 720x720 with 2 Axes>"
      ]
     },
     "metadata": {
      "needs_background": "light"
     },
     "output_type": "display_data"
    }
   ],
   "source": [
    "df = interp._plot_intersect_cm(mean_cm, \"Mean of Ratio of Intersection given True Label\")"
   ]
  },
  {
   "cell_type": "code",
   "execution_count": 51,
   "metadata": {},
   "outputs": [
    {
     "data": {
      "text/html": [
       "<table border=\"1\" class=\"dataframe\">\n",
       "  <thead>\n",
       "    <tr style=\"text-align: right;\">\n",
       "      <th>label</th>\n",
       "      <th>score</th>\n",
       "    </tr>\n",
       "  </thead>\n",
       "  <tbody>\n",
       "    <tr>\n",
       "      <td>0.0</td>\n",
       "      <td>0.957767</td>\n",
       "    </tr>\n",
       "    <tr>\n",
       "      <td>1.0</td>\n",
       "      <td>0.940440</td>\n",
       "    </tr>\n",
       "    <tr>\n",
       "      <td>3.0</td>\n",
       "      <td>0.848806</td>\n",
       "    </tr>\n",
       "    <tr>\n",
       "      <td>2.0</td>\n",
       "      <td>0.550536</td>\n",
       "    </tr>\n",
       "  </tbody>\n",
       "</table>"
      ],
      "text/plain": [
       "<IPython.core.display.HTML object>"
      ]
     },
     "metadata": {},
     "output_type": "display_data"
    },
    {
     "data": {
      "image/png": "[encoded data removed]",
      "text/plain": [
       "<Figure size 720x720 with 2 Axes>"
      ]
     },
     "metadata": {
      "needs_background": "light"
     },
     "output_type": "display_data"
    }
   ],
   "source": [
    "# Look at single worst performing picture\n",
    "i = top_idxs[0]\n",
    "df = interp._plot_intersect_cm(single_img_cm[i], f\"Ratio of Intersection given True Label, Image:{i}\")"
   ]
  },
  {
   "cell_type": "code",
   "execution_count": 52,
   "metadata": {},
   "outputs": [],
   "source": [
    "#need to fix type error: TypeError: object of type 'int' has no len()\n",
    "#interp.show_xyz(i, sz=15)"
   ]
  },
  {
   "cell_type": "code",
   "execution_count": null,
   "metadata": {},
   "outputs": [],
   "source": []
  }
 ],
 "metadata": {
  "kernelspec": {
   "display_name": "Python 3",
   "language": "python",
   "name": "python3"
  },
  "language_info": {
   "codemirror_mode": {
    "name": "ipython",
    "version": 3
   },
   "file_extension": ".py",
   "mimetype": "text/x-python",
   "name": "python",
   "nbconvert_exporter": "python",
   "pygments_lexer": "ipython3",
   "version": "3.7.4"
  }
 },
 "nbformat": 4,
 "nbformat_minor": 2
}
